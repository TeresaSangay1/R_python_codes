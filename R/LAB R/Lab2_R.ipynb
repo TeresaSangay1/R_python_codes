{
 "cells": [
  {
   "cell_type": "markdown",
   "metadata": {},
   "source": [
    "# 1.  IF condition\n",
    "\n",
    "<font size = \"5\"> Features </font>\n",
    "\n",
    "\n",
    "We are going to cover certain functions necessary to be able to write ours. for\n",
    "1. We will learn to use the **if** function.\n",
    "2. We will see the types of **Loops** in R.\n",
    "3. Structure of a **function**.\n"
   ]
  },
  {
   "cell_type": "markdown",
   "metadata": {},
   "source": [
    "# If condition\n",
    "\n",
    "Function **if** test conditions. \n",
    "- Equals: a == b\n",
    "- Not Equals: a != b\n",
    "- Less than: a < b\n",
    "- Less than or equal to: a <= b\n",
    "- Greater than: a > b\n",
    "- Greater than or equal to: a >= b\n",
    "\n",
    "<img src=\"../images/if_R.png\" alt=\"image info\" />"
   ]
  },
  {
   "cell_type": "markdown",
   "metadata": {},
   "source": [
    "### The structure of the code is the following: <br><br>\n",
    "\n",
    "<font size=\"4\">\n",
    "if <font color='green'>test expresion</font>:<br>\n",
    "&nbsp;&nbsp;&nbsp;&nbsp;Code to excute<br>\n",
    "</font>\n",
    "\n",
    "The function **if** tests the veracity of a logic expression. The result of test statement should be a **<font color='red'>boolean</font>**. In other words, the output of the test statemen must be **<font color='red'>True</font>** or **<font color='red'>False</font>**. To sum, any function that its output is **boolean** can be used as a test expression in the **if** function."
   ]
  },
  {
   "cell_type": "code",
   "execution_count": 1,
   "metadata": {},
   "outputs": [],
   "source": [
    "library(glue)"
   ]
  },
  {
   "cell_type": "code",
   "execution_count": 2,
   "metadata": {},
   "outputs": [
    {
     "data": {
      "text/html": [
       "<span style=white-space:pre-wrap>'result A == B  FALSE '</span>"
      ],
      "text/latex": [
       "'result A == B  FALSE '"
      ],
      "text/markdown": [
       "<span style=white-space:pre-wrap>'result A == B  FALSE '</span>"
      ],
      "text/plain": [
       "result A == B  FALSE "
      ]
     },
     "metadata": {},
     "output_type": "display_data"
    },
    {
     "data": {
      "text/html": [
       "<span style=white-space:pre-wrap>'result A != B   TRUE '</span>"
      ],
      "text/latex": [
       "'result A != B   TRUE '"
      ],
      "text/markdown": [
       "<span style=white-space:pre-wrap>'result A != B   TRUE '</span>"
      ],
      "text/plain": [
       "result A != B   TRUE "
      ]
     },
     "metadata": {},
     "output_type": "display_data"
    },
    {
     "data": {
      "text/html": [
       "<span style=white-space:pre-wrap>'result A &gt; B  FALSE '</span>"
      ],
      "text/latex": [
       "'result A > B  FALSE '"
      ],
      "text/markdown": [
       "<span style=white-space:pre-wrap>'result A &gt; B  FALSE '</span>"
      ],
      "text/plain": [
       "result A > B  FALSE "
      ]
     },
     "metadata": {},
     "output_type": "display_data"
    }
   ],
   "source": [
    "A <- 20\n",
    "B <- 30\n",
    "\n",
    "result <- A == B\n",
    "glue( 'result A == B  {result} \\n')\n",
    "\n",
    "result <- A != B\n",
    "glue('result A != B   {result} \\n' )\n",
    "\n",
    "result <- A > B\n",
    "glue('result A > B  {result} \\n')"
   ]
  },
  {
   "cell_type": "markdown",
   "metadata": {},
   "source": [
    "## Test more than 1 expression\n",
    "\n",
    "We will use **elif**. This function allows us to add more test expressions.  <br><br>\n",
    "\n",
    "\n",
    "<img src=\"../images/eslse_if_R.png\" alt=\"image info\" />"
   ]
  },
  {
   "cell_type": "code",
   "execution_count": 3,
   "metadata": {},
   "outputs": [
    {
     "name": "stdout",
     "output_type": "stream",
     "text": [
      "[1] \"Test expresion 4 is True\"\n"
     ]
    }
   ],
   "source": [
    "A <- 20\n",
    "B <- 30\n",
    "\n",
    "if (A == B){\n",
    "    print( 'Test expresion 1 is True' )\n",
    "    \n",
    "} else if(A > B) {\n",
    "    print( 'Test expresion 2 is True' )\n",
    "\n",
    "} else if(A >= B) {\n",
    "    print( 'Test expresion 3 is True' )\n",
    "    \n",
    "} else if(A < B){\n",
    "    print( 'Test expresion 4 is True' )\n",
    "\n",
    "} else if(A <= B){\n",
    "    print( 'Test expresion 5 is True' )\n",
    "    \n",
    "} else {\n",
    "    \n",
    "        print( 'Test expresion 6 is True' )\n",
    "    }"
   ]
  },
  {
   "cell_type": "markdown",
   "metadata": {},
   "source": [
    "# R Nested if Statement"
   ]
  },
  {
   "cell_type": "code",
   "execution_count": 40,
   "metadata": {
    "scrolled": true
   },
   "outputs": [
    {
     "name": "stdout",
     "output_type": "stream",
     "text": [
      "[1] \"Shipping Cost is $25\"\n"
     ]
    }
   ],
   "source": [
    "total <- 100\n",
    "#country = \"PE\"\n",
    "country <- \"PE\"\n",
    "\n",
    "\n",
    "if (country == \"PE\"){\n",
    "    \n",
    "    if(total <= 50){\n",
    "    print(\"Shipping Cost is  $50\")\n",
    "    } else if( total <= 100){\n",
    "    print(\"Shipping Cost is $25\")\n",
    "    } else if(total <= 150){\n",
    "    print(\"Shipping Costs $5\")          \n",
    "    } else {\n",
    "      print(\"FREE\")\n",
    "    }\n",
    "}\n",
    "        \n",
    "if (country == \"AR\"){\n",
    "    if (total <= 50){\n",
    "      print(\"Shipping Cost is  $100\")  \n",
    "    }\n",
    "    else{\n",
    "        print(\"BAD\")\n",
    "        }\n",
    "    }"
   ]
  },
  {
   "cell_type": "markdown",
   "metadata": {},
   "source": [
    "# Conclusion\n",
    "\n",
    "The **if** function is not only useful with logical expressions, but also with functions whose result is a **<font color = 'red' > Boolean </font>** (**True** or **False**).<br>\n",
    "For example, the **isinstance** function evaluates whether a variable is string, bool, int, float and returns a Boolean (True or False) as a result. For more information [here](https://docs.python.org/3/library/functions.html#isinstance). <br>"
   ]
  },
  {
   "cell_type": "markdown",
   "metadata": {},
   "source": [
    "# Loops\n",
    "Un loop es una función que permite realizar tareas de manera iterativa cierto número de veces (for loop) o mientras una condición sea verdadera (while loop).\n",
    "\n",
    "## While Loop\n",
    "Repite el código mientras la condición se mantenga verdadera. Cuando la expresión lógica sea falsa, el código terminará de ejecutarse. [More Info](https://python101.pythonlibrary.org/chapter5_loops.html)\n",
    "<img src=\"../images\\while_loop.jpg\">"
   ]
  },
  {
   "cell_type": "code",
   "execution_count": 5,
   "metadata": {},
   "outputs": [
    {
     "name": "stdout",
     "output_type": "stream",
     "text": [
      "[1] 1\n",
      "[1] 2\n",
      "[1] 3\n",
      "[1] 4\n",
      "[1] 5\n"
     ]
    }
   ],
   "source": [
    "i <- 1 #contador\n",
    "\n",
    "# condition \"i < 6\"\n",
    "while (i < 6){\n",
    "      # print i\n",
    "    print(i)\n",
    "    \n",
    "    #breand and ends code\n",
    "    i = 1 + i    \n",
    "}\n"
   ]
  },
  {
   "cell_type": "code",
   "execution_count": 7,
   "metadata": {},
   "outputs": [
    {
     "name": "stdout",
     "output_type": "stream",
     "text": [
      "numeric(0)\n",
      "[1] 3\n",
      "[1] 6\n",
      "[1] 7\n",
      "[1] 10\n",
      "[1] 15\n",
      "[1] 17\n",
      "[1] 18\n",
      "[1] 31\n",
      "[1] 26\n",
      "[1] 88\n"
     ]
    }
   ],
   "source": [
    "edad <- c(3, 6, 7, 10, 15, 17, 18, 31, 26, 88 , 100, 120, 110)\n",
    "\n",
    "# Utilizaremos el paquete np.\n",
    "\n",
    "i = 0\n",
    "\n",
    "while (i < length(edad)-2){\n",
    "        print(edad[i])\n",
    "            i = 1 + i  \n",
    "}\n",
    "    "
   ]
  },
  {
   "cell_type": "markdown",
   "metadata": {},
   "source": [
    "### If I have my savings today of S/.1,000.00. How much will my savings be worth in 10 years at an interest rate of 2.5%?"
   ]
  },
  {
   "cell_type": "markdown",
   "metadata": {},
   "source": [
    "$$\n",
    "S_{y+1}\t=S_{y}(1+i)\n",
    "$$"
   ]
  },
  {
   "cell_type": "code",
   "execution_count": 20,
   "metadata": {},
   "outputs": [],
   "source": [
    "S <- 1000 #  saves\n",
    "\n",
    "n <- 10  #periods\n",
    "\n",
    "i <- 0.025 #interest rate"
   ]
  },
  {
   "cell_type": "code",
   "execution_count": null,
   "metadata": {},
   "outputs": [],
   "source": [
    "year = 1\n",
    "while (year < n){\n",
    "    S <-  S*(1+i)\n",
    "    year <-  year + 1\n",
    "    print(glue( \"periodo {year} : {S}\"))\n",
    "    }"
   ]
  },
  {
   "cell_type": "code",
   "execution_count": null,
   "metadata": {},
   "outputs": [],
   "source": [
    "A <- c(1, 2, 3, 4, 5)\n",
    "\n",
    "i=0\n",
    "while (A[i] < 4){\n",
    "    print(A[i])\n",
    "        i=1+i\n",
    "}"
   ]
  },
  {
   "cell_type": "markdown",
   "metadata": {},
   "source": [
    "### Dataframe and conditional "
   ]
  },
  {
   "cell_type": "code",
   "execution_count": 16,
   "metadata": {
    "scrolled": false
   },
   "outputs": [
    {
     "data": {
      "text/html": [
       "<table>\n",
       "<thead><tr><th scope=col>nombres</th><th scope=col>edad</th></tr></thead>\n",
       "<tbody>\n",
       "\t<tr><td>Marcelo</td><td> 23    </td></tr>\n",
       "\t<tr><td>Octavio</td><td> 25    </td></tr>\n",
       "\t<tr><td>Fredy  </td><td> 36    </td></tr>\n",
       "\t<tr><td>Felipe </td><td> 78    </td></tr>\n",
       "\t<tr><td>Arturo </td><td> 90    </td></tr>\n",
       "\t<tr><td>Anzony </td><td> 32    </td></tr>\n",
       "\t<tr><td>Finado </td><td>200    </td></tr>\n",
       "\t<tr><td>Alex   </td><td> 24    </td></tr>\n",
       "\t<tr><td>Anny   </td><td> 12    </td></tr>\n",
       "\t<tr><td>Yampi  </td><td> 10    </td></tr>\n",
       "</tbody>\n",
       "</table>\n"
      ],
      "text/latex": [
       "\\begin{tabular}{r|ll}\n",
       " nombres & edad\\\\\n",
       "\\hline\n",
       "\t Marcelo &  23    \\\\\n",
       "\t Octavio &  25    \\\\\n",
       "\t Fredy   &  36    \\\\\n",
       "\t Felipe  &  78    \\\\\n",
       "\t Arturo  &  90    \\\\\n",
       "\t Anzony  &  32    \\\\\n",
       "\t Finado  & 200    \\\\\n",
       "\t Alex    &  24    \\\\\n",
       "\t Anny    &  12    \\\\\n",
       "\t Yampi   &  10    \\\\\n",
       "\\end{tabular}\n"
      ],
      "text/markdown": [
       "\n",
       "| nombres | edad |\n",
       "|---|---|\n",
       "| Marcelo |  23     |\n",
       "| Octavio |  25     |\n",
       "| Fredy   |  36     |\n",
       "| Felipe  |  78     |\n",
       "| Arturo  |  90     |\n",
       "| Anzony  |  32     |\n",
       "| Finado  | 200     |\n",
       "| Alex    |  24     |\n",
       "| Anny    |  12     |\n",
       "| Yampi   |  10     |\n",
       "\n"
      ],
      "text/plain": [
       "   nombres edad\n",
       "1  Marcelo  23 \n",
       "2  Octavio  25 \n",
       "3  Fredy    36 \n",
       "4  Felipe   78 \n",
       "5  Arturo   90 \n",
       "6  Anzony   32 \n",
       "7  Finado  200 \n",
       "8  Alex     24 \n",
       "9  Anny     12 \n",
       "10 Yampi    10 "
      ]
     },
     "metadata": {},
     "output_type": "display_data"
    }
   ],
   "source": [
    "personas <- data.frame(\n",
    "  \"nombres\" = c('Marcelo', 'Octavio', 'Fredy', 'Felipe', 'Arturo', 'Anzony', 'Finado', 'Alex', 'Anny', 'Yampi'), \n",
    "  \"edad\" = c(23, 25, 36, 78, 90, 32, 200, 24, 12, 10)\n",
    ")\n",
    "\n",
    "personas"
   ]
  },
  {
   "cell_type": "code",
   "execution_count": 17,
   "metadata": {},
   "outputs": [
    {
     "data": {
      "text/html": [
       "<ol class=list-inline>\n",
       "\t<li>Marcelo</li>\n",
       "\t<li>Octavio</li>\n",
       "\t<li>Fredy</li>\n",
       "\t<li>Felipe</li>\n",
       "\t<li>Arturo</li>\n",
       "\t<li>Anzony</li>\n",
       "\t<li>Finado</li>\n",
       "\t<li>Alex</li>\n",
       "\t<li>Anny</li>\n",
       "\t<li>Yampi</li>\n",
       "</ol>\n",
       "\n",
       "<details>\n",
       "\t<summary style=display:list-item;cursor:pointer>\n",
       "\t\t<strong>Levels</strong>:\n",
       "\t</summary>\n",
       "\t<ol class=list-inline>\n",
       "\t\t<li>'Alex'</li>\n",
       "\t\t<li>'Anny'</li>\n",
       "\t\t<li>'Anzony'</li>\n",
       "\t\t<li>'Arturo'</li>\n",
       "\t\t<li>'Felipe'</li>\n",
       "\t\t<li>'Finado'</li>\n",
       "\t\t<li>'Fredy'</li>\n",
       "\t\t<li>'Marcelo'</li>\n",
       "\t\t<li>'Octavio'</li>\n",
       "\t\t<li>'Yampi'</li>\n",
       "\t</ol>\n",
       "</details>"
      ],
      "text/latex": [
       "\\begin{enumerate*}\n",
       "\\item Marcelo\n",
       "\\item Octavio\n",
       "\\item Fredy\n",
       "\\item Felipe\n",
       "\\item Arturo\n",
       "\\item Anzony\n",
       "\\item Finado\n",
       "\\item Alex\n",
       "\\item Anny\n",
       "\\item Yampi\n",
       "\\end{enumerate*}\n",
       "\n",
       "\\emph{Levels}: \\begin{enumerate*}\n",
       "\\item 'Alex'\n",
       "\\item 'Anny'\n",
       "\\item 'Anzony'\n",
       "\\item 'Arturo'\n",
       "\\item 'Felipe'\n",
       "\\item 'Finado'\n",
       "\\item 'Fredy'\n",
       "\\item 'Marcelo'\n",
       "\\item 'Octavio'\n",
       "\\item 'Yampi'\n",
       "\\end{enumerate*}\n"
      ],
      "text/markdown": [
       "1. Marcelo\n",
       "2. Octavio\n",
       "3. Fredy\n",
       "4. Felipe\n",
       "5. Arturo\n",
       "6. Anzony\n",
       "7. Finado\n",
       "8. Alex\n",
       "9. Anny\n",
       "10. Yampi\n",
       "\n",
       "\n",
       "\n",
       "**Levels**: 1. 'Alex'\n",
       "2. 'Anny'\n",
       "3. 'Anzony'\n",
       "4. 'Arturo'\n",
       "5. 'Felipe'\n",
       "6. 'Finado'\n",
       "7. 'Fredy'\n",
       "8. 'Marcelo'\n",
       "9. 'Octavio'\n",
       "10. 'Yampi'\n",
       "\n",
       "\n"
      ],
      "text/plain": [
       " [1] Marcelo Octavio Fredy   Felipe  Arturo  Anzony  Finado  Alex    Anny   \n",
       "[10] Yampi  \n",
       "10 Levels: Alex Anny Anzony Arturo Felipe Finado Fredy Marcelo ... Yampi"
      ]
     },
     "metadata": {},
     "output_type": "display_data"
    }
   ],
   "source": [
    "personas$nombres  # sacar info de una columna / vector"
   ]
  },
  {
   "cell_type": "code",
   "execution_count": 18,
   "metadata": {
    "scrolled": true
   },
   "outputs": [
    {
     "data": {
      "text/html": [
       "Marcelo\n",
       "<details>\n",
       "\t<summary style=display:list-item;cursor:pointer>\n",
       "\t\t<strong>Levels</strong>:\n",
       "\t</summary>\n",
       "\t<ol class=list-inline>\n",
       "\t\t<li>'Alex'</li>\n",
       "\t\t<li>'Anny'</li>\n",
       "\t\t<li>'Anzony'</li>\n",
       "\t\t<li>'Arturo'</li>\n",
       "\t\t<li>'Felipe'</li>\n",
       "\t\t<li>'Finado'</li>\n",
       "\t\t<li>'Fredy'</li>\n",
       "\t\t<li>'Marcelo'</li>\n",
       "\t\t<li>'Octavio'</li>\n",
       "\t\t<li>'Yampi'</li>\n",
       "\t</ol>\n",
       "</details>"
      ],
      "text/latex": [
       "Marcelo\n",
       "\\emph{Levels}: \\begin{enumerate*}\n",
       "\\item 'Alex'\n",
       "\\item 'Anny'\n",
       "\\item 'Anzony'\n",
       "\\item 'Arturo'\n",
       "\\item 'Felipe'\n",
       "\\item 'Finado'\n",
       "\\item 'Fredy'\n",
       "\\item 'Marcelo'\n",
       "\\item 'Octavio'\n",
       "\\item 'Yampi'\n",
       "\\end{enumerate*}\n"
      ],
      "text/markdown": [
       "Marcelo\n",
       "**Levels**: 1. 'Alex'\n",
       "2. 'Anny'\n",
       "3. 'Anzony'\n",
       "4. 'Arturo'\n",
       "5. 'Felipe'\n",
       "6. 'Finado'\n",
       "7. 'Fredy'\n",
       "8. 'Marcelo'\n",
       "9. 'Octavio'\n",
       "10. 'Yampi'\n",
       "\n",
       "\n"
      ],
      "text/plain": [
       "[1] Marcelo\n",
       "10 Levels: Alex Anny Anzony Arturo Felipe Finado Fredy Marcelo ... Yampi"
      ]
     },
     "metadata": {},
     "output_type": "display_data"
    }
   ],
   "source": [
    "personas$nombres[1]  #saca solo el primer datosb"
   ]
  },
  {
   "cell_type": "code",
   "execution_count": 19,
   "metadata": {},
   "outputs": [
    {
     "data": {
      "text/html": [
       "<ol class=list-inline>\n",
       "\t<li>10</li>\n",
       "\t<li>2</li>\n",
       "</ol>\n"
      ],
      "text/latex": [
       "\\begin{enumerate*}\n",
       "\\item 10\n",
       "\\item 2\n",
       "\\end{enumerate*}\n"
      ],
      "text/markdown": [
       "1. 10\n",
       "2. 2\n",
       "\n",
       "\n"
      ],
      "text/plain": [
       "[1] 10  2"
      ]
     },
     "metadata": {},
     "output_type": "display_data"
    }
   ],
   "source": [
    "dim(personas) # da  numero de filas y columnas\n",
    "#dim(personas)[1][2] # da posición del dato en fila 1 y columna 2 "
   ]
  },
  {
   "cell_type": "code",
   "execution_count": 20,
   "metadata": {
    "scrolled": true
   },
   "outputs": [],
   "source": [
    "#personas <- personas$newvariable #crea variable vacía"
   ]
  },
  {
   "cell_type": "code",
   "execution_count": 21,
   "metadata": {},
   "outputs": [
    {
     "name": "stdout",
     "output_type": "stream",
     "text": [
      "[1] \"Que fue loco fantasmas\"\n"
     ]
    }
   ],
   "source": [
    "i <-1\n",
    "\n",
    "nrows = length(personas$edad) #nrows = dim(personas)[1]\n",
    "\n",
    "#números de filas es 10\n",
    "\n",
    "while (i < nrows){\n",
    "     if (personas$edad[i] > 100){\n",
    "        print('Que fue loco fantasmas')\n",
    "    }\n",
    "    else if (personas$edad[i] < 18){\n",
    "      personas$pasa[i] = \"Menor de edad\"   #crear columna y agregar texto\n",
    "    } else {\n",
    "        personas$pasa[i] = \"OK\"   \n",
    "        }\n",
    "    i <- i + 1 \n",
    "}"
   ]
  },
  {
   "cell_type": "code",
   "execution_count": 22,
   "metadata": {},
   "outputs": [
    {
     "data": {
      "text/html": [
       "<table>\n",
       "<thead><tr><th scope=col>nombres</th><th scope=col>edad</th><th scope=col>pasa</th></tr></thead>\n",
       "<tbody>\n",
       "\t<tr><td>Marcelo      </td><td> 23          </td><td>OK           </td></tr>\n",
       "\t<tr><td>Octavio      </td><td> 25          </td><td>OK           </td></tr>\n",
       "\t<tr><td>Fredy        </td><td> 36          </td><td>OK           </td></tr>\n",
       "\t<tr><td>Felipe       </td><td> 78          </td><td>OK           </td></tr>\n",
       "\t<tr><td>Arturo       </td><td> 90          </td><td>OK           </td></tr>\n",
       "\t<tr><td>Anzony       </td><td> 32          </td><td>OK           </td></tr>\n",
       "\t<tr><td>Finado       </td><td>200          </td><td>OK           </td></tr>\n",
       "\t<tr><td>Alex         </td><td> 24          </td><td>OK           </td></tr>\n",
       "\t<tr><td>Anny         </td><td> 12          </td><td>Menor de edad</td></tr>\n",
       "\t<tr><td>Yampi        </td><td> 10          </td><td>OK           </td></tr>\n",
       "</tbody>\n",
       "</table>\n"
      ],
      "text/latex": [
       "\\begin{tabular}{r|lll}\n",
       " nombres & edad & pasa\\\\\n",
       "\\hline\n",
       "\t Marcelo       &  23           & OK           \\\\\n",
       "\t Octavio       &  25           & OK           \\\\\n",
       "\t Fredy         &  36           & OK           \\\\\n",
       "\t Felipe        &  78           & OK           \\\\\n",
       "\t Arturo        &  90           & OK           \\\\\n",
       "\t Anzony        &  32           & OK           \\\\\n",
       "\t Finado        & 200           & OK           \\\\\n",
       "\t Alex          &  24           & OK           \\\\\n",
       "\t Anny          &  12           & Menor de edad\\\\\n",
       "\t Yampi         &  10           & OK           \\\\\n",
       "\\end{tabular}\n"
      ],
      "text/markdown": [
       "\n",
       "| nombres | edad | pasa |\n",
       "|---|---|---|\n",
       "| Marcelo       |  23           | OK            |\n",
       "| Octavio       |  25           | OK            |\n",
       "| Fredy         |  36           | OK            |\n",
       "| Felipe        |  78           | OK            |\n",
       "| Arturo        |  90           | OK            |\n",
       "| Anzony        |  32           | OK            |\n",
       "| Finado        | 200           | OK            |\n",
       "| Alex          |  24           | OK            |\n",
       "| Anny          |  12           | Menor de edad |\n",
       "| Yampi         |  10           | OK            |\n",
       "\n"
      ],
      "text/plain": [
       "   nombres edad pasa         \n",
       "1  Marcelo  23  OK           \n",
       "2  Octavio  25  OK           \n",
       "3  Fredy    36  OK           \n",
       "4  Felipe   78  OK           \n",
       "5  Arturo   90  OK           \n",
       "6  Anzony   32  OK           \n",
       "7  Finado  200  OK           \n",
       "8  Alex     24  OK           \n",
       "9  Anny     12  Menor de edad\n",
       "10 Yampi    10  OK           "
      ]
     },
     "metadata": {},
     "output_type": "display_data"
    }
   ],
   "source": [
    "personas"
   ]
  },
  {
   "cell_type": "markdown",
   "metadata": {},
   "source": [
    "# 2. For loops\n",
    "\n",
    "\n",
    "A for loop is used for iterating over a sequence. It executes a code a definite number of times. It has the following structure:\n",
    "\n",
    "<img src=\"../images/for_loop.jpg\" alt=\"image info\" />\n"
   ]
  },
  {
   "cell_type": "code",
   "execution_count": 62,
   "metadata": {},
   "outputs": [
    {
     "name": "stdout",
     "output_type": "stream",
     "text": [
      "[1] 31\n",
      "[1] 33\n",
      "[1] 35\n",
      "[1] 34\n",
      "[1] 30\n"
     ]
    }
   ],
   "source": [
    "ages = c(21, 23, 25, 24, 20)\n",
    "\n",
    "for (age in ages) {\n",
    "      print(age+10 )  \n",
    "}"
   ]
  },
  {
   "cell_type": "code",
   "execution_count": 24,
   "metadata": {},
   "outputs": [
    {
     "name": "stderr",
     "output_type": "stream",
     "text": [
      "Warning message in file(file, \"rt\"):\n",
      "\"no fue posible abrir el archivo '../../data/production_fish.csv': No such file or directory\""
     ]
    },
    {
     "ename": "ERROR",
     "evalue": "Error in file(file, \"rt\"): no se puede abrir la conexión\n",
     "output_type": "error",
     "traceback": [
      "Error in file(file, \"rt\"): no se puede abrir la conexión\nTraceback:\n",
      "1. read.csv(\"../../data/production_fish.csv\")",
      "2. read.table(file = file, header = header, sep = sep, quote = quote, \n .     dec = dec, fill = fill, comment.char = comment.char, ...)",
      "3. file(file, \"rt\")"
     ]
    }
   ],
   "source": [
    "production_fish = read.csv(\"../../data/production_fish.csv\" ) #subir base de datos\n",
    "\n",
    "# ../ -> salir de la carpeta\n",
    "#data -> carpeta data\n",
    "#production_fish.csv -> archivo "
   ]
  },
  {
   "cell_type": "code",
   "execution_count": null,
   "metadata": {},
   "outputs": [],
   "source": [
    "production_fish"
   ]
  },
  {
   "cell_type": "code",
   "execution_count": null,
   "metadata": {},
   "outputs": [],
   "source": [
    "names(production_fish) #obtner los nomvres de la variable production_fish"
   ]
  },
  {
   "cell_type": "code",
   "execution_count": null,
   "metadata": {},
   "outputs": [],
   "source": [
    "colums <- names(production_fish)[(-1)] #elimina primera variable"
   ]
  },
  {
   "cell_type": "code",
   "execution_count": null,
   "metadata": {},
   "outputs": [],
   "source": [
    "colums"
   ]
  },
  {
   "cell_type": "code",
   "execution_count": null,
   "metadata": {
    "scrolled": false
   },
   "outputs": [],
   "source": [
    "head(production_fish)"
   ]
  },
  {
   "cell_type": "code",
   "execution_count": 26,
   "metadata": {},
   "outputs": [
    {
     "ename": "ERROR",
     "evalue": "Error in production_fish$new <- 1: objeto 'production_fish' no encontrado\n",
     "output_type": "error",
     "traceback": [
      "Error in production_fish$new <- 1: objeto 'production_fish' no encontrado\nTraceback:\n"
     ]
    }
   ],
   "source": [
    "production_fish$new <- 1  #crea columna de 1s\n",
    "\n",
    "production_fish"
   ]
  },
  {
   "cell_type": "code",
   "execution_count": 128,
   "metadata": {},
   "outputs": [
    {
     "name": "stdout",
     "output_type": "stream",
     "text": [
      "Consumo.Industrial...Anchoveta\n",
      "Consumo.Humano...Congelado...Concha.de.abanico\n",
      "Consumo.Humano...Congelado...Langostino\n",
      "Consumo.Humano...Congelado...Merluza\n",
      "Consumo.Humano...Congelado...Calamar.gigante\n",
      "Consumo.Humano...Conservas...AtÃºn\n",
      "Consumo.Humano...Conservas...Caballa\n",
      "Consumo.Humano...Conservas...Jurel\n",
      "Consumo.Humano...Conservas...Sardina\n",
      "Consumo.Humano...Fresco...Concha.de.abanico\n",
      "Consumo.Humano...Fresco...Jurel\n",
      "Consumo.Humano...Fresco...Liza\n",
      "Consumo.Humano...Fresco...Tollo\n",
      "total_production\n"
     ]
    }
   ],
   "source": [
    "for (col in colums){\n",
    "    print(glue('{col}'))\n",
    "    }"
   ]
  },
  {
   "cell_type": "code",
   "execution_count": 27,
   "metadata": {},
   "outputs": [
    {
     "ename": "ERROR",
     "evalue": "Error in eval(expr, envir, enclos): objeto 'colums' no encontrado\n",
     "output_type": "error",
     "traceback": [
      "Error in eval(expr, envir, enclos): objeto 'colums' no encontrado\nTraceback:\n"
     ]
    }
   ],
   "source": [
    "for (col in colums){\n",
    "    production_fish[col] <- (production_fish[col] * 100) / production_fish$total_production\n",
    "    }\n",
    "\n",
    "#este for no genera nuevas variables, el error está en que no se reconoce col como creación de una nueva variable"
   ]
  },
  {
   "cell_type": "code",
   "execution_count": null,
   "metadata": {},
   "outputs": [],
   "source": [
    "library(glue)\n",
    "glue('{col}_%')\n",
    "\n",
    "for (col in colums){\n",
    "    production_fish[glue('{col}_%')] <- (production_fish[glue('{col}_%')] * 100) / production_fish$total_production\n",
    "    }\n",
    "\n",
    "# se extrae info de cada columna \n",
    "# ahora col cambia de nombre cada que corrre for\n",
    "# se crean nuevas columnas \n"
   ]
  },
  {
   "cell_type": "code",
   "execution_count": 130,
   "metadata": {
    "scrolled": true
   },
   "outputs": [
    {
     "data": {
      "text/html": [
       "<table class=\"dataframe\">\n",
       "<caption>A data.frame: 16 × 29</caption>\n",
       "<thead>\n",
       "\t<tr><th scope=col>year</th><th scope=col>Consumo.Industrial...Anchoveta</th><th scope=col>Consumo.Humano...Congelado...Concha.de.abanico</th><th scope=col>Consumo.Humano...Congelado...Langostino</th><th scope=col>Consumo.Humano...Congelado...Merluza</th><th scope=col>Consumo.Humano...Congelado...Calamar.gigante</th><th scope=col>Consumo.Humano...Conservas...AtÃºn</th><th scope=col>Consumo.Humano...Conservas...Caballa</th><th scope=col>Consumo.Humano...Conservas...Jurel</th><th scope=col>Consumo.Humano...Conservas...Sardina</th><th scope=col>...</th><th scope=col>Consumo.Humano...Congelado...Calamar.gigante_%</th><th scope=col>Consumo.Humano...Conservas...AtÃºn_%</th><th scope=col>Consumo.Humano...Conservas...Caballa_%</th><th scope=col>Consumo.Humano...Conservas...Jurel_%</th><th scope=col>Consumo.Humano...Conservas...Sardina_%</th><th scope=col>Consumo.Humano...Fresco...Concha.de.abanico_%</th><th scope=col>Consumo.Humano...Fresco...Jurel_%</th><th scope=col>Consumo.Humano...Fresco...Liza_%</th><th scope=col>Consumo.Humano...Fresco...Tollo_%</th><th scope=col>total_production_%</th></tr>\n",
       "\t<tr><th scope=col>&lt;int&gt;</th><th scope=col>&lt;dbl&gt;</th><th scope=col>&lt;dbl&gt;</th><th scope=col>&lt;dbl&gt;</th><th scope=col>&lt;dbl&gt;</th><th scope=col>&lt;dbl&gt;</th><th scope=col>&lt;dbl&gt;</th><th scope=col>&lt;dbl&gt;</th><th scope=col>&lt;dbl&gt;</th><th scope=col>&lt;dbl&gt;</th><th scope=col>...</th><th scope=col>&lt;dbl&gt;</th><th scope=col>&lt;dbl&gt;</th><th scope=col>&lt;dbl&gt;</th><th scope=col>&lt;dbl&gt;</th><th scope=col>&lt;dbl&gt;</th><th scope=col>&lt;dbl&gt;</th><th scope=col>&lt;dbl&gt;</th><th scope=col>&lt;dbl&gt;</th><th scope=col>&lt;dbl&gt;</th><th scope=col>&lt;dbl&gt;</th></tr>\n",
       "</thead>\n",
       "<tbody>\n",
       "\t<tr><td>2005</td><td>8628.396</td><td>13.53700</td><td> 9.02100</td><td>23.27900</td><td>235.6300</td><td> 9.877000</td><td>25.711000</td><td> 20.481000</td><td>0.16500000</td><td>...</td><td> 2.609294</td><td>0.10937484</td><td>0.2847156</td><td>0.22680024</td><td>1.827159e-03</td><td>0.02040970</td><td>0.6219863</td><td>0.06506457</td><td>0.004761687</td><td>100</td></tr>\n",
       "\t<tr><td>2006</td><td>5891.838</td><td>14.71400</td><td>11.29500</td><td>25.18900</td><td>365.7290</td><td>11.336000</td><td>58.245000</td><td>122.904000</td><td>0.04800000</td><td>...</td><td> 5.502230</td><td>0.17054508</td><td>0.8762701</td><td>1.84903601</td><td>7.221386e-04</td><td>0.06090036</td><td>2.0585014</td><td>0.04763106</td><td>0.023830575</td><td>100</td></tr>\n",
       "\t<tr><td>2007</td><td>6084.713</td><td>19.93700</td><td>13.54800</td><td>28.35849</td><td>379.5566</td><td> 3.713293</td><td>26.248739</td><td> 82.910307</td><td>0.00102000</td><td>...</td><td> 5.589236</td><td>0.05468083</td><td>0.3865310</td><td>1.22091218</td><td>1.502021e-05</td><td>0.07102191</td><td>1.9863099</td><td>0.13720850</td><td>0.041746742</td><td>100</td></tr>\n",
       "\t<tr><td>2008</td><td>6159.387</td><td>18.79000</td><td>12.81700</td><td>26.34840</td><td>484.1621</td><td> 3.283711</td><td>47.694121</td><td> 58.864202</td><td>0.00000000</td><td>...</td><td> 7.006976</td><td>0.04752310</td><td>0.6902473</td><td>0.85190492</td><td>0.000000e+00</td><td>0.01198584</td><td>1.1591344</td><td>0.21005286</td><td>0.042452694</td><td>100</td></tr>\n",
       "\t<tr><td>2009</td><td>5828.636</td><td>24.63437</td><td>11.87740</td><td>36.77476</td><td>355.1066</td><td> 2.017061</td><td>51.355908</td><td> 14.289041</td><td>0.00000000</td><td>...</td><td> 5.552894</td><td>0.03154131</td><td>0.8030656</td><td>0.22344144</td><td>0.000000e+00</td><td>0.02882060</td><td>0.7361893</td><td>0.27070197</td><td>0.063454207</td><td>100</td></tr>\n",
       "\t<tr><td>2010</td><td>3330.413</td><td>60.00125</td><td>14.47794</td><td>25.64770</td><td>327.5719</td><td> 9.182845</td><td> 9.729522</td><td>  5.774274</td><td>0.00000000</td><td>...</td><td> 8.596043</td><td>0.24097343</td><td>0.2553192</td><td>0.15152675</td><td>0.000000e+00</td><td>0.07412620</td><td>0.2730431</td><td>0.25471143</td><td>0.131069716</td><td>100</td></tr>\n",
       "\t<tr><td>2011</td><td>7000.093</td><td>92.02764</td><td>23.38448</td><td>28.54446</td><td>373.1957</td><td> 6.586856</td><td>20.478814</td><td> 83.277943</td><td>0.05446333</td><td>...</td><td> 4.834589</td><td>0.08532989</td><td>0.2652942</td><td>1.07882993</td><td>7.055490e-04</td><td>0.01131102</td><td>0.9451022</td><td>0.15707167</td><td>0.073679378</td><td>100</td></tr>\n",
       "\t<tr><td>2012</td><td>3693.871</td><td>38.93339</td><td>22.70722</td><td>21.05478</td><td>457.0727</td><td> 1.115060</td><td> 9.978510</td><td> 43.693940</td><td>0.08846000</td><td>...</td><td>10.426908</td><td>0.02543715</td><td>0.2276334</td><td>0.99676202</td><td>2.017982e-03</td><td>0.01698631</td><td>1.6637163</td><td>0.39151535</td><td>0.096619026</td><td>100</td></tr>\n",
       "\t<tr><td>2013</td><td>4754.118</td><td>89.29328</td><td>19.11137</td><td>31.18746</td><td>410.7595</td><td> 7.136436</td><td>26.600553</td><td>  7.197624</td><td>0.00000000</td><td>...</td><td> 7.580665</td><td>0.13170463</td><td>0.4909196</td><td>0.13283387</td><td>0.000000e+00</td><td>0.04023707</td><td>1.0049715</td><td>0.23125928</td><td>0.072817863</td><td>100</td></tr>\n",
       "\t<tr><td>2014</td><td>2255.453</td><td>52.26650</td><td>21.76299</td><td>30.77080</td><td>465.0076</td><td> 4.734540</td><td>29.576440</td><td>  8.882560</td><td>0.00000000</td><td>...</td><td>15.855062</td><td>0.16143054</td><td>1.0084487</td><td>0.30286290</td><td>0.000000e+00</td><td>0.02073604</td><td>1.5802452</td><td>0.41763497</td><td>0.177535616</td><td>100</td></tr>\n",
       "\t<tr><td>2015</td><td>3616.481</td><td>14.84315</td><td>26.77221</td><td>25.64413</td><td>426.9323</td><td>11.082120</td><td>15.314910</td><td>  2.769796</td><td>0.16414000</td><td>...</td><td>10.217753</td><td>0.26522793</td><td>0.3665311</td><td>0.06628941</td><td>3.928356e-03</td><td>0.01474055</td><td>0.4197106</td><td>0.29828892</td><td>0.184706921</td><td>100</td></tr>\n",
       "\t<tr><td>2016</td><td>2732.734</td><td>10.09013</td><td>29.25375</td><td>25.80021</td><td>246.1247</td><td>10.884490</td><td>57.675170</td><td>  0.412040</td><td>0.00749000</td><td>...</td><td> 7.810397</td><td>0.34540293</td><td>1.8302348</td><td>0.01307547</td><td>2.376839e-04</td><td>0.01839750</td><td>0.3957818</td><td>0.50004312</td><td>0.299980875</td><td>100</td></tr>\n",
       "\t<tr><td>2017</td><td>3165.490</td><td> 4.59609</td><td>38.76007</td><td>37.14743</td><td>252.4299</td><td>11.802750</td><td>23.249140</td><td>  1.052910</td><td>0.00000000</td><td>...</td><td> 7.055952</td><td>0.32991188</td><td>0.6498627</td><td>0.02943107</td><td>0.000000e+00</td><td>0.01044571</td><td>0.1925770</td><td>0.81233724</td><td>0.187074035</td><td>100</td></tr>\n",
       "\t<tr><td>2018</td><td>6072.888</td><td>36.53035</td><td>31.50588</td><td>34.87658</td><td>319.1465</td><td>18.138975</td><td>24.610468</td><td> 14.619846</td><td>0.00000000</td><td>...</td><td> 4.838788</td><td>0.27501683</td><td>0.3731354</td><td>0.22166102</td><td>0.000000e+00</td><td>0.02352128</td><td>0.2231942</td><td>0.35366540</td><td>0.055675361</td><td>100</td></tr>\n",
       "\t<tr><td>2019</td><td>3381.437</td><td>53.11286</td><td>42.85764</td><td>28.97985</td><td>483.7652</td><td>17.839298</td><td>19.598784</td><td> 27.733432</td><td>0.00000000</td><td>...</td><td>11.734409</td><td>0.43271736</td><td>0.4753962</td><td>0.67271355</td><td>0.000000e+00</td><td>0.02975100</td><td>0.9896301</td><td>0.58287722</td><td>0.030123626</td><td>100</td></tr>\n",
       "\t<tr><td>2020</td><td>4314.558</td><td>46.99529</td><td>34.51697</td><td>19.84290</td><td>407.3848</td><td> 3.843680</td><td>28.408700</td><td> 23.475890</td><td>0.00000000</td><td>...</td><td> 8.241159</td><td>0.07775541</td><td>0.5746915</td><td>0.47490361</td><td>0.000000e+00</td><td>0.01247542</td><td>0.9733549</td><td>0.30328293</td><td>0.011016638</td><td>100</td></tr>\n",
       "</tbody>\n",
       "</table>\n"
      ],
      "text/latex": [
       "A data.frame: 16 × 29\n",
       "\\begin{tabular}{lllllllllllllllllllll}\n",
       " year & Consumo.Industrial...Anchoveta & Consumo.Humano...Congelado...Concha.de.abanico & Consumo.Humano...Congelado...Langostino & Consumo.Humano...Congelado...Merluza & Consumo.Humano...Congelado...Calamar.gigante & Consumo.Humano...Conservas...AtÃºn & Consumo.Humano...Conservas...Caballa & Consumo.Humano...Conservas...Jurel & Consumo.Humano...Conservas...Sardina & ... & Consumo.Humano...Congelado...Calamar.gigante\\_\\% & Consumo.Humano...Conservas...AtÃºn\\_\\% & Consumo.Humano...Conservas...Caballa\\_\\% & Consumo.Humano...Conservas...Jurel\\_\\% & Consumo.Humano...Conservas...Sardina\\_\\% & Consumo.Humano...Fresco...Concha.de.abanico\\_\\% & Consumo.Humano...Fresco...Jurel\\_\\% & Consumo.Humano...Fresco...Liza\\_\\% & Consumo.Humano...Fresco...Tollo\\_\\% & total\\_production\\_\\%\\\\\n",
       " <int> & <dbl> & <dbl> & <dbl> & <dbl> & <dbl> & <dbl> & <dbl> & <dbl> & <dbl> & ... & <dbl> & <dbl> & <dbl> & <dbl> & <dbl> & <dbl> & <dbl> & <dbl> & <dbl> & <dbl>\\\\\n",
       "\\hline\n",
       "\t 2005 & 8628.396 & 13.53700 &  9.02100 & 23.27900 & 235.6300 &  9.877000 & 25.711000 &  20.481000 & 0.16500000 & ... &  2.609294 & 0.10937484 & 0.2847156 & 0.22680024 & 1.827159e-03 & 0.02040970 & 0.6219863 & 0.06506457 & 0.004761687 & 100\\\\\n",
       "\t 2006 & 5891.838 & 14.71400 & 11.29500 & 25.18900 & 365.7290 & 11.336000 & 58.245000 & 122.904000 & 0.04800000 & ... &  5.502230 & 0.17054508 & 0.8762701 & 1.84903601 & 7.221386e-04 & 0.06090036 & 2.0585014 & 0.04763106 & 0.023830575 & 100\\\\\n",
       "\t 2007 & 6084.713 & 19.93700 & 13.54800 & 28.35849 & 379.5566 &  3.713293 & 26.248739 &  82.910307 & 0.00102000 & ... &  5.589236 & 0.05468083 & 0.3865310 & 1.22091218 & 1.502021e-05 & 0.07102191 & 1.9863099 & 0.13720850 & 0.041746742 & 100\\\\\n",
       "\t 2008 & 6159.387 & 18.79000 & 12.81700 & 26.34840 & 484.1621 &  3.283711 & 47.694121 &  58.864202 & 0.00000000 & ... &  7.006976 & 0.04752310 & 0.6902473 & 0.85190492 & 0.000000e+00 & 0.01198584 & 1.1591344 & 0.21005286 & 0.042452694 & 100\\\\\n",
       "\t 2009 & 5828.636 & 24.63437 & 11.87740 & 36.77476 & 355.1066 &  2.017061 & 51.355908 &  14.289041 & 0.00000000 & ... &  5.552894 & 0.03154131 & 0.8030656 & 0.22344144 & 0.000000e+00 & 0.02882060 & 0.7361893 & 0.27070197 & 0.063454207 & 100\\\\\n",
       "\t 2010 & 3330.413 & 60.00125 & 14.47794 & 25.64770 & 327.5719 &  9.182845 &  9.729522 &   5.774274 & 0.00000000 & ... &  8.596043 & 0.24097343 & 0.2553192 & 0.15152675 & 0.000000e+00 & 0.07412620 & 0.2730431 & 0.25471143 & 0.131069716 & 100\\\\\n",
       "\t 2011 & 7000.093 & 92.02764 & 23.38448 & 28.54446 & 373.1957 &  6.586856 & 20.478814 &  83.277943 & 0.05446333 & ... &  4.834589 & 0.08532989 & 0.2652942 & 1.07882993 & 7.055490e-04 & 0.01131102 & 0.9451022 & 0.15707167 & 0.073679378 & 100\\\\\n",
       "\t 2012 & 3693.871 & 38.93339 & 22.70722 & 21.05478 & 457.0727 &  1.115060 &  9.978510 &  43.693940 & 0.08846000 & ... & 10.426908 & 0.02543715 & 0.2276334 & 0.99676202 & 2.017982e-03 & 0.01698631 & 1.6637163 & 0.39151535 & 0.096619026 & 100\\\\\n",
       "\t 2013 & 4754.118 & 89.29328 & 19.11137 & 31.18746 & 410.7595 &  7.136436 & 26.600553 &   7.197624 & 0.00000000 & ... &  7.580665 & 0.13170463 & 0.4909196 & 0.13283387 & 0.000000e+00 & 0.04023707 & 1.0049715 & 0.23125928 & 0.072817863 & 100\\\\\n",
       "\t 2014 & 2255.453 & 52.26650 & 21.76299 & 30.77080 & 465.0076 &  4.734540 & 29.576440 &   8.882560 & 0.00000000 & ... & 15.855062 & 0.16143054 & 1.0084487 & 0.30286290 & 0.000000e+00 & 0.02073604 & 1.5802452 & 0.41763497 & 0.177535616 & 100\\\\\n",
       "\t 2015 & 3616.481 & 14.84315 & 26.77221 & 25.64413 & 426.9323 & 11.082120 & 15.314910 &   2.769796 & 0.16414000 & ... & 10.217753 & 0.26522793 & 0.3665311 & 0.06628941 & 3.928356e-03 & 0.01474055 & 0.4197106 & 0.29828892 & 0.184706921 & 100\\\\\n",
       "\t 2016 & 2732.734 & 10.09013 & 29.25375 & 25.80021 & 246.1247 & 10.884490 & 57.675170 &   0.412040 & 0.00749000 & ... &  7.810397 & 0.34540293 & 1.8302348 & 0.01307547 & 2.376839e-04 & 0.01839750 & 0.3957818 & 0.50004312 & 0.299980875 & 100\\\\\n",
       "\t 2017 & 3165.490 &  4.59609 & 38.76007 & 37.14743 & 252.4299 & 11.802750 & 23.249140 &   1.052910 & 0.00000000 & ... &  7.055952 & 0.32991188 & 0.6498627 & 0.02943107 & 0.000000e+00 & 0.01044571 & 0.1925770 & 0.81233724 & 0.187074035 & 100\\\\\n",
       "\t 2018 & 6072.888 & 36.53035 & 31.50588 & 34.87658 & 319.1465 & 18.138975 & 24.610468 &  14.619846 & 0.00000000 & ... &  4.838788 & 0.27501683 & 0.3731354 & 0.22166102 & 0.000000e+00 & 0.02352128 & 0.2231942 & 0.35366540 & 0.055675361 & 100\\\\\n",
       "\t 2019 & 3381.437 & 53.11286 & 42.85764 & 28.97985 & 483.7652 & 17.839298 & 19.598784 &  27.733432 & 0.00000000 & ... & 11.734409 & 0.43271736 & 0.4753962 & 0.67271355 & 0.000000e+00 & 0.02975100 & 0.9896301 & 0.58287722 & 0.030123626 & 100\\\\\n",
       "\t 2020 & 4314.558 & 46.99529 & 34.51697 & 19.84290 & 407.3848 &  3.843680 & 28.408700 &  23.475890 & 0.00000000 & ... &  8.241159 & 0.07775541 & 0.5746915 & 0.47490361 & 0.000000e+00 & 0.01247542 & 0.9733549 & 0.30328293 & 0.011016638 & 100\\\\\n",
       "\\end{tabular}\n"
      ],
      "text/markdown": [
       "\n",
       "A data.frame: 16 × 29\n",
       "\n",
       "| year &lt;int&gt; | Consumo.Industrial...Anchoveta &lt;dbl&gt; | Consumo.Humano...Congelado...Concha.de.abanico &lt;dbl&gt; | Consumo.Humano...Congelado...Langostino &lt;dbl&gt; | Consumo.Humano...Congelado...Merluza &lt;dbl&gt; | Consumo.Humano...Congelado...Calamar.gigante &lt;dbl&gt; | Consumo.Humano...Conservas...AtÃºn &lt;dbl&gt; | Consumo.Humano...Conservas...Caballa &lt;dbl&gt; | Consumo.Humano...Conservas...Jurel &lt;dbl&gt; | Consumo.Humano...Conservas...Sardina &lt;dbl&gt; | ... ... | Consumo.Humano...Congelado...Calamar.gigante_% &lt;dbl&gt; | Consumo.Humano...Conservas...AtÃºn_% &lt;dbl&gt; | Consumo.Humano...Conservas...Caballa_% &lt;dbl&gt; | Consumo.Humano...Conservas...Jurel_% &lt;dbl&gt; | Consumo.Humano...Conservas...Sardina_% &lt;dbl&gt; | Consumo.Humano...Fresco...Concha.de.abanico_% &lt;dbl&gt; | Consumo.Humano...Fresco...Jurel_% &lt;dbl&gt; | Consumo.Humano...Fresco...Liza_% &lt;dbl&gt; | Consumo.Humano...Fresco...Tollo_% &lt;dbl&gt; | total_production_% &lt;dbl&gt; |\n",
       "|---|---|---|---|---|---|---|---|---|---|---|---|---|---|---|---|---|---|---|---|---|\n",
       "| 2005 | 8628.396 | 13.53700 |  9.02100 | 23.27900 | 235.6300 |  9.877000 | 25.711000 |  20.481000 | 0.16500000 | ... |  2.609294 | 0.10937484 | 0.2847156 | 0.22680024 | 1.827159e-03 | 0.02040970 | 0.6219863 | 0.06506457 | 0.004761687 | 100 |\n",
       "| 2006 | 5891.838 | 14.71400 | 11.29500 | 25.18900 | 365.7290 | 11.336000 | 58.245000 | 122.904000 | 0.04800000 | ... |  5.502230 | 0.17054508 | 0.8762701 | 1.84903601 | 7.221386e-04 | 0.06090036 | 2.0585014 | 0.04763106 | 0.023830575 | 100 |\n",
       "| 2007 | 6084.713 | 19.93700 | 13.54800 | 28.35849 | 379.5566 |  3.713293 | 26.248739 |  82.910307 | 0.00102000 | ... |  5.589236 | 0.05468083 | 0.3865310 | 1.22091218 | 1.502021e-05 | 0.07102191 | 1.9863099 | 0.13720850 | 0.041746742 | 100 |\n",
       "| 2008 | 6159.387 | 18.79000 | 12.81700 | 26.34840 | 484.1621 |  3.283711 | 47.694121 |  58.864202 | 0.00000000 | ... |  7.006976 | 0.04752310 | 0.6902473 | 0.85190492 | 0.000000e+00 | 0.01198584 | 1.1591344 | 0.21005286 | 0.042452694 | 100 |\n",
       "| 2009 | 5828.636 | 24.63437 | 11.87740 | 36.77476 | 355.1066 |  2.017061 | 51.355908 |  14.289041 | 0.00000000 | ... |  5.552894 | 0.03154131 | 0.8030656 | 0.22344144 | 0.000000e+00 | 0.02882060 | 0.7361893 | 0.27070197 | 0.063454207 | 100 |\n",
       "| 2010 | 3330.413 | 60.00125 | 14.47794 | 25.64770 | 327.5719 |  9.182845 |  9.729522 |   5.774274 | 0.00000000 | ... |  8.596043 | 0.24097343 | 0.2553192 | 0.15152675 | 0.000000e+00 | 0.07412620 | 0.2730431 | 0.25471143 | 0.131069716 | 100 |\n",
       "| 2011 | 7000.093 | 92.02764 | 23.38448 | 28.54446 | 373.1957 |  6.586856 | 20.478814 |  83.277943 | 0.05446333 | ... |  4.834589 | 0.08532989 | 0.2652942 | 1.07882993 | 7.055490e-04 | 0.01131102 | 0.9451022 | 0.15707167 | 0.073679378 | 100 |\n",
       "| 2012 | 3693.871 | 38.93339 | 22.70722 | 21.05478 | 457.0727 |  1.115060 |  9.978510 |  43.693940 | 0.08846000 | ... | 10.426908 | 0.02543715 | 0.2276334 | 0.99676202 | 2.017982e-03 | 0.01698631 | 1.6637163 | 0.39151535 | 0.096619026 | 100 |\n",
       "| 2013 | 4754.118 | 89.29328 | 19.11137 | 31.18746 | 410.7595 |  7.136436 | 26.600553 |   7.197624 | 0.00000000 | ... |  7.580665 | 0.13170463 | 0.4909196 | 0.13283387 | 0.000000e+00 | 0.04023707 | 1.0049715 | 0.23125928 | 0.072817863 | 100 |\n",
       "| 2014 | 2255.453 | 52.26650 | 21.76299 | 30.77080 | 465.0076 |  4.734540 | 29.576440 |   8.882560 | 0.00000000 | ... | 15.855062 | 0.16143054 | 1.0084487 | 0.30286290 | 0.000000e+00 | 0.02073604 | 1.5802452 | 0.41763497 | 0.177535616 | 100 |\n",
       "| 2015 | 3616.481 | 14.84315 | 26.77221 | 25.64413 | 426.9323 | 11.082120 | 15.314910 |   2.769796 | 0.16414000 | ... | 10.217753 | 0.26522793 | 0.3665311 | 0.06628941 | 3.928356e-03 | 0.01474055 | 0.4197106 | 0.29828892 | 0.184706921 | 100 |\n",
       "| 2016 | 2732.734 | 10.09013 | 29.25375 | 25.80021 | 246.1247 | 10.884490 | 57.675170 |   0.412040 | 0.00749000 | ... |  7.810397 | 0.34540293 | 1.8302348 | 0.01307547 | 2.376839e-04 | 0.01839750 | 0.3957818 | 0.50004312 | 0.299980875 | 100 |\n",
       "| 2017 | 3165.490 |  4.59609 | 38.76007 | 37.14743 | 252.4299 | 11.802750 | 23.249140 |   1.052910 | 0.00000000 | ... |  7.055952 | 0.32991188 | 0.6498627 | 0.02943107 | 0.000000e+00 | 0.01044571 | 0.1925770 | 0.81233724 | 0.187074035 | 100 |\n",
       "| 2018 | 6072.888 | 36.53035 | 31.50588 | 34.87658 | 319.1465 | 18.138975 | 24.610468 |  14.619846 | 0.00000000 | ... |  4.838788 | 0.27501683 | 0.3731354 | 0.22166102 | 0.000000e+00 | 0.02352128 | 0.2231942 | 0.35366540 | 0.055675361 | 100 |\n",
       "| 2019 | 3381.437 | 53.11286 | 42.85764 | 28.97985 | 483.7652 | 17.839298 | 19.598784 |  27.733432 | 0.00000000 | ... | 11.734409 | 0.43271736 | 0.4753962 | 0.67271355 | 0.000000e+00 | 0.02975100 | 0.9896301 | 0.58287722 | 0.030123626 | 100 |\n",
       "| 2020 | 4314.558 | 46.99529 | 34.51697 | 19.84290 | 407.3848 |  3.843680 | 28.408700 |  23.475890 | 0.00000000 | ... |  8.241159 | 0.07775541 | 0.5746915 | 0.47490361 | 0.000000e+00 | 0.01247542 | 0.9733549 | 0.30328293 | 0.011016638 | 100 |\n",
       "\n"
      ],
      "text/plain": [
       "   year Consumo.Industrial...Anchoveta\n",
       "1  2005 8628.396                      \n",
       "2  2006 5891.838                      \n",
       "3  2007 6084.713                      \n",
       "4  2008 6159.387                      \n",
       "5  2009 5828.636                      \n",
       "6  2010 3330.413                      \n",
       "7  2011 7000.093                      \n",
       "8  2012 3693.871                      \n",
       "9  2013 4754.118                      \n",
       "10 2014 2255.453                      \n",
       "11 2015 3616.481                      \n",
       "12 2016 2732.734                      \n",
       "13 2017 3165.490                      \n",
       "14 2018 6072.888                      \n",
       "15 2019 3381.437                      \n",
       "16 2020 4314.558                      \n",
       "   Consumo.Humano...Congelado...Concha.de.abanico\n",
       "1  13.53700                                      \n",
       "2  14.71400                                      \n",
       "3  19.93700                                      \n",
       "4  18.79000                                      \n",
       "5  24.63437                                      \n",
       "6  60.00125                                      \n",
       "7  92.02764                                      \n",
       "8  38.93339                                      \n",
       "9  89.29328                                      \n",
       "10 52.26650                                      \n",
       "11 14.84315                                      \n",
       "12 10.09013                                      \n",
       "13  4.59609                                      \n",
       "14 36.53035                                      \n",
       "15 53.11286                                      \n",
       "16 46.99529                                      \n",
       "   Consumo.Humano...Congelado...Langostino Consumo.Humano...Congelado...Merluza\n",
       "1   9.02100                                23.27900                            \n",
       "2  11.29500                                25.18900                            \n",
       "3  13.54800                                28.35849                            \n",
       "4  12.81700                                26.34840                            \n",
       "5  11.87740                                36.77476                            \n",
       "6  14.47794                                25.64770                            \n",
       "7  23.38448                                28.54446                            \n",
       "8  22.70722                                21.05478                            \n",
       "9  19.11137                                31.18746                            \n",
       "10 21.76299                                30.77080                            \n",
       "11 26.77221                                25.64413                            \n",
       "12 29.25375                                25.80021                            \n",
       "13 38.76007                                37.14743                            \n",
       "14 31.50588                                34.87658                            \n",
       "15 42.85764                                28.97985                            \n",
       "16 34.51697                                19.84290                            \n",
       "   Consumo.Humano...Congelado...Calamar.gigante\n",
       "1  235.6300                                    \n",
       "2  365.7290                                    \n",
       "3  379.5566                                    \n",
       "4  484.1621                                    \n",
       "5  355.1066                                    \n",
       "6  327.5719                                    \n",
       "7  373.1957                                    \n",
       "8  457.0727                                    \n",
       "9  410.7595                                    \n",
       "10 465.0076                                    \n",
       "11 426.9323                                    \n",
       "12 246.1247                                    \n",
       "13 252.4299                                    \n",
       "14 319.1465                                    \n",
       "15 483.7652                                    \n",
       "16 407.3848                                    \n",
       "   Consumo.Humano...Conservas...AtÃºn Consumo.Humano...Conservas...Caballa\n",
       "1   9.877000                          25.711000                           \n",
       "2  11.336000                          58.245000                           \n",
       "3   3.713293                          26.248739                           \n",
       "4   3.283711                          47.694121                           \n",
       "5   2.017061                          51.355908                           \n",
       "6   9.182845                           9.729522                           \n",
       "7   6.586856                          20.478814                           \n",
       "8   1.115060                           9.978510                           \n",
       "9   7.136436                          26.600553                           \n",
       "10  4.734540                          29.576440                           \n",
       "11 11.082120                          15.314910                           \n",
       "12 10.884490                          57.675170                           \n",
       "13 11.802750                          23.249140                           \n",
       "14 18.138975                          24.610468                           \n",
       "15 17.839298                          19.598784                           \n",
       "16  3.843680                          28.408700                           \n",
       "   Consumo.Humano...Conservas...Jurel Consumo.Humano...Conservas...Sardina ...\n",
       "1   20.481000                         0.16500000                           ...\n",
       "2  122.904000                         0.04800000                           ...\n",
       "3   82.910307                         0.00102000                           ...\n",
       "4   58.864202                         0.00000000                           ...\n",
       "5   14.289041                         0.00000000                           ...\n",
       "6    5.774274                         0.00000000                           ...\n",
       "7   83.277943                         0.05446333                           ...\n",
       "8   43.693940                         0.08846000                           ...\n",
       "9    7.197624                         0.00000000                           ...\n",
       "10   8.882560                         0.00000000                           ...\n",
       "11   2.769796                         0.16414000                           ...\n",
       "12   0.412040                         0.00749000                           ...\n",
       "13   1.052910                         0.00000000                           ...\n",
       "14  14.619846                         0.00000000                           ...\n",
       "15  27.733432                         0.00000000                           ...\n",
       "16  23.475890                         0.00000000                           ...\n",
       "   Consumo.Humano...Congelado...Calamar.gigante_%\n",
       "1   2.609294                                     \n",
       "2   5.502230                                     \n",
       "3   5.589236                                     \n",
       "4   7.006976                                     \n",
       "5   5.552894                                     \n",
       "6   8.596043                                     \n",
       "7   4.834589                                     \n",
       "8  10.426908                                     \n",
       "9   7.580665                                     \n",
       "10 15.855062                                     \n",
       "11 10.217753                                     \n",
       "12  7.810397                                     \n",
       "13  7.055952                                     \n",
       "14  4.838788                                     \n",
       "15 11.734409                                     \n",
       "16  8.241159                                     \n",
       "   Consumo.Humano...Conservas...AtÃºn_% Consumo.Humano...Conservas...Caballa_%\n",
       "1  0.10937484                           0.2847156                             \n",
       "2  0.17054508                           0.8762701                             \n",
       "3  0.05468083                           0.3865310                             \n",
       "4  0.04752310                           0.6902473                             \n",
       "5  0.03154131                           0.8030656                             \n",
       "6  0.24097343                           0.2553192                             \n",
       "7  0.08532989                           0.2652942                             \n",
       "8  0.02543715                           0.2276334                             \n",
       "9  0.13170463                           0.4909196                             \n",
       "10 0.16143054                           1.0084487                             \n",
       "11 0.26522793                           0.3665311                             \n",
       "12 0.34540293                           1.8302348                             \n",
       "13 0.32991188                           0.6498627                             \n",
       "14 0.27501683                           0.3731354                             \n",
       "15 0.43271736                           0.4753962                             \n",
       "16 0.07775541                           0.5746915                             \n",
       "   Consumo.Humano...Conservas...Jurel_% Consumo.Humano...Conservas...Sardina_%\n",
       "1  0.22680024                           1.827159e-03                          \n",
       "2  1.84903601                           7.221386e-04                          \n",
       "3  1.22091218                           1.502021e-05                          \n",
       "4  0.85190492                           0.000000e+00                          \n",
       "5  0.22344144                           0.000000e+00                          \n",
       "6  0.15152675                           0.000000e+00                          \n",
       "7  1.07882993                           7.055490e-04                          \n",
       "8  0.99676202                           2.017982e-03                          \n",
       "9  0.13283387                           0.000000e+00                          \n",
       "10 0.30286290                           0.000000e+00                          \n",
       "11 0.06628941                           3.928356e-03                          \n",
       "12 0.01307547                           2.376839e-04                          \n",
       "13 0.02943107                           0.000000e+00                          \n",
       "14 0.22166102                           0.000000e+00                          \n",
       "15 0.67271355                           0.000000e+00                          \n",
       "16 0.47490361                           0.000000e+00                          \n",
       "   Consumo.Humano...Fresco...Concha.de.abanico_%\n",
       "1  0.02040970                                   \n",
       "2  0.06090036                                   \n",
       "3  0.07102191                                   \n",
       "4  0.01198584                                   \n",
       "5  0.02882060                                   \n",
       "6  0.07412620                                   \n",
       "7  0.01131102                                   \n",
       "8  0.01698631                                   \n",
       "9  0.04023707                                   \n",
       "10 0.02073604                                   \n",
       "11 0.01474055                                   \n",
       "12 0.01839750                                   \n",
       "13 0.01044571                                   \n",
       "14 0.02352128                                   \n",
       "15 0.02975100                                   \n",
       "16 0.01247542                                   \n",
       "   Consumo.Humano...Fresco...Jurel_% Consumo.Humano...Fresco...Liza_%\n",
       "1  0.6219863                         0.06506457                      \n",
       "2  2.0585014                         0.04763106                      \n",
       "3  1.9863099                         0.13720850                      \n",
       "4  1.1591344                         0.21005286                      \n",
       "5  0.7361893                         0.27070197                      \n",
       "6  0.2730431                         0.25471143                      \n",
       "7  0.9451022                         0.15707167                      \n",
       "8  1.6637163                         0.39151535                      \n",
       "9  1.0049715                         0.23125928                      \n",
       "10 1.5802452                         0.41763497                      \n",
       "11 0.4197106                         0.29828892                      \n",
       "12 0.3957818                         0.50004312                      \n",
       "13 0.1925770                         0.81233724                      \n",
       "14 0.2231942                         0.35366540                      \n",
       "15 0.9896301                         0.58287722                      \n",
       "16 0.9733549                         0.30328293                      \n",
       "   Consumo.Humano...Fresco...Tollo_% total_production_%\n",
       "1  0.004761687                       100               \n",
       "2  0.023830575                       100               \n",
       "3  0.041746742                       100               \n",
       "4  0.042452694                       100               \n",
       "5  0.063454207                       100               \n",
       "6  0.131069716                       100               \n",
       "7  0.073679378                       100               \n",
       "8  0.096619026                       100               \n",
       "9  0.072817863                       100               \n",
       "10 0.177535616                       100               \n",
       "11 0.184706921                       100               \n",
       "12 0.299980875                       100               \n",
       "13 0.187074035                       100               \n",
       "14 0.055675361                       100               \n",
       "15 0.030123626                       100               \n",
       "16 0.011016638                       100               "
      ]
     },
     "metadata": {},
     "output_type": "display_data"
    }
   ],
   "source": [
    "production_fish"
   ]
  },
  {
   "cell_type": "code",
   "execution_count": null,
   "metadata": {},
   "outputs": [],
   "source": [
    "production_fish['new2']<-2  # agrega variable"
   ]
  },
  {
   "cell_type": "markdown",
   "metadata": {},
   "source": [
    "# 3.  Functions \n",
    "\n",
    "- Abstraction and Reusability: Replicate the code you will use over and over again.\n",
    "- Modularity: Functions allow complex processes to be broken up into smaller steps\n",
    "\n",
    "<img src=\"../images/function_R.png\">\n",
    "\n",
    "More detail in Kaggle:\n",
    "\n",
    "https://www.kaggle.com/code/ananta/packages-and-functions-in-r/notebook"
   ]
  },
  {
   "cell_type": "code",
   "execution_count": 136,
   "metadata": {},
   "outputs": [],
   "source": [
    "calculator <- function(x,z,a)\n",
    "    {\n",
    "    m <- (x+z)**a\n",
    "    return(m)\n",
    "}"
   ]
  },
  {
   "cell_type": "code",
   "execution_count": 138,
   "metadata": {},
   "outputs": [
    {
     "data": {
      "text/html": [
       "2.44948974278318"
      ],
      "text/latex": [
       "2.44948974278318"
      ],
      "text/markdown": [
       "2.44948974278318"
      ],
      "text/plain": [
       "[1] 2.44949"
      ]
     },
     "metadata": {},
     "output_type": "display_data"
    }
   ],
   "source": [
    "calculator(4,2,0.5)"
   ]
  },
  {
   "cell_type": "markdown",
   "metadata": {},
   "source": [
    "### <a id='2.2'> 2.2 Multiples outcomes </a> "
   ]
  },
  {
   "cell_type": "code",
   "execution_count": 154,
   "metadata": {},
   "outputs": [],
   "source": [
    "# several kind of object \n",
    "# this function select elements of a list\n",
    "\n",
    "#para obtener un conjunto de returns\n",
    "\n",
    "\n",
    "select <- function(a)\n",
    "    {\n",
    "    a1 = a[1] # de a saca el primer elemento\n",
    "    a2 = a[length(a)] #de a se saca el ultimo elemento\n",
    "    \n",
    "    return(list(a1,a2,length(a))) #return para sacar varios elemetos\n",
    "    }"
   ]
  },
  {
   "cell_type": "code",
   "execution_count": 155,
   "metadata": {},
   "outputs": [],
   "source": [
    "lista = c(2011,2012,2013,2014,2015,2016,2017,2018,2019,2020,2021)\n",
    "\n",
    "output = select(lista)"
   ]
  },
  {
   "cell_type": "code",
   "execution_count": 168,
   "metadata": {},
   "outputs": [
    {
     "name": "stdout",
     "output_type": "stream",
     "text": [
      "first element: 2011 \n",
      " last_element: 2021 \n",
      " number of elements: 11"
     ]
    }
   ],
   "source": [
    "lista = c(2011,2012,2013,2014,2015,2016,2017,2018,2019,2020,2021)\n",
    "\n",
    "output = select(lista)\n",
    "\n",
    "f_element = output[[1]]\n",
    "l_element = output[[2]]\n",
    "num_element = output[[3]]\n",
    "\n",
    "cat('first element:', f_element,'\\n','last_element:', l_element,'\\n','number of elements:', num_element)"
   ]
  },
  {
   "cell_type": "markdown",
   "metadata": {},
   "source": [
    "### <a id='2.3'> 2.3 Conditional in function </a> "
   ]
  },
  {
   "cell_type": "code",
   "execution_count": 173,
   "metadata": {},
   "outputs": [],
   "source": [
    "lista = list(2000,2010,2011,2012,2013,2014,2015,2016,2017,2018,2019,2020,2021,2022,2023,2024,2025,2026,2027,2028,2029,2030)\n",
    "\n",
    "\n",
    "calculator_square <- function( x, y ){\n",
    "    \n",
    "        results = x[y] #\n",
    "    \n",
    "    if (1995 >= results){\n",
    "        \n",
    "        print( \"Year is before 1995\")\n",
    "    } else if ( 2005 >= results &&  results  >= 1995){\n",
    "        \n",
    "        print( \"Year is after 1995\")\n",
    "        \n",
    "    } else if (  2022 >= results &&  results > 2005 ){\n",
    "        return(results)\n",
    "    } else {\n",
    "     \n",
    "       print( \"Future Year !!\")   \n",
    "        \n",
    "    }\n",
    "    \n",
    "}\n"
   ]
  },
  {
   "cell_type": "code",
   "execution_count": 174,
   "metadata": {},
   "outputs": [
    {
     "name": "stdout",
     "output_type": "stream",
     "text": [
      "[1] \"Future Year !!\"\n"
     ]
    }
   ],
   "source": [
    "calculator_square(lista,15)"
   ]
  },
  {
   "cell_type": "code",
   "execution_count": 176,
   "metadata": {},
   "outputs": [
    {
     "name": "stdout",
     "output_type": "stream",
     "text": [
      "[1] \"Year is after 1995\"\n"
     ]
    }
   ],
   "source": [
    "calculator_square(lista,lenght(lista))"
   ]
  },
  {
   "cell_type": "code",
   "execution_count": 177,
   "metadata": {},
   "outputs": [
    {
     "data": {
      "text/html": [
       "<ol>\n",
       "\t<li>2010</li>\n",
       "</ol>\n"
      ],
      "text/latex": [
       "\\begin{enumerate}\n",
       "\\item 2010\n",
       "\\end{enumerate}\n"
      ],
      "text/markdown": [
       "1. 2010\n",
       "\n",
       "\n"
      ],
      "text/plain": [
       "[[1]]\n",
       "[1] 2010\n"
      ]
     },
     "metadata": {},
     "output_type": "display_data"
    }
   ],
   "source": [
    "calculator_square(lista,2)"
   ]
  },
  {
   "cell_type": "code",
   "execution_count": null,
   "metadata": {},
   "outputs": [],
   "source": []
  },
  {
   "cell_type": "code",
   "execution_count": null,
   "metadata": {},
   "outputs": [],
   "source": []
  },
  {
   "cell_type": "code",
   "execution_count": null,
   "metadata": {},
   "outputs": [],
   "source": []
  },
  {
   "cell_type": "code",
   "execution_count": null,
   "metadata": {},
   "outputs": [],
   "source": []
  },
  {
   "cell_type": "code",
   "execution_count": null,
   "metadata": {},
   "outputs": [],
   "source": []
  },
  {
   "cell_type": "code",
   "execution_count": null,
   "metadata": {},
   "outputs": [],
   "source": []
  },
  {
   "cell_type": "code",
   "execution_count": null,
   "metadata": {},
   "outputs": [],
   "source": []
  },
  {
   "cell_type": "code",
   "execution_count": null,
   "metadata": {},
   "outputs": [],
   "source": []
  },
  {
   "cell_type": "code",
   "execution_count": null,
   "metadata": {},
   "outputs": [],
   "source": []
  },
  {
   "cell_type": "code",
   "execution_count": null,
   "metadata": {},
   "outputs": [],
   "source": []
  },
  {
   "cell_type": "code",
   "execution_count": null,
   "metadata": {},
   "outputs": [],
   "source": []
  },
  {
   "cell_type": "code",
   "execution_count": null,
   "metadata": {},
   "outputs": [],
   "source": []
  },
  {
   "cell_type": "code",
   "execution_count": null,
   "metadata": {},
   "outputs": [],
   "source": []
  },
  {
   "cell_type": "code",
   "execution_count": null,
   "metadata": {},
   "outputs": [],
   "source": []
  },
  {
   "cell_type": "code",
   "execution_count": null,
   "metadata": {},
   "outputs": [],
   "source": []
  }
 ],
 "metadata": {
  "kernelspec": {
   "display_name": "R",
   "language": "R",
   "name": "ir"
  },
  "language_info": {
   "codemirror_mode": "r",
   "file_extension": ".r",
   "mimetype": "text/x-r-source",
   "name": "R",
   "pygments_lexer": "r",
   "version": "3.6.1"
  }
 },
 "nbformat": 4,
 "nbformat_minor": 4
}
