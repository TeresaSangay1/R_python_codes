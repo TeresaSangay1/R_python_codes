{
 "cells": [
  {
   "cell_type": "markdown",
   "id": "272ed2f6",
   "metadata": {},
   "source": [
    "## Grupo 5 - WH6 - R\n",
    "### Integrantes\n",
    "- Diego\n",
    "- Teresa\n",
    "- Yoberson"
   ]
  },
  {
   "cell_type": "markdown",
   "id": "9881d8c7",
   "metadata": {},
   "source": [
    "# 1. Plots "
   ]
  },
  {
   "cell_type": "markdown",
   "id": "a5457cd1",
   "metadata": {},
   "source": [
    "- **Graficos de  distribución absoluta, frecuencia y densidades de los pesos de los recién nacidos si la madre es fumadora o no**"
   ]
  },
  {
   "cell_type": "markdown",
   "id": "2abaa772",
   "metadata": {},
   "source": [
    "Importamos los datos"
   ]
  },
  {
   "cell_type": "code",
   "execution_count": 1,
   "id": "76772fa7",
   "metadata": {},
   "outputs": [
    {
     "name": "stderr",
     "output_type": "stream",
     "text": [
      "-- \u001b[1mAttaching packages\u001b[22m ------------------------------------------------------------------------------- tidyverse 1.3.1 --\n",
      "\n",
      "\u001b[32mv\u001b[39m \u001b[34mtibble \u001b[39m 3.1.6     \u001b[32mv\u001b[39m \u001b[34mdplyr  \u001b[39m 1.0.8\n",
      "\u001b[32mv\u001b[39m \u001b[34mreadr  \u001b[39m 2.1.2     \u001b[32mv\u001b[39m \u001b[34mstringr\u001b[39m 1.4.0\n",
      "\u001b[32mv\u001b[39m \u001b[34mpurrr  \u001b[39m 0.3.4     \u001b[32mv\u001b[39m \u001b[34mforcats\u001b[39m 0.5.1\n",
      "\n",
      "-- \u001b[1mConflicts\u001b[22m ---------------------------------------------------------------------------------- tidyverse_conflicts() --\n",
      "\u001b[31mx\u001b[39m \u001b[34mdplyr\u001b[39m::\u001b[32mfilter()\u001b[39m masks \u001b[34mstats\u001b[39m::filter()\n",
      "\u001b[31mx\u001b[39m \u001b[34mdplyr\u001b[39m::\u001b[32mlag()\u001b[39m    masks \u001b[34mstats\u001b[39m::lag()\n",
      "\n"
     ]
    }
   ],
   "source": [
    "library(ggplot2)  # plots packages\n",
    "library(tidyr) # read and filter dataset\n",
    "library(tidyverse)\n",
    "library(haven)  # read STATA.dta \n",
    "library(dplyr)  # filter dataset"
   ]
  },
  {
   "cell_type": "code",
   "execution_count": 2,
   "id": "f55e265a",
   "metadata": {},
   "outputs": [],
   "source": [
    "peso <- read_dta(\"../../data/Pesos/peso.dta\", encoding = \"latin1\")"
   ]
  },
  {
   "cell_type": "code",
   "execution_count": 3,
   "id": "e7c4003c",
   "metadata": {},
   "outputs": [
    {
     "data": {
      "text/html": [
       "<table class=\"dataframe\">\n",
       "<caption>A tibble: 6 × 14</caption>\n",
       "<thead>\n",
       "\t<tr><th scope=col>faminc</th><th scope=col>cigtax</th><th scope=col>cigprice</th><th scope=col>bwght</th><th scope=col>fatheduc</th><th scope=col>motheduc</th><th scope=col>parity</th><th scope=col>male</th><th scope=col>white</th><th scope=col>cigs</th><th scope=col>lbwght</th><th scope=col>bwghtlbs</th><th scope=col>packs</th><th scope=col>lfaminc</th></tr>\n",
       "\t<tr><th scope=col>&lt;dbl&gt;</th><th scope=col>&lt;dbl&gt;</th><th scope=col>&lt;dbl&gt;</th><th scope=col>&lt;dbl&gt;</th><th scope=col>&lt;dbl&gt;</th><th scope=col>&lt;dbl&gt;</th><th scope=col>&lt;dbl&gt;</th><th scope=col>&lt;dbl&gt;</th><th scope=col>&lt;dbl&gt;</th><th scope=col>&lt;dbl&gt;</th><th scope=col>&lt;dbl&gt;</th><th scope=col>&lt;dbl&gt;</th><th scope=col>&lt;dbl&gt;</th><th scope=col>&lt;dbl&gt;</th></tr>\n",
       "</thead>\n",
       "<tbody>\n",
       "\t<tr><td>13.5</td><td>16.5</td><td>122.3</td><td>109</td><td>12</td><td>12</td><td>1</td><td>1</td><td>1</td><td>0</td><td>4.691348</td><td>6.8125</td><td>0</td><td> 2.6026900</td></tr>\n",
       "\t<tr><td> 7.5</td><td>16.5</td><td>122.3</td><td>133</td><td> 6</td><td>12</td><td>2</td><td>1</td><td>0</td><td>0</td><td>4.890349</td><td>8.3125</td><td>0</td><td> 2.0149031</td></tr>\n",
       "\t<tr><td> 0.5</td><td>16.5</td><td>122.3</td><td>129</td><td>NA</td><td>12</td><td>2</td><td>0</td><td>0</td><td>0</td><td>4.859812</td><td>8.0625</td><td>0</td><td>-0.6931472</td></tr>\n",
       "\t<tr><td>15.5</td><td>16.5</td><td>122.3</td><td>126</td><td>12</td><td>12</td><td>2</td><td>1</td><td>0</td><td>0</td><td>4.836282</td><td>7.8750</td><td>0</td><td> 2.7408400</td></tr>\n",
       "\t<tr><td>27.5</td><td>16.5</td><td>122.3</td><td>134</td><td>14</td><td>12</td><td>2</td><td>1</td><td>1</td><td>0</td><td>4.897840</td><td>8.3750</td><td>0</td><td> 3.3141861</td></tr>\n",
       "\t<tr><td> 7.5</td><td>16.5</td><td>122.3</td><td>118</td><td>12</td><td>14</td><td>6</td><td>1</td><td>0</td><td>0</td><td>4.770685</td><td>7.3750</td><td>0</td><td> 2.0149031</td></tr>\n",
       "</tbody>\n",
       "</table>\n"
      ],
      "text/latex": [
       "A tibble: 6 × 14\n",
       "\\begin{tabular}{llllllllllllll}\n",
       " faminc & cigtax & cigprice & bwght & fatheduc & motheduc & parity & male & white & cigs & lbwght & bwghtlbs & packs & lfaminc\\\\\n",
       " <dbl> & <dbl> & <dbl> & <dbl> & <dbl> & <dbl> & <dbl> & <dbl> & <dbl> & <dbl> & <dbl> & <dbl> & <dbl> & <dbl>\\\\\n",
       "\\hline\n",
       "\t 13.5 & 16.5 & 122.3 & 109 & 12 & 12 & 1 & 1 & 1 & 0 & 4.691348 & 6.8125 & 0 &  2.6026900\\\\\n",
       "\t  7.5 & 16.5 & 122.3 & 133 &  6 & 12 & 2 & 1 & 0 & 0 & 4.890349 & 8.3125 & 0 &  2.0149031\\\\\n",
       "\t  0.5 & 16.5 & 122.3 & 129 & NA & 12 & 2 & 0 & 0 & 0 & 4.859812 & 8.0625 & 0 & -0.6931472\\\\\n",
       "\t 15.5 & 16.5 & 122.3 & 126 & 12 & 12 & 2 & 1 & 0 & 0 & 4.836282 & 7.8750 & 0 &  2.7408400\\\\\n",
       "\t 27.5 & 16.5 & 122.3 & 134 & 14 & 12 & 2 & 1 & 1 & 0 & 4.897840 & 8.3750 & 0 &  3.3141861\\\\\n",
       "\t  7.5 & 16.5 & 122.3 & 118 & 12 & 14 & 6 & 1 & 0 & 0 & 4.770685 & 7.3750 & 0 &  2.0149031\\\\\n",
       "\\end{tabular}\n"
      ],
      "text/markdown": [
       "\n",
       "A tibble: 6 × 14\n",
       "\n",
       "| faminc &lt;dbl&gt; | cigtax &lt;dbl&gt; | cigprice &lt;dbl&gt; | bwght &lt;dbl&gt; | fatheduc &lt;dbl&gt; | motheduc &lt;dbl&gt; | parity &lt;dbl&gt; | male &lt;dbl&gt; | white &lt;dbl&gt; | cigs &lt;dbl&gt; | lbwght &lt;dbl&gt; | bwghtlbs &lt;dbl&gt; | packs &lt;dbl&gt; | lfaminc &lt;dbl&gt; |\n",
       "|---|---|---|---|---|---|---|---|---|---|---|---|---|---|\n",
       "| 13.5 | 16.5 | 122.3 | 109 | 12 | 12 | 1 | 1 | 1 | 0 | 4.691348 | 6.8125 | 0 |  2.6026900 |\n",
       "|  7.5 | 16.5 | 122.3 | 133 |  6 | 12 | 2 | 1 | 0 | 0 | 4.890349 | 8.3125 | 0 |  2.0149031 |\n",
       "|  0.5 | 16.5 | 122.3 | 129 | NA | 12 | 2 | 0 | 0 | 0 | 4.859812 | 8.0625 | 0 | -0.6931472 |\n",
       "| 15.5 | 16.5 | 122.3 | 126 | 12 | 12 | 2 | 1 | 0 | 0 | 4.836282 | 7.8750 | 0 |  2.7408400 |\n",
       "| 27.5 | 16.5 | 122.3 | 134 | 14 | 12 | 2 | 1 | 1 | 0 | 4.897840 | 8.3750 | 0 |  3.3141861 |\n",
       "|  7.5 | 16.5 | 122.3 | 118 | 12 | 14 | 6 | 1 | 0 | 0 | 4.770685 | 7.3750 | 0 |  2.0149031 |\n",
       "\n"
      ],
      "text/plain": [
       "  faminc cigtax cigprice bwght fatheduc motheduc parity male white cigs\n",
       "1 13.5   16.5   122.3    109   12       12       1      1    1     0   \n",
       "2  7.5   16.5   122.3    133    6       12       2      1    0     0   \n",
       "3  0.5   16.5   122.3    129   NA       12       2      0    0     0   \n",
       "4 15.5   16.5   122.3    126   12       12       2      1    0     0   \n",
       "5 27.5   16.5   122.3    134   14       12       2      1    1     0   \n",
       "6  7.5   16.5   122.3    118   12       14       6      1    0     0   \n",
       "  lbwght   bwghtlbs packs lfaminc   \n",
       "1 4.691348 6.8125   0      2.6026900\n",
       "2 4.890349 8.3125   0      2.0149031\n",
       "3 4.859812 8.0625   0     -0.6931472\n",
       "4 4.836282 7.8750   0      2.7408400\n",
       "5 4.897840 8.3750   0      3.3141861\n",
       "6 4.770685 7.3750   0      2.0149031"
      ]
     },
     "metadata": {},
     "output_type": "display_data"
    }
   ],
   "source": [
    "head(peso)"
   ]
  },
  {
   "cell_type": "code",
   "execution_count": 4,
   "id": "4e9b9a08",
   "metadata": {},
   "outputs": [],
   "source": [
    "#Creamos dummy \"fumador\" que indique si la madre es fumadora o no fumadora\n",
    "peso$fumador <- (peso$cigs > 0)*1\n",
    "# 1 si la madre es fumadora\n",
    "# 0 si la madre no es fumadora"
   ]
  },
  {
   "cell_type": "code",
   "execution_count": 5,
   "id": "d426f01e",
   "metadata": {},
   "outputs": [],
   "source": [
    "peso <- peso %>% mutate(fumador = case_when(fumador == 1 ~ \"Madre Fumadora\",\n",
    "                                          fumador == 0 ~ \"Madre No Fumadora\"))"
   ]
  },
  {
   "cell_type": "markdown",
   "id": "48df72c2",
   "metadata": {},
   "source": [
    "Multiples histogramas de los pesos de los recipen nacidos"
   ]
  },
  {
   "cell_type": "code",
   "execution_count": 13,
   "id": "995a748f",
   "metadata": {},
   "outputs": [
    {
     "name": "stderr",
     "output_type": "stream",
     "text": [
      "`stat_bin()` using `bins = 30`. Pick better value with `binwidth`.\n",
      "\n"
     ]
    },
    {
     "data": {
      "image/png": "[encoded data removed]",
      "text/plain": [
       "plot without title"
      ]
     },
     "metadata": {
      "image/png": {
       "height": 420,
       "width": 420
      }
     },
     "output_type": "display_data"
    }
   ],
   "source": [
    "\n",
    "### Multiple histograms\n",
    "theme_set(theme_classic() + theme(legend.position = \"top\"))\n",
    "\n",
    "peso %>% \n",
    " ggplot(aes(x=lbwght)) + geom_histogram(aes(color = fumador, fill = fumador),\n",
    "                         alpha = 0.4, position = \"identity\") +\n",
    "    labs(x = \" \", y = \"Frecuencia Absoluta\", title = \"Distribución Absoluta de los Pesos de los Recién Nacidos.\") + \n",
    "     theme(text=element_text(size =12), plot.title = element_text(hjust = 0.5)) "
   ]
  },
  {
   "cell_type": "markdown",
   "id": "8e1820a9",
   "metadata": {},
   "source": [
    "Histogramas separados de los pesos de los recién nacidos"
   ]
  },
  {
   "cell_type": "code",
   "execution_count": 11,
   "id": "2f371258",
   "metadata": {},
   "outputs": [
    {
     "data": {
      "image/png": "[encoded data removed]",
      "text/plain": [
       "plot without title"
      ]
     },
     "metadata": {
      "image/png": {
       "height": 420,
       "width": 420
      }
     },
     "output_type": "display_data"
    }
   ],
   "source": [
    "theme_set(theme_classic() + theme(legend.position = \"right\"))\n",
    "\n",
    "peso %>% \n",
    " ggplot(aes(x=lbwght)) + geom_histogram(aes(fill = fumador), bins = 30, color =\"black\") +\n",
    "    labs(x = \" \", y = \"Frecuencia Absoluta\", title = \"Distribución Absoluta de los Pesos de los Recién Nacidos.\") + \n",
    "     theme(text=element_text(size =12), plot.title = element_text(hjust = 0.5)) +\n",
    "    facet_wrap(~fumador)"
   ]
  },
  {
   "cell_type": "markdown",
   "id": "ddb1ecea",
   "metadata": {},
   "source": [
    "Densidad de los pesos de los recién nacidos"
   ]
  },
  {
   "cell_type": "code",
   "execution_count": 12,
   "id": "52bd906b",
   "metadata": {},
   "outputs": [
    {
     "name": "stderr",
     "output_type": "stream",
     "text": [
      "Warning message:\n",
      "\"Ignoring unknown parameters: bins\"\n"
     ]
    },
    {
     "data": {
      "image/png": "[encoded data removed]",
      "text/plain": [
       "plot without title"
      ]
     },
     "metadata": {
      "image/png": {
       "height": 420,
       "width": 420
      }
     },
     "output_type": "display_data"
    }
   ],
   "source": [
    "theme_set(theme_classic() + theme(legend.position = \"right\"))\n",
    "\n",
    "peso %>% \n",
    " ggplot(aes(x=lbwght)) + geom_density(aes(fill = fumador), bins = 30) +\n",
    "    labs(x = \" \", y = \"Frecuencia Absoluta\", title = \"Densidad de los Pesos de los Recién Nacidos.\") + \n",
    "     theme(text=element_text(size =12), plot.title = element_text(hjust = 0.5)) +\n",
    "    facet_wrap(~fumador)"
   ]
  },
  {
   "cell_type": "markdown",
   "id": "e9e6ee09",
   "metadata": {},
   "source": [
    "**Crear un coefplot de las siguientes tres regresiones:**\n",
    "- lbwght ~ Dummy\n",
    "- lbwght ~ Dummy + mothedu\n",
    "- lbwght~ Dummy + mothedu + lfaminc + white + Dummy:(mothedu + lfaminc + white)"
   ]
  },
  {
   "cell_type": "code",
   "execution_count": null,
   "id": "a560e6ee",
   "metadata": {},
   "outputs": [],
   "source": []
  },
  {
   "cell_type": "markdown",
   "id": "15946ae4",
   "metadata": {},
   "source": [
    "# 2. Regular expresión y Geocoding"
   ]
  }
 ],
 "metadata": {
  "kernelspec": {
   "display_name": "R",
   "language": "R",
   "name": "ir"
  },
  "language_info": {
   "codemirror_mode": "r",
   "file_extension": ".r",
   "mimetype": "text/x-r-source",
   "name": "R",
   "pygments_lexer": "r",
   "version": "4.1.3"
  }
 },
 "nbformat": 4,
 "nbformat_minor": 5
}
