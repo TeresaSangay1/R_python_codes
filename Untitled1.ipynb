{
 "cells": [
  {
   "cell_type": "markdown",
   "id": "c45b6b33",
   "metadata": {},
   "source": [
    "Group by\n",
    "1. Obtener el total de hogares por distrito, el total de hogares que cuentan con internet por distrito,\n",
    "finalmente el porcentaje de hogares que cuentan con internet.\n",
    "\n",
    "2. Obtener una base de datos a nivel departamentos con la siguiente información: total de hogares, total\n",
    "de hogares cuyo vecindario instaló cámaras de seguridad y el porcentaje hogares cuyos vecindarios cuentan \n",
    "con cámaras de seguridad. Base_1.\n",
    "\n",
    "3. Crear una base de datos a nivel departamentos con la siguiente \n",
    "información: total de hogares que cuentan con títulos de propiedad y porcentaje de hogares que cuentan con títulos de propiedad. Base_2"
   ]
  },
  {
   "cell_type": "code",
   "execution_count": null,
   "id": "ed220ca2",
   "metadata": {},
   "outputs": [],
   "source": [
    "# Total de hogares por distrito\n",
    "enapres2020_1.groupby( [\"CCDI\"], as_index = False ).count()\n"
   ]
  },
  {
   "cell_type": "code",
   "execution_count": null,
   "id": "18ef5104",
   "metadata": {},
   "outputs": [],
   "source": [
    "#Total de hogares con internet por distrito\n",
    "enapres2020_1.groupby( [\"CCDI\",\"P184A_14\"], as_index = False ).count()\n",
    "\n",
    "#P184A_14"
   ]
  },
  {
   "cell_type": "code",
   "execution_count": null,
   "id": "e99a7f3b",
   "metadata": {},
   "outputs": [],
   "source": [
    "# Porcentaje de hogares con internet\n",
    "\n"
   ]
  },
  {
   "cell_type": "code",
   "execution_count": null,
   "id": "5591571d",
   "metadata": {},
   "outputs": [],
   "source": [
    "base1 = pd.DataFrame(enapres2020_1.groupby( [\"DEPARTAMENTO\"] ).count().reset_index())\n",
    "\n",
    "base1.rename(columns = {'UUID':'Muertos por departamento'}, inplace = True)\n",
    "\n",
    "muertos_departamento = base1[['DEPARTAMENTO', 'Muertos por departamento']]"
   ]
  }
 ],
 "metadata": {
  "kernelspec": {
   "display_name": "Python 3 (ipykernel)",
   "language": "python",
   "name": "python3"
  },
  "language_info": {
   "codemirror_mode": {
    "name": "ipython",
    "version": 3
   },
   "file_extension": ".py",
   "mimetype": "text/x-python",
   "name": "python",
   "nbconvert_exporter": "python",
   "pygments_lexer": "ipython3",
   "version": "3.9.7"
  }
 },
 "nbformat": 4,
 "nbformat_minor": 5
}
