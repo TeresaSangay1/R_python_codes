{
 "cells": [
  {
   "cell_type": "markdown",
   "id": "01a5018d",
   "metadata": {},
   "source": [
    "## An inferential problem: The Gender Wage Gap"
   ]
  },
  {
   "cell_type": "markdown",
   "id": "1b7d79b6",
   "metadata": {},
   "source": [
    "In the previous lab, we already analyzed data from the March Supplement of the U.S. Current Population Survey (2015) and answered the question how to use job-relevant characteristics, such as education and experience, to best predict wages. Now, we focus on the following inference question:\n",
    "\n",
    "What is the difference in predicted wages between men and women with the same job-relevant characteristics?\n",
    "\n",
    "Thus, we analyze if there is a difference in the payment of men and women (*gender wage gap*). The gender wage gap may partly reflect *discrimination* against women in the labor market or may partly reflect a *selection effect*, namely that women are relatively more likely to take on occupations that pay somewhat less (for example, school teaching)."
   ]
  },
  {
   "cell_type": "markdown",
   "id": "e067425b",
   "metadata": {},
   "source": [
    "To investigate the gender wage gap, we consider the following log-linear regression model\n",
    "\n",
    "\\begin{align}\n",
    "\\log(Y) &= \\beta'X + \\epsilon\\\\\n",
    "&= \\beta_1 D  + \\beta_2' W + \\epsilon,\n",
    "\\end{align}\n",
    "\n",
    "where $D$ is the indicator of being female ($1$ if female and $0$ otherwise) and the\n",
    "$W$'s are controls explaining variation in wages. Considering transformed wages by the logarithm, we are analyzing the relative difference in the payment of men and women."
   ]
  },
  {
   "cell_type": "code",
   "execution_count": 81,
   "id": "ab1e6642",
   "metadata": {},
   "outputs": [],
   "source": [
    "library('dplyr') # filter dataset"
   ]
  },
  {
   "cell_type": "code",
   "execution_count": 82,
   "id": "b0c31b9d",
   "metadata": {},
   "outputs": [
    {
     "data": {
      "text/html": [
       "<style>\n",
       ".list-inline {list-style: none; margin:0; padding: 0}\n",
       ".list-inline>li {display: inline-block}\n",
       ".list-inline>li:not(:last-child)::after {content: \"\\00b7\"; padding: 0 .5ex}\n",
       "</style>\n",
       "<ol class=list-inline><li>5150</li><li>20</li></ol>\n"
      ],
      "text/latex": [
       "\\begin{enumerate*}\n",
       "\\item 5150\n",
       "\\item 20\n",
       "\\end{enumerate*}\n"
      ],
      "text/markdown": [
       "1. 5150\n",
       "2. 20\n",
       "\n",
       "\n"
      ],
      "text/plain": [
       "[1] 5150   20"
      ]
     },
     "metadata": {},
     "output_type": "display_data"
    }
   ],
   "source": [
    "load(\"../../data/wage2015_subsample_inference.Rdata\")\n",
    "dim(data)"
   ]
  },
  {
   "cell_type": "code",
   "execution_count": 83,
   "id": "224fd345",
   "metadata": {},
   "outputs": [
    {
     "name": "stderr",
     "output_type": "stream",
     "text": [
      "The following objects are masked from data (pos = 9):\n",
      "\n",
      "    ad, clg, exp1, exp2, exp3, exp4, hsg, ind, ind2, lwage, mw, ne,\n",
      "    occ, occ2, scl, sex, shs, so, wage, we\n",
      "\n",
      "\n",
      "The following objects are masked from data (pos = 10):\n",
      "\n",
      "    ad, clg, exp1, exp2, exp3, exp4, hsg, ind, ind2, lwage, mw, ne,\n",
      "    occ, occ2, scl, sex, shs, so, wage, we\n",
      "\n",
      "\n"
     ]
    }
   ],
   "source": [
    "attach(data) "
   ]
  },
  {
   "cell_type": "code",
   "execution_count": 84,
   "id": "a3bcd10c",
   "metadata": {},
   "outputs": [
    {
     "data": {
      "text/html": [
       "<table class=\"dataframe\">\n",
       "<caption>A data.frame: 6 × 20</caption>\n",
       "<thead>\n",
       "\t<tr><th></th><th scope=col>wage</th><th scope=col>lwage</th><th scope=col>sex</th><th scope=col>shs</th><th scope=col>hsg</th><th scope=col>scl</th><th scope=col>clg</th><th scope=col>ad</th><th scope=col>mw</th><th scope=col>so</th><th scope=col>we</th><th scope=col>ne</th><th scope=col>exp1</th><th scope=col>exp2</th><th scope=col>exp3</th><th scope=col>exp4</th><th scope=col>occ</th><th scope=col>occ2</th><th scope=col>ind</th><th scope=col>ind2</th></tr>\n",
       "\t<tr><th></th><th scope=col>&lt;dbl&gt;</th><th scope=col>&lt;dbl&gt;</th><th scope=col>&lt;dbl&gt;</th><th scope=col>&lt;dbl&gt;</th><th scope=col>&lt;dbl&gt;</th><th scope=col>&lt;dbl&gt;</th><th scope=col>&lt;dbl&gt;</th><th scope=col>&lt;dbl&gt;</th><th scope=col>&lt;dbl&gt;</th><th scope=col>&lt;dbl&gt;</th><th scope=col>&lt;dbl&gt;</th><th scope=col>&lt;dbl&gt;</th><th scope=col>&lt;dbl&gt;</th><th scope=col>&lt;dbl&gt;</th><th scope=col>&lt;dbl&gt;</th><th scope=col>&lt;dbl&gt;</th><th scope=col>&lt;fct&gt;</th><th scope=col>&lt;fct&gt;</th><th scope=col>&lt;fct&gt;</th><th scope=col>&lt;fct&gt;</th></tr>\n",
       "</thead>\n",
       "<tbody>\n",
       "\t<tr><th scope=row>10</th><td> 9.615385</td><td>2.263364</td><td>1</td><td>0</td><td>0</td><td>0</td><td>1</td><td>0</td><td>0</td><td>0</td><td>0</td><td>1</td><td> 7</td><td>0.49</td><td> 0.343</td><td> 0.2401</td><td>3600</td><td>11</td><td>8370</td><td>18</td></tr>\n",
       "\t<tr><th scope=row>12</th><td>48.076923</td><td>3.872802</td><td>0</td><td>0</td><td>0</td><td>0</td><td>1</td><td>0</td><td>0</td><td>0</td><td>0</td><td>1</td><td>31</td><td>9.61</td><td>29.791</td><td>92.3521</td><td>3050</td><td>10</td><td>5070</td><td>9 </td></tr>\n",
       "\t<tr><th scope=row>15</th><td>11.057692</td><td>2.403126</td><td>0</td><td>0</td><td>1</td><td>0</td><td>0</td><td>0</td><td>0</td><td>0</td><td>0</td><td>1</td><td>18</td><td>3.24</td><td> 5.832</td><td>10.4976</td><td>6260</td><td>19</td><td>770 </td><td>4 </td></tr>\n",
       "\t<tr><th scope=row>18</th><td>13.942308</td><td>2.634928</td><td>1</td><td>0</td><td>0</td><td>0</td><td>0</td><td>1</td><td>0</td><td>0</td><td>0</td><td>1</td><td>25</td><td>6.25</td><td>15.625</td><td>39.0625</td><td>420 </td><td>1 </td><td>6990</td><td>12</td></tr>\n",
       "\t<tr><th scope=row>19</th><td>28.846154</td><td>3.361977</td><td>1</td><td>0</td><td>0</td><td>0</td><td>1</td><td>0</td><td>0</td><td>0</td><td>0</td><td>1</td><td>22</td><td>4.84</td><td>10.648</td><td>23.4256</td><td>2015</td><td>6 </td><td>9470</td><td>22</td></tr>\n",
       "\t<tr><th scope=row>30</th><td>11.730769</td><td>2.462215</td><td>1</td><td>0</td><td>0</td><td>0</td><td>1</td><td>0</td><td>0</td><td>0</td><td>0</td><td>1</td><td> 1</td><td>0.01</td><td> 0.001</td><td> 0.0001</td><td>1650</td><td>5 </td><td>7460</td><td>14</td></tr>\n",
       "</tbody>\n",
       "</table>\n"
      ],
      "text/latex": [
       "A data.frame: 6 × 20\n",
       "\\begin{tabular}{r|llllllllllllllllllll}\n",
       "  & wage & lwage & sex & shs & hsg & scl & clg & ad & mw & so & we & ne & exp1 & exp2 & exp3 & exp4 & occ & occ2 & ind & ind2\\\\\n",
       "  & <dbl> & <dbl> & <dbl> & <dbl> & <dbl> & <dbl> & <dbl> & <dbl> & <dbl> & <dbl> & <dbl> & <dbl> & <dbl> & <dbl> & <dbl> & <dbl> & <fct> & <fct> & <fct> & <fct>\\\\\n",
       "\\hline\n",
       "\t10 &  9.615385 & 2.263364 & 1 & 0 & 0 & 0 & 1 & 0 & 0 & 0 & 0 & 1 &  7 & 0.49 &  0.343 &  0.2401 & 3600 & 11 & 8370 & 18\\\\\n",
       "\t12 & 48.076923 & 3.872802 & 0 & 0 & 0 & 0 & 1 & 0 & 0 & 0 & 0 & 1 & 31 & 9.61 & 29.791 & 92.3521 & 3050 & 10 & 5070 & 9 \\\\\n",
       "\t15 & 11.057692 & 2.403126 & 0 & 0 & 1 & 0 & 0 & 0 & 0 & 0 & 0 & 1 & 18 & 3.24 &  5.832 & 10.4976 & 6260 & 19 & 770  & 4 \\\\\n",
       "\t18 & 13.942308 & 2.634928 & 1 & 0 & 0 & 0 & 0 & 1 & 0 & 0 & 0 & 1 & 25 & 6.25 & 15.625 & 39.0625 & 420  & 1  & 6990 & 12\\\\\n",
       "\t19 & 28.846154 & 3.361977 & 1 & 0 & 0 & 0 & 1 & 0 & 0 & 0 & 0 & 1 & 22 & 4.84 & 10.648 & 23.4256 & 2015 & 6  & 9470 & 22\\\\\n",
       "\t30 & 11.730769 & 2.462215 & 1 & 0 & 0 & 0 & 1 & 0 & 0 & 0 & 0 & 1 &  1 & 0.01 &  0.001 &  0.0001 & 1650 & 5  & 7460 & 14\\\\\n",
       "\\end{tabular}\n"
      ],
      "text/markdown": [
       "\n",
       "A data.frame: 6 × 20\n",
       "\n",
       "| <!--/--> | wage &lt;dbl&gt; | lwage &lt;dbl&gt; | sex &lt;dbl&gt; | shs &lt;dbl&gt; | hsg &lt;dbl&gt; | scl &lt;dbl&gt; | clg &lt;dbl&gt; | ad &lt;dbl&gt; | mw &lt;dbl&gt; | so &lt;dbl&gt; | we &lt;dbl&gt; | ne &lt;dbl&gt; | exp1 &lt;dbl&gt; | exp2 &lt;dbl&gt; | exp3 &lt;dbl&gt; | exp4 &lt;dbl&gt; | occ &lt;fct&gt; | occ2 &lt;fct&gt; | ind &lt;fct&gt; | ind2 &lt;fct&gt; |\n",
       "|---|---|---|---|---|---|---|---|---|---|---|---|---|---|---|---|---|---|---|---|---|\n",
       "| 10 |  9.615385 | 2.263364 | 1 | 0 | 0 | 0 | 1 | 0 | 0 | 0 | 0 | 1 |  7 | 0.49 |  0.343 |  0.2401 | 3600 | 11 | 8370 | 18 |\n",
       "| 12 | 48.076923 | 3.872802 | 0 | 0 | 0 | 0 | 1 | 0 | 0 | 0 | 0 | 1 | 31 | 9.61 | 29.791 | 92.3521 | 3050 | 10 | 5070 | 9  |\n",
       "| 15 | 11.057692 | 2.403126 | 0 | 0 | 1 | 0 | 0 | 0 | 0 | 0 | 0 | 1 | 18 | 3.24 |  5.832 | 10.4976 | 6260 | 19 | 770  | 4  |\n",
       "| 18 | 13.942308 | 2.634928 | 1 | 0 | 0 | 0 | 0 | 1 | 0 | 0 | 0 | 1 | 25 | 6.25 | 15.625 | 39.0625 | 420  | 1  | 6990 | 12 |\n",
       "| 19 | 28.846154 | 3.361977 | 1 | 0 | 0 | 0 | 1 | 0 | 0 | 0 | 0 | 1 | 22 | 4.84 | 10.648 | 23.4256 | 2015 | 6  | 9470 | 22 |\n",
       "| 30 | 11.730769 | 2.462215 | 1 | 0 | 0 | 0 | 1 | 0 | 0 | 0 | 0 | 1 |  1 | 0.01 |  0.001 |  0.0001 | 1650 | 5  | 7460 | 14 |\n",
       "\n"
      ],
      "text/plain": [
       "   wage      lwage    sex shs hsg scl clg ad mw so we ne exp1 exp2 exp3  \n",
       "10  9.615385 2.263364 1   0   0   0   1   0  0  0  0  1   7   0.49  0.343\n",
       "12 48.076923 3.872802 0   0   0   0   1   0  0  0  0  1  31   9.61 29.791\n",
       "15 11.057692 2.403126 0   0   1   0   0   0  0  0  0  1  18   3.24  5.832\n",
       "18 13.942308 2.634928 1   0   0   0   0   1  0  0  0  1  25   6.25 15.625\n",
       "19 28.846154 3.361977 1   0   0   0   1   0  0  0  0  1  22   4.84 10.648\n",
       "30 11.730769 2.462215 1   0   0   0   1   0  0  0  0  1   1   0.01  0.001\n",
       "   exp4    occ  occ2 ind  ind2\n",
       "10  0.2401 3600 11   8370 18  \n",
       "12 92.3521 3050 10   5070 9   \n",
       "15 10.4976 6260 19   770  4   \n",
       "18 39.0625 420  1    6990 12  \n",
       "19 23.4256 2015 6    9470 22  \n",
       "30  0.0001 1650 5    7460 14  "
      ]
     },
     "metadata": {},
     "output_type": "display_data"
    }
   ],
   "source": [
    "head(data)"
   ]
  },
  {
   "cell_type": "markdown",
   "id": "91ecce9c",
   "metadata": {},
   "source": [
    "***Variable description***\n",
    "\n",
    "- occ : occupational classification\n",
    "- ind : industry classification\n",
    "- lwage : log hourly wage\n",
    "- sex : gender (1 female) (0 male)\n",
    "- shs : some high school\n",
    "- hsg : High school graduated\n",
    "- scl : Some College\n",
    "- clg: College Graduate\n",
    "- ad: Advanced Degree\n",
    "- ne: Northeast\n",
    "- mw: Midwest\n",
    "- so: South\n",
    "- we: West\n",
    "- exp1: experience"
   ]
  },
  {
   "cell_type": "code",
   "execution_count": 87,
   "id": "993d1bab",
   "metadata": {},
   "outputs": [
    {
     "name": "stdout",
     "output_type": "stream",
     "text": [
      "'data.frame':\t5150 obs. of  20 variables:\n",
      " $ wage : num  9.62 48.08 11.06 13.94 28.85 ...\n",
      " $ lwage: num  2.26 3.87 2.4 2.63 3.36 ...\n",
      " $ sex  : num  1 0 0 1 1 1 1 0 1 1 ...\n",
      " $ shs  : num  0 0 0 0 0 0 0 0 0 0 ...\n",
      " $ hsg  : num  0 0 1 0 0 0 1 1 1 0 ...\n",
      " $ scl  : num  0 0 0 0 0 0 0 0 0 0 ...\n",
      " $ clg  : num  1 1 0 0 1 1 0 0 0 1 ...\n",
      " $ ad   : num  0 0 0 1 0 0 0 0 0 0 ...\n",
      " $ mw   : num  0 0 0 0 0 0 0 0 0 0 ...\n",
      " $ so   : num  0 0 0 0 0 0 0 0 0 0 ...\n",
      " $ we   : num  0 0 0 0 0 0 0 0 0 0 ...\n",
      " $ ne   : num  1 1 1 1 1 1 1 1 1 1 ...\n",
      " $ exp1 : num  7 31 18 25 22 1 42 37 31 4 ...\n",
      " $ exp2 : num  0.49 9.61 3.24 6.25 4.84 ...\n",
      " $ exp3 : num  0.343 29.791 5.832 15.625 10.648 ...\n",
      " $ exp4 : num  0.24 92.35 10.5 39.06 23.43 ...\n",
      " $ occ  : Factor w/ 369 levels \"10\",\"20\",\"40\",..: 159 136 269 23 99 86 226 232 184 146 ...\n",
      " $ occ2 : num  11 10 19 1 6 5 17 17 13 10 ...\n",
      " $ ind  : Factor w/ 236 levels \"370\",\"380\",\"390\",..: 204 117 12 165 231 176 171 135 210 201 ...\n",
      " $ ind2 : Factor w/ 21 levels \"2\",\"3\",\"4\",\"5\",..: 17 8 3 11 21 13 13 8 18 17 ...\n"
     ]
    }
   ],
   "source": [
    "str(data)"
   ]
  },
  {
   "cell_type": "code",
   "execution_count": 86,
   "id": "f5c7ca16",
   "metadata": {},
   "outputs": [],
   "source": [
    "data$occ2 <- as.numeric(occ2)"
   ]
  },
  {
   "cell_type": "code",
   "execution_count": 88,
   "id": "9a773506",
   "metadata": {
    "scrolled": true
   },
   "outputs": [
    {
     "data": {
      "text/html": [
       "<style>\n",
       ".list-inline {list-style: none; margin:0; padding: 0}\n",
       ".list-inline>li {display: inline-block}\n",
       ".list-inline>li:not(:last-child)::after {content: \"\\00b7\"; padding: 0 .5ex}\n",
       "</style>\n",
       "<ol class=list-inline><li>3068</li><li>20</li></ol>\n"
      ],
      "text/latex": [
       "\\begin{enumerate*}\n",
       "\\item 3068\n",
       "\\item 20\n",
       "\\end{enumerate*}\n"
      ],
      "text/markdown": [
       "1. 3068\n",
       "2. 20\n",
       "\n",
       "\n"
      ],
      "text/plain": [
       "[1] 3068   20"
      ]
     },
     "metadata": {},
     "output_type": "display_data"
    }
   ],
   "source": [
    "# Focus on the subset of college-educated workers\n",
    "\n",
    "data <- data %>% filter(scl==1 | clg ==1)\n",
    "dim(data)"
   ]
  },
  {
   "cell_type": "code",
   "execution_count": 90,
   "id": "8f89c208",
   "metadata": {},
   "outputs": [],
   "source": [
    "#install.packages('ggplot2')\n",
    "\n",
    "library(ggplot2)"
   ]
  },
  {
   "cell_type": "code",
   "execution_count": 91,
   "id": "9f58e360",
   "metadata": {},
   "outputs": [],
   "source": [
    "data <- data %>% mutate(gender = ifelse(sex == 1 , \"Women\", \"Men\"))"
   ]
  },
  {
   "cell_type": "markdown",
   "id": "c95b7f0a",
   "metadata": {},
   "source": [
    "### 1.0 Main statistics "
   ]
  },
  {
   "cell_type": "code",
   "execution_count": 92,
   "id": "e5bc4f43",
   "metadata": {},
   "outputs": [
    {
     "data": {
      "image/png": "[encoded data removed]",
      "text/plain": [
       "plot without title"
      ]
     },
     "metadata": {
      "image/png": {
       "height": 240,
       "width": 420
      }
     },
     "output_type": "display_data"
    }
   ],
   "source": [
    "data %>% filter(scl == 1) %>%  # scl some college \n",
    "ggplot(aes(x=lwage, fill = gender , colour=gender)) +\n",
    "  geom_density(alpha=0.3, color = \"black\") +\n",
    "ggtitle(\"Log-wage density (Some - College) \") + theme(text=element_text(size =10), plot.title = element_text(hjust = 0.5)) +\n",
    "labs(x = \"\", \n",
    "     y = \"Density\")"
   ]
  },
  {
   "cell_type": "code",
   "execution_count": 93,
   "id": "09ac43fc",
   "metadata": {
    "scrolled": false
   },
   "outputs": [
    {
     "data": {
      "image/png": "[encoded data removed]",
      "text/plain": [
       "plot without title"
      ]
     },
     "metadata": {
      "image/png": {
       "height": 240,
       "width": 420
      }
     },
     "output_type": "display_data"
    }
   ],
   "source": [
    "data %>% filter(clg == 1) %>%\n",
    "ggplot(aes(x=lwage, fill = gender , colour=gender)) +\n",
    "  geom_density(alpha=0.3, color = \"black\") +\n",
    "ggtitle(\"Log-wage density (College graduated)\") + theme(text=element_text(size =10), plot.title = element_text(hjust = 0.5)) +\n",
    "labs(x = \"\", \n",
    "     y = \"Density\")"
   ]
  },
  {
   "cell_type": "code",
   "execution_count": 13,
   "id": "e412761e",
   "metadata": {},
   "outputs": [
    {
     "data": {
      "image/png": "[encoded data removed]",
      "text/plain": [
       "plot without title"
      ]
     },
     "metadata": {
      "image/png": {
       "height": 240,
       "width": 300
      }
     },
     "output_type": "display_data"
    }
   ],
   "source": [
    "options(repr.plot.width = 5, repr.plot.height =4) \n",
    "\n",
    "data %>% mutate(total = sum(clg)) %>%\n",
    "        group_by(gender) %>% \n",
    "                    summarise(clg_total = sum(clg), total = mean(total)) %>% \n",
    "        mutate(var1 = (clg_total/total)*100 )  %>%\n",
    "        ggplot(aes(x=\"\", y=var1, fill=gender)) +\n",
    "          geom_bar(stat=\"identity\", width=1) +\n",
    "          coord_polar(\"y\", start=0) +\n",
    "          theme_void() +\n",
    "        geom_text(aes(label = paste0(round(var1,2), \"%\")), position = position_stack(vjust=0.5)) + \n",
    "            labs(title = \"Percent of graduated College by gender\") + theme(text=element_text(size =10), plot.title = element_text(hjust = 0.5))"
   ]
  },
  {
   "cell_type": "code",
   "execution_count": 14,
   "id": "e9999c7f",
   "metadata": {
    "scrolled": true
   },
   "outputs": [
    {
     "data": {
      "image/png": "[encoded data removed]",
      "text/plain": [
       "plot without title"
      ]
     },
     "metadata": {
      "image/png": {
       "height": 240,
       "width": 300
      }
     },
     "output_type": "display_data"
    }
   ],
   "source": [
    "options(repr.plot.width = 5, repr.plot.height =4) \n",
    "\n",
    "data %>% mutate(total = sum(scl)) %>%\n",
    "        group_by(gender) %>% \n",
    "                    summarise(clg_total = sum(scl), total = mean(total)) %>% \n",
    "        mutate(var1 = (clg_total/total)*100 )  %>%\n",
    "        ggplot(aes(x=\"\", y=var1, fill=gender)) +\n",
    "          geom_bar(stat=\"identity\", width=1) +\n",
    "          coord_polar(\"y\", start=0) +\n",
    "          theme_void() +\n",
    "        geom_text(aes(label = paste0(round(var1,2), \"%\")), position = position_stack(vjust=0.5)) + \n",
    "            labs(title = \"Percent of some College by gender\") + theme(text=element_text(size =10), plot.title = element_text(hjust = 0.5))"
   ]
  },
  {
   "cell_type": "markdown",
   "id": "c7f5bda0",
   "metadata": {},
   "source": [
    "### 1.0 Linear Regression"
   ]
  },
  {
   "cell_type": "code",
   "execution_count": 94,
   "id": "1525da92",
   "metadata": {},
   "outputs": [],
   "source": [
    "library(sandwich)"
   ]
  },
  {
   "cell_type": "code",
   "execution_count": 99,
   "id": "9151736d",
   "metadata": {},
   "outputs": [
    {
     "data": {
      "text/html": [
       "-0.0383447336744173"
      ],
      "text/latex": [
       "-0.0383447336744173"
      ],
      "text/markdown": [
       "-0.0383447336744173"
      ],
      "text/plain": [
       "[1] -0.03834473"
      ]
     },
     "metadata": {},
     "output_type": "display_data"
    }
   ],
   "source": [
    "nocontrol.fit <- lm(lwage ~ sex)\n",
    "summary(nocontrol.fit)$coef[\"sex\",1]"
   ]
  },
  {
   "cell_type": "code",
   "execution_count": 101,
   "id": "f6c6db12",
   "metadata": {},
   "outputs": [
    {
     "data": {
      "text/html": [
       "<style>\n",
       ".dl-inline {width: auto; margin:0; padding: 0}\n",
       ".dl-inline>dt, .dl-inline>dd {float: none; width: auto; display: inline-block}\n",
       ".dl-inline>dt::after {content: \":\\0020\"; padding-right: .5ex}\n",
       ".dl-inline>dt:not(:first-of-type) {padding-left: .5ex}\n",
       "</style><dl class=dl-inline><dt>(Intercept)</dt><dd>0.000118261274306422</dd><dt>sex</dt><dd>0.000252871539259789</dd></dl>\n"
      ],
      "text/latex": [
       "\\begin{description*}\n",
       "\\item[(Intercept)] 0.000118261274306422\n",
       "\\item[sex] 0.000252871539259789\n",
       "\\end{description*}\n"
      ],
      "text/markdown": [
       "(Intercept)\n",
       ":   0.000118261274306422sex\n",
       ":   0.000252871539259789\n",
       "\n"
      ],
      "text/plain": [
       " (Intercept)          sex \n",
       "0.0001182613 0.0002528715 "
      ]
     },
     "metadata": {},
     "output_type": "display_data"
    }
   ],
   "source": [
    "HCV.coefs <- vcovHC(nocontrol.fit, type = 'HC')\n",
    "diag(HCV.coefs)"
   ]
  },
  {
   "cell_type": "code",
   "execution_count": 102,
   "id": "e8cf57ed",
   "metadata": {},
   "outputs": [
    {
     "name": "stdout",
     "output_type": "stream",
     "text": [
      "The estimated gender coefficient is -0.03834473  and the corresponding robust standard error is 0.01590194"
     ]
    }
   ],
   "source": [
    "nocontrol.fit <- lm(lwage ~ sex)\n",
    "\n",
    "nocontrol.est <- summary(nocontrol.fit)$coef[\"sex\",1]\n",
    "\n",
    "HCV.coefs <- vcovHC(nocontrol.fit, type = 'HC');\n",
    "nocontrol.se <- sqrt(diag(HCV.coefs))[2] # Estimated std errors\n",
    "\n",
    "# print unconditional effect of gender and the corresponding standard error\n",
    "cat (\"The estimated gender coefficient is\",nocontrol.est,\" and the corresponding robust standard error is\",nocontrol.se) \n"
   ]
  },
  {
   "cell_type": "markdown",
   "id": "4dc04ad1",
   "metadata": {},
   "source": [
    "Next, we run an ols regression of $Y$ on $(D,W)$ to control for the effect of covariates summarized in $W$:\n",
    "\n",
    "\\begin{align}\n",
    "\\log(Y) &=\\beta_1 D  + \\beta_2' W + \\epsilon.\n",
    "\\end{align}\n",
    "\n",
    "Here, we are considering the flexible model from the previous lab. Hence, $W$ controls for experience, education, region, and occupation and industry indicators plus transformations and two-way interactions."
   ]
  },
  {
   "cell_type": "code",
   "execution_count": 24,
   "id": "40456484",
   "metadata": {
    "scrolled": true
   },
   "outputs": [
    {
     "name": "stdout",
     "output_type": "stream",
     "text": [
      "The estimated gender coefficient is -0.05306234  and the corresponding robust standard error is 0.01835285"
     ]
    }
   ],
   "source": [
    "# Ols regression with controls\n",
    "\n",
    "flex <- lwage ~ sex + (exp1+exp2+exp3+exp4)*(clg+factor(occ2)+ind2+mw+so+we)\n",
    "\n",
    "#   Note that ()*() operation in formula objects in R creates a formula of the sort:\n",
    "#  (exp1+exp2+exp3+exp4)+ (shs+hsg+scl+clg+occ2+ind2+mw+so+we) +  (exp1+exp2+exp3+exp4)*(shs+hsg+scl+clg+occ2+ind2+mw+so+we)\n",
    "#  This is not intuitive at all, but that's what it does.\n",
    "\n",
    "control.fit <- lm(flex, data=data)\n",
    "control.est <- summary(control.fit)$coef[2,1]\n",
    "\n",
    "\n",
    "HCV.coefs <- vcovHC(control.fit, type = 'HC');\n",
    "control.se <- sqrt(diag(HCV.coefs))[2] # Estimated std errors\n",
    "\n",
    "cat (\"The estimated gender coefficient is\",control.est,\" and the corresponding robust standard error is\",control.se) "
   ]
  },
  {
   "cell_type": "code",
   "execution_count": 25,
   "id": "8e39bb77",
   "metadata": {},
   "outputs": [
    {
     "data": {
      "text/plain": [
       "\n",
       "Call:\n",
       "lm(formula = flex, data = data)\n",
       "\n",
       "Residuals:\n",
       "     Min       1Q   Median       3Q      Max \n",
       "-1.87897 -0.27894 -0.00777  0.25823  2.85755 \n",
       "\n",
       "Coefficients: (1 not defined because of singularities)\n",
       "                      Estimate Std. Error t value Pr(>|t|)    \n",
       "(Intercept)          3.4357559  0.5208785   6.596 5.02e-11 ***\n",
       "sex                 -0.0530623  0.0193532  -2.742 0.006149 ** \n",
       "exp1                -0.1962420  0.1996670  -0.983 0.325767    \n",
       "exp2                 4.3105015  2.3797581   1.811 0.070197 .  \n",
       "exp3                -2.3067253  1.0176306  -2.267 0.023480 *  \n",
       "exp4                 0.3513392  0.1382879   2.541 0.011118 *  \n",
       "clg                  0.2498673  0.1237850   2.019 0.043627 *  \n",
       "factor(occ2)2        0.2151993  0.1582208   1.360 0.173900    \n",
       "factor(occ2)3        0.0487642  0.2095297   0.233 0.815986    \n",
       "factor(occ2)4        0.0281449  0.2300084   0.122 0.902619    \n",
       "factor(occ2)5       -0.2711807  0.3944166  -0.688 0.491793    \n",
       "factor(occ2)6       -0.2000530  0.2705614  -0.739 0.459725    \n",
       "factor(occ2)7       -0.1203371  0.4188017  -0.287 0.773875    \n",
       "factor(occ2)8       -0.1719401  0.2721490  -0.632 0.527577    \n",
       "factor(occ2)9       -0.3963629  0.2050361  -1.933 0.053319 .  \n",
       "factor(occ2)10       0.0919819  0.2432203   0.378 0.705323    \n",
       "factor(occ2)11      -0.4994175  0.4368584  -1.143 0.253051    \n",
       "factor(occ2)12       0.1901009  0.3411417   0.557 0.577401    \n",
       "factor(occ2)13      -0.1945287  0.2718809  -0.715 0.474364    \n",
       "factor(occ2)14       0.3010030  0.3808385   0.790 0.429378    \n",
       "factor(occ2)15      -0.3369933  0.3356632  -1.004 0.315482    \n",
       "factor(occ2)16      -0.0407369  0.1712462  -0.238 0.811987    \n",
       "factor(occ2)17      -0.4552186  0.1586012  -2.870 0.004132 ** \n",
       "factor(occ2)18      -0.0100153  2.2144365  -0.005 0.996392    \n",
       "factor(occ2)19       0.0020488  0.4191796   0.005 0.996101    \n",
       "factor(occ2)20      -0.4223277  0.2607281  -1.620 0.105386    \n",
       "factor(occ2)21      -0.9012886  0.2869692  -3.141 0.001703 ** \n",
       "factor(occ2)22      -0.0168748  0.4864599  -0.035 0.972330    \n",
       "ind23               -0.9374763  0.7630580  -1.229 0.219332    \n",
       "ind24                0.0473118  0.5593258   0.085 0.932596    \n",
       "ind25               -0.3770690  0.5232052  -0.721 0.471159    \n",
       "ind26               -0.5542517  0.5190253  -1.068 0.285670    \n",
       "ind27               -0.2812532  0.5714904  -0.492 0.622659    \n",
       "ind28               -0.6504243  0.5874717  -1.107 0.268319    \n",
       "ind29               -0.8045381  0.5094802  -1.579 0.114416    \n",
       "ind210              -0.4506545  0.5675561  -0.794 0.427246    \n",
       "ind211              -0.6634660  0.5259447  -1.261 0.207241    \n",
       "ind212              -0.6138007  0.5032946  -1.220 0.222731    \n",
       "ind213              -0.8964483  0.5817196  -1.541 0.123421    \n",
       "ind214              -0.3901374  0.4977512  -0.784 0.433223    \n",
       "ind215              -0.4653004  0.6882201  -0.676 0.499037    \n",
       "ind216              -0.5080079  0.5281966  -0.962 0.336243    \n",
       "ind217              -0.8686633  0.5294785  -1.641 0.100991    \n",
       "ind218              -0.6396953  0.5155592  -1.241 0.214790    \n",
       "ind219              -0.7415211  0.5552430  -1.335 0.181823    \n",
       "ind220              -0.8142791  0.5275884  -1.543 0.122846    \n",
       "ind221              -0.4997641  0.5348108  -0.934 0.350142    \n",
       "ind222              -0.3786290  0.5405464  -0.700 0.483700    \n",
       "mw                   0.1958465  0.1068723   1.833 0.066978 .  \n",
       "so                  -0.0346190  0.1042672  -0.332 0.739897    \n",
       "we                   0.1261936  0.1184244   1.066 0.286693    \n",
       "exp1:clg             0.0121646  0.0407919   0.298 0.765565    \n",
       "exp1:factor(occ2)2  -0.0631144  0.0630037  -1.002 0.316546    \n",
       "exp1:factor(occ2)3   0.0326274  0.0794502   0.411 0.681349    \n",
       "exp1:factor(occ2)4   0.0107059  0.0949665   0.113 0.910250    \n",
       "exp1:factor(occ2)5  -0.0274672  0.2001848  -0.137 0.890875    \n",
       "exp1:factor(occ2)6  -0.0527366  0.1119821  -0.471 0.637721    \n",
       "exp1:factor(occ2)7  -0.1087102  0.1600695  -0.679 0.497102    \n",
       "exp1:factor(occ2)8  -0.0371404  0.1035842  -0.359 0.719956    \n",
       "exp1:factor(occ2)9   0.1021025  0.0830679   1.229 0.219119    \n",
       "exp1:factor(occ2)10  0.0022818  0.0933261   0.024 0.980496    \n",
       "exp1:factor(occ2)11  0.0369873  0.1571990   0.235 0.814001    \n",
       "exp1:factor(occ2)12 -0.1062438  0.1222611  -0.869 0.384926    \n",
       "exp1:factor(occ2)13  0.0483902  0.0983858   0.492 0.622870    \n",
       "exp1:factor(occ2)14 -0.1209127  0.1397766  -0.865 0.387089    \n",
       "exp1:factor(occ2)15  0.0107765  0.1230134   0.088 0.930198    \n",
       "exp1:factor(occ2)16 -0.0377813  0.0639815  -0.591 0.554901    \n",
       "exp1:factor(occ2)17  0.0473737  0.0588764   0.805 0.421101    \n",
       "exp1:factor(occ2)18 -0.1554316  1.1024362  -0.141 0.887888    \n",
       "exp1:factor(occ2)19 -0.0605324  0.1437029  -0.421 0.673617    \n",
       "exp1:factor(occ2)20  0.0931849  0.0910362   1.024 0.306110    \n",
       "exp1:factor(occ2)21  0.3231623  0.1010818   3.197 0.001404 ** \n",
       "exp1:factor(occ2)22 -0.1560741  0.1581812  -0.987 0.323884    \n",
       "exp1:ind23           0.4320231  0.3058459   1.413 0.157897    \n",
       "exp1:ind24           0.0409994  0.2080253   0.197 0.843772    \n",
       "exp1:ind25           0.1841740  0.2047239   0.900 0.368398    \n",
       "exp1:ind26           0.2255280  0.2011211   1.121 0.262232    \n",
       "exp1:ind27           0.1073133  0.2233358   0.481 0.630908    \n",
       "exp1:ind28           0.2545921  0.2458909   1.035 0.300577    \n",
       "exp1:ind29           0.2092253  0.1968917   1.063 0.288035    \n",
       "exp1:ind210          0.1807059  0.2171637   0.832 0.405412    \n",
       "exp1:ind211          0.2579344  0.2042452   1.263 0.206741    \n",
       "exp1:ind212          0.3170780  0.1967145   1.612 0.107102    \n",
       "exp1:ind213          0.3800928  0.2177404   1.746 0.080985 .  \n",
       "exp1:ind214          0.1408305  0.1946484   0.724 0.469425    \n",
       "exp1:ind215          0.1026476  0.3307499   0.310 0.756319    \n",
       "exp1:ind216          0.1427221  0.2064100   0.691 0.489340    \n",
       "exp1:ind217          0.2977947  0.2040966   1.459 0.144652    \n",
       "exp1:ind218          0.1962564  0.1997709   0.982 0.325983    \n",
       "exp1:ind219          0.1711574  0.2131201   0.803 0.421983    \n",
       "exp1:ind220          0.1746944  0.2031650   0.860 0.389936    \n",
       "exp1:ind221          0.2100177  0.2057559   1.021 0.307477    \n",
       "exp1:ind222          0.1893985  0.2053893   0.922 0.356532    \n",
       "exp1:mw             -0.0619563  0.0418241  -1.481 0.138623    \n",
       "exp1:so              0.0057820  0.0396763   0.146 0.884145    \n",
       "exp1:we             -0.0478640  0.0437059  -1.095 0.273548    \n",
       "exp2:clg            -0.2216086  0.4133059  -0.536 0.591873    \n",
       "exp2:factor(occ2)2   0.2989342  0.7038148   0.425 0.671063    \n",
       "exp2:factor(occ2)3  -0.7211942  0.8855311  -0.814 0.415473    \n",
       "exp2:factor(occ2)4  -0.2699265  1.0959123  -0.246 0.805465    \n",
       "exp2:factor(occ2)5   1.4532318  3.0067008   0.483 0.628898    \n",
       "exp2:factor(occ2)6   0.3834942  1.3720465   0.280 0.779877    \n",
       "exp2:factor(occ2)7   1.1812006  1.8784828   0.629 0.529527    \n",
       "exp2:factor(occ2)8  -0.0274218  1.1533003  -0.024 0.981032    \n",
       "exp2:factor(occ2)9  -1.0621384  0.9470416  -1.122 0.262156    \n",
       "exp2:factor(occ2)10 -0.3264796  1.0432172  -0.313 0.754338    \n",
       "exp2:factor(occ2)11 -0.3405652  1.7015462  -0.200 0.841377    \n",
       "exp2:factor(occ2)12  0.6041155  1.3414334   0.450 0.652492    \n",
       "exp2:factor(occ2)13 -0.9011013  1.0454393  -0.862 0.388796    \n",
       "exp2:factor(occ2)14  0.1176365  1.5082483   0.078 0.937837    \n",
       "exp2:factor(occ2)15 -0.5498030  1.3291914  -0.414 0.679171    \n",
       "exp2:factor(occ2)16  0.0849304  0.6979720   0.122 0.903160    \n",
       "exp2:factor(occ2)17 -0.7493648  0.6435325  -1.164 0.244337    \n",
       "exp2:factor(occ2)18  0.7439583  9.3110051   0.080 0.936322    \n",
       "exp2:factor(occ2)19  0.5498894  1.4906630   0.369 0.712238    \n",
       "exp2:factor(occ2)20 -1.0158810  0.9425130  -1.078 0.281195    \n",
       "exp2:factor(occ2)21 -3.9371723  1.0692967  -3.682 0.000236 ***\n",
       "exp2:factor(occ2)22  1.5179725  1.5342157   0.989 0.322546    \n",
       "exp2:ind23          -6.4796151  3.7990841  -1.706 0.088197 .  \n",
       "exp2:ind24          -2.6872131  2.4441668  -1.099 0.271670    \n",
       "exp2:ind25          -4.1468398  2.4445725  -1.696 0.089930 .  \n",
       "exp2:ind26          -4.2139999  2.3991488  -1.756 0.079118 .  \n",
       "exp2:ind27          -2.7331923  2.6960937  -1.014 0.310784    \n",
       "exp2:ind28          -3.6656460  3.0702318  -1.194 0.232605    \n",
       "exp2:ind29          -3.8996457  2.3582733  -1.654 0.098319 .  \n",
       "exp2:ind210         -3.7035161  2.5382076  -1.459 0.144646    \n",
       "exp2:ind211         -4.5216510  2.4414956  -1.852 0.064130 .  \n",
       "exp2:ind212         -5.1083392  2.3679500  -2.157 0.031067 *  \n",
       "exp2:ind213         -5.6691510  2.5320131  -2.239 0.025234 *  \n",
       "exp2:ind214         -3.1313860  2.3469954  -1.334 0.182242    \n",
       "exp2:ind215         -2.6414528  3.7445752  -0.705 0.480614    \n",
       "exp2:ind216         -3.0267086  2.4664224  -1.227 0.219862    \n",
       "exp2:ind217         -4.7822893  2.4320783  -1.966 0.049357 *  \n",
       "exp2:ind218         -3.8782338  2.3922113  -1.621 0.105088    \n",
       "exp2:ind219         -3.3586261  2.5047964  -1.341 0.180067    \n",
       "exp2:ind220         -3.6271074  2.4173138  -1.500 0.133604    \n",
       "exp2:ind221         -4.0217328  2.4434433  -1.646 0.099889 .  \n",
       "exp2:ind222         -3.7684447  2.4233956  -1.555 0.120051    \n",
       "exp2:mw              0.4838242  0.4691702   1.031 0.302519    \n",
       "exp2:so             -0.0426958  0.4329768  -0.099 0.921455    \n",
       "exp2:we              0.5774804  0.4682555   1.233 0.217581    \n",
       "exp3:clg             0.1002865  0.1583125   0.633 0.526477    \n",
       "exp3:factor(occ2)2   0.0005287  0.2849249   0.002 0.998519    \n",
       "exp3:factor(occ2)3   0.3479651  0.3602479   0.966 0.334174    \n",
       "exp3:factor(occ2)4   0.1327043  0.4490244   0.296 0.767604    \n",
       "exp3:factor(occ2)5  -1.2675466  1.6239177  -0.781 0.435133    \n",
       "exp3:factor(occ2)6  -0.0861625  0.6102063  -0.141 0.887720    \n",
       "exp3:factor(occ2)7  -0.5391536  0.7984378  -0.675 0.499565    \n",
       "exp3:factor(occ2)8   0.1250242  0.4640841   0.269 0.787642    \n",
       "exp3:factor(occ2)9   0.3956094  0.3894184   1.016 0.309765    \n",
       "exp3:factor(occ2)10  0.2356222  0.4270044   0.552 0.581127    \n",
       "exp3:factor(occ2)11  0.0850896  0.6938821   0.123 0.902410    \n",
       "exp3:factor(occ2)12  0.0109101  0.5433951   0.020 0.983983    \n",
       "exp3:factor(occ2)13  0.4099807  0.4063159   1.009 0.313051    \n",
       "exp3:factor(occ2)14  0.2328011  0.5737599   0.406 0.684959    \n",
       "exp3:factor(occ2)15  0.3691372  0.5352416   0.690 0.490461    \n",
       "exp3:factor(occ2)16  0.0915397  0.2798629   0.327 0.743626    \n",
       "exp3:factor(occ2)17  0.3684352  0.2584120   1.426 0.154046    \n",
       "exp3:factor(occ2)18 -0.0728607  1.8129821  -0.040 0.967946    \n",
       "exp3:factor(occ2)19 -0.2037610  0.5768151  -0.353 0.723926    \n",
       "exp3:factor(occ2)20  0.3824008  0.3642037   1.050 0.293824    \n",
       "exp3:factor(occ2)21  1.6041311  0.4182354   3.835 0.000128 ***\n",
       "exp3:factor(occ2)22 -0.5099737  0.5635594  -0.905 0.365587    \n",
       "exp3:ind23           3.2238995  1.7561719   1.836 0.066499 .  \n",
       "exp3:ind24           1.7349800  1.0365754   1.674 0.094288 .  \n",
       "exp3:ind25           2.2421191  1.0432430   2.149 0.031704 *  \n",
       "exp3:ind26           2.2146931  1.0241983   2.162 0.030673 *  \n",
       "exp3:ind27           1.5675521  1.1690776   1.341 0.180078    \n",
       "exp3:ind28           1.5399859  1.3940927   1.105 0.269404    \n",
       "exp3:ind29           2.0399792  1.0113099   2.017 0.043772 *  \n",
       "exp3:ind210          1.9816265  1.0709584   1.850 0.064370 .  \n",
       "exp3:ind211          2.3280002  1.0447922   2.228 0.025946 *  \n",
       "exp3:ind212          2.4986874  1.0171023   2.457 0.014083 *  \n",
       "exp3:ind213          2.6780049  1.0660293   2.512 0.012056 *  \n",
       "exp3:ind214          1.7526421  1.0095029   1.736 0.082647 .  \n",
       "exp3:ind215          1.5784535  1.4815769   1.065 0.286791    \n",
       "exp3:ind216          1.6946544  1.0516350   1.611 0.107193    \n",
       "exp3:ind217          2.3526755  1.0380306   2.266 0.023497 *  \n",
       "exp3:ind218          2.0716863  1.0267137   2.018 0.043708 *  \n",
       "exp3:ind219          1.8267916  1.0604717   1.723 0.085066 .  \n",
       "exp3:ind220          1.9671974  1.0307281   1.909 0.056421 .  \n",
       "exp3:ind221          2.0920770  1.0421031   2.008 0.044785 *  \n",
       "exp3:ind222          2.0075028  1.0304724   1.948 0.051497 .  \n",
       "exp3:mw             -0.1453989  0.1922868  -0.756 0.449618    \n",
       "exp3:so              0.0184796  0.1727892   0.107 0.914837    \n",
       "exp3:we             -0.2308636  0.1843977  -1.252 0.210678    \n",
       "exp4:clg            -0.0134666  0.0201340  -0.669 0.503646    \n",
       "exp4:factor(occ2)2  -0.0133900  0.0376888  -0.355 0.722407    \n",
       "exp4:factor(occ2)3  -0.0486518  0.0476989  -1.020 0.307826    \n",
       "exp4:factor(occ2)4  -0.0223191  0.0593293  -0.376 0.706803    \n",
       "exp4:factor(occ2)5   0.2845962  0.2824632   1.008 0.313756    \n",
       "exp4:factor(occ2)6   0.0035336  0.0875725   0.040 0.967817    \n",
       "exp4:factor(occ2)7   0.0789030  0.1085605   0.727 0.467402    \n",
       "exp4:factor(occ2)8  -0.0258852  0.0605593  -0.427 0.669095    \n",
       "exp4:factor(occ2)9  -0.0479087  0.0519869  -0.922 0.356840    \n",
       "exp4:factor(occ2)10 -0.0411370  0.0572458  -0.719 0.472444    \n",
       "exp4:factor(occ2)11 -0.0044897  0.0932319  -0.048 0.961595    \n",
       "exp4:factor(occ2)12 -0.0327767  0.0723612  -0.453 0.650612    \n",
       "exp4:factor(occ2)13 -0.0574088  0.0515849  -1.113 0.265846    \n",
       "exp4:factor(occ2)14 -0.0524263  0.0705276  -0.743 0.457335    \n",
       "exp4:factor(occ2)15 -0.0619990  0.0708724  -0.875 0.381758    \n",
       "exp4:factor(occ2)16 -0.0264713  0.0367893  -0.720 0.471869    \n",
       "exp4:factor(occ2)17 -0.0553914  0.0339714  -1.631 0.103100    \n",
       "exp4:factor(occ2)18         NA         NA      NA       NA    \n",
       "exp4:factor(occ2)19  0.0241359  0.0730760   0.330 0.741209    \n",
       "exp4:factor(occ2)20 -0.0471960  0.0464443  -1.016 0.309628    \n",
       "exp4:factor(occ2)21 -0.2092063  0.0539166  -3.880 0.000107 ***\n",
       "exp4:factor(occ2)22  0.0540559  0.0691569   0.782 0.434490    \n",
       "exp4:ind23          -0.4970867  0.2682290  -1.853 0.063955 .  \n",
       "exp4:ind24          -0.2847302  0.1398614  -2.036 0.041863 *  \n",
       "exp4:ind25          -0.3402683  0.1415826  -2.403 0.016311 *  \n",
       "exp4:ind26          -0.3338771  0.1389338  -2.403 0.016319 *  \n",
       "exp4:ind27          -0.2444006  0.1615297  -1.513 0.130381    \n",
       "exp4:ind28          -0.1894363  0.2043155  -0.927 0.353914    \n",
       "exp4:ind29          -0.3070943  0.1377034  -2.230 0.025818 *  \n",
       "exp4:ind210         -0.3006797  0.1444260  -2.082 0.037441 *  \n",
       "exp4:ind211         -0.3499129  0.1421750  -2.461 0.013909 *  \n",
       "exp4:ind212         -0.3640899  0.1386132  -2.627 0.008669 ** \n",
       "exp4:ind213         -0.3836270  0.1434293  -2.675 0.007523 ** \n",
       "exp4:ind214         -0.2725083  0.1376981  -1.979 0.047909 *  \n",
       "exp4:ind215         -0.2549218  0.1891411  -1.348 0.177835    \n",
       "exp4:ind216         -0.2662393  0.1425528  -1.868 0.061913 .  \n",
       "exp4:ind217         -0.3434539  0.1408491  -2.438 0.014811 *  \n",
       "exp4:ind218         -0.3168784  0.1401819  -2.260 0.023867 *  \n",
       "exp4:ind219         -0.2815085  0.1433510  -1.964 0.049654 *  \n",
       "exp4:ind220         -0.3038212  0.1397946  -2.173 0.029837 *  \n",
       "exp4:ind221         -0.3142711  0.1414218  -2.222 0.026347 *  \n",
       "exp4:ind222         -0.3061402  0.1396051  -2.193 0.028395 *  \n",
       "exp4:mw              0.0142872  0.0258136   0.553 0.579980    \n",
       "exp4:so             -0.0037591  0.0225465  -0.167 0.867598    \n",
       "exp4:we              0.0282864  0.0238123   1.188 0.234976    \n",
       "---\n",
       "Signif. codes:  0 '***' 0.001 '**' 0.01 '*' 0.05 '.' 0.1 ' ' 1\n",
       "\n",
       "Residual standard error: 0.4635 on 2838 degrees of freedom\n",
       "Multiple R-squared:  0.3295,\tAdjusted R-squared:  0.2754 \n",
       "F-statistic: 6.091 on 229 and 2838 DF,  p-value: < 2.2e-16\n"
      ]
     },
     "metadata": {},
     "output_type": "display_data"
    }
   ],
   "source": [
    "summary(control.fit)"
   ]
  },
  {
   "cell_type": "code",
   "execution_count": 27,
   "id": "f39c8c25",
   "metadata": {},
   "outputs": [
    {
     "name": "stderr",
     "output_type": "stream",
     "text": [
      "Loading required package: zoo\n",
      "\n",
      "\n",
      "Attaching package: 'zoo'\n",
      "\n",
      "\n",
      "The following objects are masked from 'package:base':\n",
      "\n",
      "    as.Date, as.Date.numeric\n",
      "\n",
      "\n"
     ]
    }
   ],
   "source": [
    "#install.packages('xtable')\n",
    "\n",
    "library(lmtest)\n",
    "library(xtable)"
   ]
  },
  {
   "cell_type": "code",
   "execution_count": 29,
   "id": "810856a0",
   "metadata": {
    "scrolled": true
   },
   "outputs": [
    {
     "data": {
      "text/html": [
       "<table class=\"dataframe\">\n",
       "<caption>A xtable: 2 × 4</caption>\n",
       "<thead>\n",
       "\t<tr><th></th><th scope=col>Estimate</th><th scope=col>se</th><th scope=col>lower_bound</th><th scope=col>upper_bound</th></tr>\n",
       "\t<tr><th></th><th scope=col>&lt;dbl&gt;</th><th scope=col>&lt;dbl&gt;</th><th scope=col>&lt;dbl&gt;</th><th scope=col>&lt;dbl&gt;</th></tr>\n",
       "</thead>\n",
       "<tbody>\n",
       "\t<tr><th scope=row>OLS</th><td>-0.08150856</td><td>0.01957965</td><td>-0.11988396</td><td>-0.04313315</td></tr>\n",
       "\t<tr><th scope=row>OLS with control</th><td>-0.05306234</td><td>0.01835285</td><td>-0.08903326</td><td>-0.01709142</td></tr>\n",
       "</tbody>\n",
       "</table>\n"
      ],
      "text/latex": [
       "A xtable: 2 × 4\n",
       "\\begin{tabular}{r|llll}\n",
       "  & Estimate & se & lower\\_bound & upper\\_bound\\\\\n",
       "  & <dbl> & <dbl> & <dbl> & <dbl>\\\\\n",
       "\\hline\n",
       "\tOLS & -0.08150856 & 0.01957965 & -0.11988396 & -0.04313315\\\\\n",
       "\tOLS with control & -0.05306234 & 0.01835285 & -0.08903326 & -0.01709142\\\\\n",
       "\\end{tabular}\n"
      ],
      "text/markdown": [
       "\n",
       "A xtable: 2 × 4\n",
       "\n",
       "| <!--/--> | Estimate &lt;dbl&gt; | se &lt;dbl&gt; | lower_bound &lt;dbl&gt; | upper_bound &lt;dbl&gt; |\n",
       "|---|---|---|---|---|\n",
       "| OLS | -0.08150856 | 0.01957965 | -0.11988396 | -0.04313315 |\n",
       "| OLS with control | -0.05306234 | 0.01835285 | -0.08903326 | -0.01709142 |\n",
       "\n"
      ],
      "text/plain": [
       "                 Estimate    se         lower_bound upper_bound\n",
       "OLS              -0.08150856 0.01957965 -0.11988396 -0.04313315\n",
       "OLS with control -0.05306234 0.01835285 -0.08903326 -0.01709142"
      ]
     },
     "metadata": {},
     "output_type": "display_data"
    }
   ],
   "source": [
    "table<- matrix(0, 2, 4)\n",
    "table[1,1]<- nocontrol.est  \n",
    "table[1,2]<- nocontrol.se   \n",
    "table[2,1]<- control.est\n",
    "table[2,2]<- control.se    \n",
    "table[1,3]<- coefci(nocontrol.fit, df = Inf, vcov. = vcovHC, type = \"HC\")[2,1] \n",
    "table[1,4]<- coefci(nocontrol.fit, df = Inf, vcov. = vcovHC, type = \"HC\")[2,2] \n",
    "table[2,3]<- coefci(control.fit, df = Inf, vcov. = vcovHC, type = \"HC\")[2,1] \n",
    "table[2,4]<- coefci(control.fit, df = Inf, vcov. = vcovHC, type = \"HC\")[2,2] \n",
    "\n",
    "colnames(table)<- c(\"Estimate\",\"se\",\"lower_bound\",\"upper_bound\")\n",
    "rownames(table)<- c(\"OLS\", \"OLS with control\")\n",
    "tab<- xtable(table)\n",
    "tab"
   ]
  },
  {
   "cell_type": "code",
   "execution_count": 33,
   "id": "96e4b473",
   "metadata": {},
   "outputs": [],
   "source": [
    "#library(stargazer)"
   ]
  },
  {
   "cell_type": "code",
   "execution_count": 103,
   "id": "9caad9fa",
   "metadata": {
    "scrolled": true
   },
   "outputs": [
    {
     "name": "stdout",
     "output_type": "stream",
     "text": [
      "\n",
      "% Table created by stargazer v.5.2.3 by Marek Hlavac, Social Policy Institute. E-mail: marek.hlavac at gmail.com\n",
      "% Date and time: vie., may. 27, 2022 - 09:21:40 p. m.\n",
      "\\begin{table}[!htbp] \\centering \n",
      "  \\caption{} \n",
      "  \\label{} \n",
      "\\begin{tabular}{@{\\extracolsep{5pt}}lccccc} \n",
      "\\\\[-1.8ex]\\hline \n",
      "\\hline \\\\[-1.8ex] \n",
      "Statistic & \\multicolumn{1}{c}{N} & \\multicolumn{1}{c}{Mean} & \\multicolumn{1}{c}{St. Dev.} & \\multicolumn{1}{c}{Min} & \\multicolumn{1}{c}{Max} \\\\ \n",
      "\\hline \\\\[-1.8ex] \n",
      "Estimate & 2 & $-$0.067 & 0.020 & $-$0.082 & $-$0.053 \\\\ \n",
      "se & 2 & 0.019 & 0.001 & 0.018 & 0.020 \\\\ \n",
      "lower\\_bound & 2 & $-$0.104 & 0.022 & $-$0.120 & $-$0.089 \\\\ \n",
      "upper\\_bound & 2 & $-$0.030 & 0.018 & $-$0.043 & $-$0.017 \\\\ \n",
      "\\hline \\\\[-1.8ex] \n",
      "\\end{tabular} \n",
      "\\end{table} \n"
     ]
    }
   ],
   "source": [
    "stargazer(tab)"
   ]
  },
  {
   "cell_type": "code",
   "execution_count": 104,
   "id": "eff5940b",
   "metadata": {
    "scrolled": false
   },
   "outputs": [
    {
     "name": "stdout",
     "output_type": "stream",
     "text": [
      "\n",
      "Results\n",
      "====================================================================\n",
      "                                  Dependent variable:               \n",
      "                    ------------------------------------------------\n",
      "                                    Log - real wage                 \n",
      "                        Baseline Model        Model with controls   \n",
      "                             (1)                      (2)           \n",
      "--------------------------------------------------------------------\n",
      "Gender                     -0.038**                -0.053***        \n",
      "                           (0.016)                  (0.019)         \n",
      "                                                                    \n",
      "Experience                                          -0.196          \n",
      "                                                    (0.200)         \n",
      "                                                                    \n",
      "Experience 2                                        4.311*          \n",
      "                                                    (2.380)         \n",
      "                                                                    \n",
      "Experience 3                                       -2.307**         \n",
      "                                                    (1.018)         \n",
      "                                                                    \n",
      "Experience 4                                        0.351**         \n",
      "                                                    (0.138)         \n",
      "                                                                    \n",
      "clg                                                 0.250**         \n",
      "                                                    (0.124)         \n",
      "                                                                    \n",
      "factor(occ2)2                                        0.215          \n",
      "                                                    (0.158)         \n",
      "                                                                    \n",
      "factor(occ2)3                                        0.049          \n",
      "                                                    (0.210)         \n",
      "                                                                    \n",
      "factor(occ2)4                                        0.028          \n",
      "                                                    (0.230)         \n",
      "                                                                    \n",
      "factor(occ2)5                                       -0.271          \n",
      "                                                    (0.394)         \n",
      "                                                                    \n",
      "factor(occ2)6                                       -0.200          \n",
      "                                                    (0.271)         \n",
      "                                                                    \n",
      "factor(occ2)7                                       -0.120          \n",
      "                                                    (0.419)         \n",
      "                                                                    \n",
      "factor(occ2)8                                       -0.172          \n",
      "                                                    (0.272)         \n",
      "                                                                    \n",
      "factor(occ2)9                                       -0.396*         \n",
      "                                                    (0.205)         \n",
      "                                                                    \n",
      "factor(occ2)10                                       0.092          \n",
      "                                                    (0.243)         \n",
      "                                                                    \n",
      "factor(occ2)11                                      -0.499          \n",
      "                                                    (0.437)         \n",
      "                                                                    \n",
      "factor(occ2)12                                       0.190          \n",
      "                                                    (0.341)         \n",
      "                                                                    \n",
      "factor(occ2)13                                      -0.195          \n",
      "                                                    (0.272)         \n",
      "                                                                    \n",
      "factor(occ2)14                                       0.301          \n",
      "                                                    (0.381)         \n",
      "                                                                    \n",
      "factor(occ2)15                                      -0.337          \n",
      "                                                    (0.336)         \n",
      "                                                                    \n",
      "factor(occ2)16                                      -0.041          \n",
      "                                                    (0.171)         \n",
      "                                                                    \n",
      "factor(occ2)17                                     -0.455***        \n",
      "                                                    (0.159)         \n",
      "                                                                    \n",
      "factor(occ2)18                                      -0.010          \n",
      "                                                    (2.214)         \n",
      "                                                                    \n",
      "factor(occ2)19                                       0.002          \n",
      "                                                    (0.419)         \n",
      "                                                                    \n",
      "factor(occ2)20                                      -0.422          \n",
      "                                                    (0.261)         \n",
      "                                                                    \n",
      "factor(occ2)21                                     -0.901***        \n",
      "                                                    (0.287)         \n",
      "                                                                    \n",
      "factor(occ2)22                                      -0.017          \n",
      "                                                    (0.486)         \n",
      "                                                                    \n",
      "ind23                                               -0.937          \n",
      "                                                    (0.763)         \n",
      "                                                                    \n",
      "ind24                                                0.047          \n",
      "                                                    (0.559)         \n",
      "                                                                    \n",
      "ind25                                               -0.377          \n",
      "                                                    (0.523)         \n",
      "                                                                    \n",
      "ind26                                               -0.554          \n",
      "                                                    (0.519)         \n",
      "                                                                    \n",
      "ind27                                               -0.281          \n",
      "                                                    (0.571)         \n",
      "                                                                    \n",
      "ind28                                               -0.650          \n",
      "                                                    (0.587)         \n",
      "                                                                    \n",
      "ind29                                               -0.805          \n",
      "                                                    (0.509)         \n",
      "                                                                    \n",
      "ind210                                              -0.451          \n",
      "                                                    (0.568)         \n",
      "                                                                    \n",
      "ind211                                              -0.663          \n",
      "                                                    (0.526)         \n",
      "                                                                    \n",
      "ind212                                              -0.614          \n",
      "                                                    (0.503)         \n",
      "                                                                    \n",
      "ind213                                              -0.896          \n",
      "                                                    (0.582)         \n",
      "                                                                    \n",
      "ind214                                              -0.390          \n",
      "                                                    (0.498)         \n",
      "                                                                    \n",
      "ind215                                              -0.465          \n",
      "                                                    (0.688)         \n",
      "                                                                    \n",
      "ind216                                              -0.508          \n",
      "                                                    (0.528)         \n",
      "                                                                    \n",
      "ind217                                              -0.869          \n",
      "                                                    (0.529)         \n",
      "                                                                    \n",
      "ind218                                              -0.640          \n",
      "                                                    (0.516)         \n",
      "                                                                    \n",
      "ind219                                              -0.742          \n",
      "                                                    (0.555)         \n",
      "                                                                    \n",
      "ind220                                              -0.814          \n",
      "                                                    (0.528)         \n",
      "                                                                    \n",
      "ind221                                              -0.500          \n",
      "                                                    (0.535)         \n",
      "                                                                    \n",
      "ind222                                              -0.379          \n",
      "                                                    (0.541)         \n",
      "                                                                    \n",
      "mw                                                  0.196*          \n",
      "                                                    (0.107)         \n",
      "                                                                    \n",
      "so                                                  -0.035          \n",
      "                                                    (0.104)         \n",
      "                                                                    \n",
      "we                                                   0.126          \n",
      "                                                    (0.118)         \n",
      "                                                                    \n",
      "exp1:clg                                             0.012          \n",
      "                                                    (0.041)         \n",
      "                                                                    \n",
      "exp1:factor(occ2)2                                  -0.063          \n",
      "                                                    (0.063)         \n",
      "                                                                    \n",
      "exp1:factor(occ2)3                                   0.033          \n",
      "                                                    (0.079)         \n",
      "                                                                    \n",
      "exp1:factor(occ2)4                                   0.011          \n",
      "                                                    (0.095)         \n",
      "                                                                    \n",
      "exp1:factor(occ2)5                                  -0.027          \n",
      "                                                    (0.200)         \n",
      "                                                                    \n",
      "exp1:factor(occ2)6                                  -0.053          \n",
      "                                                    (0.112)         \n",
      "                                                                    \n",
      "exp1:factor(occ2)7                                  -0.109          \n",
      "                                                    (0.160)         \n",
      "                                                                    \n",
      "exp1:factor(occ2)8                                  -0.037          \n",
      "                                                    (0.104)         \n",
      "                                                                    \n",
      "exp1:factor(occ2)9                                   0.102          \n",
      "                                                    (0.083)         \n",
      "                                                                    \n",
      "exp1:factor(occ2)10                                  0.002          \n",
      "                                                    (0.093)         \n",
      "                                                                    \n",
      "exp1:factor(occ2)11                                  0.037          \n",
      "                                                    (0.157)         \n",
      "                                                                    \n",
      "exp1:factor(occ2)12                                 -0.106          \n",
      "                                                    (0.122)         \n",
      "                                                                    \n",
      "exp1:factor(occ2)13                                  0.048          \n",
      "                                                    (0.098)         \n",
      "                                                                    \n",
      "exp1:factor(occ2)14                                 -0.121          \n",
      "                                                    (0.140)         \n",
      "                                                                    \n",
      "exp1:factor(occ2)15                                  0.011          \n",
      "                                                    (0.123)         \n",
      "                                                                    \n",
      "exp1:factor(occ2)16                                 -0.038          \n",
      "                                                    (0.064)         \n",
      "                                                                    \n",
      "exp1:factor(occ2)17                                  0.047          \n",
      "                                                    (0.059)         \n",
      "                                                                    \n",
      "exp1:factor(occ2)18                                 -0.155          \n",
      "                                                    (1.102)         \n",
      "                                                                    \n",
      "exp1:factor(occ2)19                                 -0.061          \n",
      "                                                    (0.144)         \n",
      "                                                                    \n",
      "exp1:factor(occ2)20                                  0.093          \n",
      "                                                    (0.091)         \n",
      "                                                                    \n",
      "exp1:factor(occ2)21                                0.323***         \n",
      "                                                    (0.101)         \n",
      "                                                                    \n",
      "exp1:factor(occ2)22                                 -0.156          \n",
      "                                                    (0.158)         \n",
      "                                                                    \n",
      "exp1:ind23                                           0.432          \n",
      "                                                    (0.306)         \n",
      "                                                                    \n",
      "exp1:ind24                                           0.041          \n",
      "                                                    (0.208)         \n",
      "                                                                    \n",
      "exp1:ind25                                           0.184          \n",
      "                                                    (0.205)         \n",
      "                                                                    \n",
      "exp1:ind26                                           0.226          \n",
      "                                                    (0.201)         \n",
      "                                                                    \n",
      "exp1:ind27                                           0.107          \n",
      "                                                    (0.223)         \n",
      "                                                                    \n",
      "exp1:ind28                                           0.255          \n",
      "                                                    (0.246)         \n",
      "                                                                    \n",
      "exp1:ind29                                           0.209          \n",
      "                                                    (0.197)         \n",
      "                                                                    \n",
      "exp1:ind210                                          0.181          \n",
      "                                                    (0.217)         \n",
      "                                                                    \n",
      "exp1:ind211                                          0.258          \n",
      "                                                    (0.204)         \n",
      "                                                                    \n",
      "exp1:ind212                                          0.317          \n",
      "                                                    (0.197)         \n",
      "                                                                    \n",
      "exp1:ind213                                         0.380*          \n",
      "                                                    (0.218)         \n",
      "                                                                    \n",
      "exp1:ind214                                          0.141          \n",
      "                                                    (0.195)         \n",
      "                                                                    \n",
      "exp1:ind215                                          0.103          \n",
      "                                                    (0.331)         \n",
      "                                                                    \n",
      "exp1:ind216                                          0.143          \n",
      "                                                    (0.206)         \n",
      "                                                                    \n",
      "exp1:ind217                                          0.298          \n",
      "                                                    (0.204)         \n",
      "                                                                    \n",
      "exp1:ind218                                          0.196          \n",
      "                                                    (0.200)         \n",
      "                                                                    \n",
      "exp1:ind219                                          0.171          \n",
      "                                                    (0.213)         \n",
      "                                                                    \n",
      "exp1:ind220                                          0.175          \n",
      "                                                    (0.203)         \n",
      "                                                                    \n",
      "exp1:ind221                                          0.210          \n",
      "                                                    (0.206)         \n",
      "                                                                    \n",
      "exp1:ind222                                          0.189          \n",
      "                                                    (0.205)         \n",
      "                                                                    \n",
      "exp1:mw                                             -0.062          \n",
      "                                                    (0.042)         \n",
      "                                                                    \n",
      "exp1:so                                              0.006          \n",
      "                                                    (0.040)         \n",
      "                                                                    \n",
      "exp1:we                                             -0.048          \n",
      "                                                    (0.044)         \n",
      "                                                                    \n",
      "exp2:clg                                            -0.222          \n",
      "                                                    (0.413)         \n",
      "                                                                    \n",
      "exp2:factor(occ2)2                                   0.299          \n",
      "                                                    (0.704)         \n",
      "                                                                    \n",
      "exp2:factor(occ2)3                                  -0.721          \n",
      "                                                    (0.886)         \n",
      "                                                                    \n",
      "exp2:factor(occ2)4                                  -0.270          \n",
      "                                                    (1.096)         \n",
      "                                                                    \n",
      "exp2:factor(occ2)5                                   1.453          \n",
      "                                                    (3.007)         \n",
      "                                                                    \n",
      "exp2:factor(occ2)6                                   0.383          \n",
      "                                                    (1.372)         \n",
      "                                                                    \n",
      "exp2:factor(occ2)7                                   1.181          \n",
      "                                                    (1.878)         \n",
      "                                                                    \n",
      "exp2:factor(occ2)8                                  -0.027          \n",
      "                                                    (1.153)         \n",
      "                                                                    \n",
      "exp2:factor(occ2)9                                  -1.062          \n",
      "                                                    (0.947)         \n",
      "                                                                    \n",
      "exp2:factor(occ2)10                                 -0.326          \n",
      "                                                    (1.043)         \n",
      "                                                                    \n",
      "exp2:factor(occ2)11                                 -0.341          \n",
      "                                                    (1.702)         \n",
      "                                                                    \n",
      "exp2:factor(occ2)12                                  0.604          \n",
      "                                                    (1.341)         \n",
      "                                                                    \n",
      "exp2:factor(occ2)13                                 -0.901          \n",
      "                                                    (1.045)         \n",
      "                                                                    \n",
      "exp2:factor(occ2)14                                  0.118          \n",
      "                                                    (1.508)         \n",
      "                                                                    \n",
      "exp2:factor(occ2)15                                 -0.550          \n",
      "                                                    (1.329)         \n",
      "                                                                    \n",
      "exp2:factor(occ2)16                                  0.085          \n",
      "                                                    (0.698)         \n",
      "                                                                    \n",
      "exp2:factor(occ2)17                                 -0.749          \n",
      "                                                    (0.644)         \n",
      "                                                                    \n",
      "exp2:factor(occ2)18                                  0.744          \n",
      "                                                    (9.311)         \n",
      "                                                                    \n",
      "exp2:factor(occ2)19                                  0.550          \n",
      "                                                    (1.491)         \n",
      "                                                                    \n",
      "exp2:factor(occ2)20                                 -1.016          \n",
      "                                                    (0.943)         \n",
      "                                                                    \n",
      "exp2:factor(occ2)21                                -3.937***        \n",
      "                                                    (1.069)         \n",
      "                                                                    \n",
      "exp2:factor(occ2)22                                  1.518          \n",
      "                                                    (1.534)         \n",
      "                                                                    \n",
      "exp2:ind23                                          -6.480*         \n",
      "                                                    (3.799)         \n",
      "                                                                    \n",
      "exp2:ind24                                          -2.687          \n",
      "                                                    (2.444)         \n",
      "                                                                    \n",
      "exp2:ind25                                          -4.147*         \n",
      "                                                    (2.445)         \n",
      "                                                                    \n",
      "exp2:ind26                                          -4.214*         \n",
      "                                                    (2.399)         \n",
      "                                                                    \n",
      "exp2:ind27                                          -2.733          \n",
      "                                                    (2.696)         \n",
      "                                                                    \n",
      "exp2:ind28                                          -3.666          \n",
      "                                                    (3.070)         \n",
      "                                                                    \n",
      "exp2:ind29                                          -3.900*         \n",
      "                                                    (2.358)         \n",
      "                                                                    \n",
      "exp2:ind210                                         -3.704          \n",
      "                                                    (2.538)         \n",
      "                                                                    \n",
      "exp2:ind211                                         -4.522*         \n",
      "                                                    (2.441)         \n",
      "                                                                    \n",
      "exp2:ind212                                        -5.108**         \n",
      "                                                    (2.368)         \n",
      "                                                                    \n",
      "exp2:ind213                                        -5.669**         \n",
      "                                                    (2.532)         \n",
      "                                                                    \n",
      "exp2:ind214                                         -3.131          \n",
      "                                                    (2.347)         \n",
      "                                                                    \n",
      "exp2:ind215                                         -2.641          \n",
      "                                                    (3.745)         \n",
      "                                                                    \n",
      "exp2:ind216                                         -3.027          \n",
      "                                                    (2.466)         \n",
      "                                                                    \n",
      "exp2:ind217                                        -4.782**         \n",
      "                                                    (2.432)         \n",
      "                                                                    \n",
      "exp2:ind218                                         -3.878          \n",
      "                                                    (2.392)         \n",
      "                                                                    \n",
      "exp2:ind219                                         -3.359          \n",
      "                                                    (2.505)         \n",
      "                                                                    \n",
      "exp2:ind220                                         -3.627          \n",
      "                                                    (2.417)         \n",
      "                                                                    \n",
      "exp2:ind221                                         -4.022*         \n",
      "                                                    (2.443)         \n",
      "                                                                    \n",
      "exp2:ind222                                         -3.768          \n",
      "                                                    (2.423)         \n",
      "                                                                    \n",
      "exp2:mw                                              0.484          \n",
      "                                                    (0.469)         \n",
      "                                                                    \n",
      "exp2:so                                             -0.043          \n",
      "                                                    (0.433)         \n",
      "                                                                    \n",
      "exp2:we                                              0.577          \n",
      "                                                    (0.468)         \n",
      "                                                                    \n",
      "exp3:clg                                             0.100          \n",
      "                                                    (0.158)         \n",
      "                                                                    \n",
      "exp3:factor(occ2)2                                   0.001          \n",
      "                                                    (0.285)         \n",
      "                                                                    \n",
      "exp3:factor(occ2)3                                   0.348          \n",
      "                                                    (0.360)         \n",
      "                                                                    \n",
      "exp3:factor(occ2)4                                   0.133          \n",
      "                                                    (0.449)         \n",
      "                                                                    \n",
      "exp3:factor(occ2)5                                  -1.268          \n",
      "                                                    (1.624)         \n",
      "                                                                    \n",
      "exp3:factor(occ2)6                                  -0.086          \n",
      "                                                    (0.610)         \n",
      "                                                                    \n",
      "exp3:factor(occ2)7                                  -0.539          \n",
      "                                                    (0.798)         \n",
      "                                                                    \n",
      "exp3:factor(occ2)8                                   0.125          \n",
      "                                                    (0.464)         \n",
      "                                                                    \n",
      "exp3:factor(occ2)9                                   0.396          \n",
      "                                                    (0.389)         \n",
      "                                                                    \n",
      "exp3:factor(occ2)10                                  0.236          \n",
      "                                                    (0.427)         \n",
      "                                                                    \n",
      "exp3:factor(occ2)11                                  0.085          \n",
      "                                                    (0.694)         \n",
      "                                                                    \n",
      "exp3:factor(occ2)12                                  0.011          \n",
      "                                                    (0.543)         \n",
      "                                                                    \n",
      "exp3:factor(occ2)13                                  0.410          \n",
      "                                                    (0.406)         \n",
      "                                                                    \n",
      "exp3:factor(occ2)14                                  0.233          \n",
      "                                                    (0.574)         \n",
      "                                                                    \n",
      "exp3:factor(occ2)15                                  0.369          \n",
      "                                                    (0.535)         \n",
      "                                                                    \n",
      "exp3:factor(occ2)16                                  0.092          \n",
      "                                                    (0.280)         \n",
      "                                                                    \n",
      "exp3:factor(occ2)17                                  0.368          \n",
      "                                                    (0.258)         \n",
      "                                                                    \n",
      "exp3:factor(occ2)18                                 -0.073          \n",
      "                                                    (1.813)         \n",
      "                                                                    \n",
      "exp3:factor(occ2)19                                 -0.204          \n",
      "                                                    (0.577)         \n",
      "                                                                    \n",
      "exp3:factor(occ2)20                                  0.382          \n",
      "                                                    (0.364)         \n",
      "                                                                    \n",
      "exp3:factor(occ2)21                                1.604***         \n",
      "                                                    (0.418)         \n",
      "                                                                    \n",
      "exp3:factor(occ2)22                                 -0.510          \n",
      "                                                    (0.564)         \n",
      "                                                                    \n",
      "exp3:ind23                                          3.224*          \n",
      "                                                    (1.756)         \n",
      "                                                                    \n",
      "exp3:ind24                                          1.735*          \n",
      "                                                    (1.037)         \n",
      "                                                                    \n",
      "exp3:ind25                                          2.242**         \n",
      "                                                    (1.043)         \n",
      "                                                                    \n",
      "exp3:ind26                                          2.215**         \n",
      "                                                    (1.024)         \n",
      "                                                                    \n",
      "exp3:ind27                                           1.568          \n",
      "                                                    (1.169)         \n",
      "                                                                    \n",
      "exp3:ind28                                           1.540          \n",
      "                                                    (1.394)         \n",
      "                                                                    \n",
      "exp3:ind29                                          2.040**         \n",
      "                                                    (1.011)         \n",
      "                                                                    \n",
      "exp3:ind210                                         1.982*          \n",
      "                                                    (1.071)         \n",
      "                                                                    \n",
      "exp3:ind211                                         2.328**         \n",
      "                                                    (1.045)         \n",
      "                                                                    \n",
      "exp3:ind212                                         2.499**         \n",
      "                                                    (1.017)         \n",
      "                                                                    \n",
      "exp3:ind213                                         2.678**         \n",
      "                                                    (1.066)         \n",
      "                                                                    \n",
      "exp3:ind214                                         1.753*          \n",
      "                                                    (1.010)         \n",
      "                                                                    \n",
      "exp3:ind215                                          1.578          \n",
      "                                                    (1.482)         \n",
      "                                                                    \n",
      "exp3:ind216                                          1.695          \n",
      "                                                    (1.052)         \n",
      "                                                                    \n",
      "exp3:ind217                                         2.353**         \n",
      "                                                    (1.038)         \n",
      "                                                                    \n",
      "exp3:ind218                                         2.072**         \n",
      "                                                    (1.027)         \n",
      "                                                                    \n",
      "exp3:ind219                                         1.827*          \n",
      "                                                    (1.060)         \n",
      "                                                                    \n",
      "exp3:ind220                                         1.967*          \n",
      "                                                    (1.031)         \n",
      "                                                                    \n",
      "exp3:ind221                                         2.092**         \n",
      "                                                    (1.042)         \n",
      "                                                                    \n",
      "exp3:ind222                                         2.008*          \n",
      "                                                    (1.030)         \n",
      "                                                                    \n",
      "exp3:mw                                             -0.145          \n",
      "                                                    (0.192)         \n",
      "                                                                    \n",
      "exp3:so                                              0.018          \n",
      "                                                    (0.173)         \n",
      "                                                                    \n",
      "exp3:we                                             -0.231          \n",
      "                                                    (0.184)         \n",
      "                                                                    \n",
      "exp4:clg                                            -0.013          \n",
      "                                                    (0.020)         \n",
      "                                                                    \n",
      "exp4:factor(occ2)2                                  -0.013          \n",
      "                                                    (0.038)         \n",
      "                                                                    \n",
      "exp4:factor(occ2)3                                  -0.049          \n",
      "                                                    (0.048)         \n",
      "                                                                    \n",
      "exp4:factor(occ2)4                                  -0.022          \n",
      "                                                    (0.059)         \n",
      "                                                                    \n",
      "exp4:factor(occ2)5                                   0.285          \n",
      "                                                    (0.282)         \n",
      "                                                                    \n",
      "exp4:factor(occ2)6                                   0.004          \n",
      "                                                    (0.088)         \n",
      "                                                                    \n",
      "exp4:factor(occ2)7                                   0.079          \n",
      "                                                    (0.109)         \n",
      "                                                                    \n",
      "exp4:factor(occ2)8                                  -0.026          \n",
      "                                                    (0.061)         \n",
      "                                                                    \n",
      "exp4:factor(occ2)9                                  -0.048          \n",
      "                                                    (0.052)         \n",
      "                                                                    \n",
      "exp4:factor(occ2)10                                 -0.041          \n",
      "                                                    (0.057)         \n",
      "                                                                    \n",
      "exp4:factor(occ2)11                                 -0.004          \n",
      "                                                    (0.093)         \n",
      "                                                                    \n",
      "exp4:factor(occ2)12                                 -0.033          \n",
      "                                                    (0.072)         \n",
      "                                                                    \n",
      "exp4:factor(occ2)13                                 -0.057          \n",
      "                                                    (0.052)         \n",
      "                                                                    \n",
      "exp4:factor(occ2)14                                 -0.052          \n",
      "                                                    (0.071)         \n",
      "                                                                    \n",
      "exp4:factor(occ2)15                                 -0.062          \n",
      "                                                    (0.071)         \n",
      "                                                                    \n",
      "exp4:factor(occ2)16                                 -0.026          \n",
      "                                                    (0.037)         \n",
      "                                                                    \n",
      "exp4:factor(occ2)17                                 -0.055          \n",
      "                                                    (0.034)         \n",
      "                                                                    \n",
      "exp4:factor(occ2)18                                                 \n",
      "                                                                    \n",
      "                                                                    \n",
      "exp4:factor(occ2)19                                  0.024          \n",
      "                                                    (0.073)         \n",
      "                                                                    \n",
      "exp4:factor(occ2)20                                 -0.047          \n",
      "                                                    (0.046)         \n",
      "                                                                    \n",
      "exp4:factor(occ2)21                                -0.209***        \n",
      "                                                    (0.054)         \n",
      "                                                                    \n",
      "exp4:factor(occ2)22                                  0.054          \n",
      "                                                    (0.069)         \n",
      "                                                                    \n",
      "exp4:ind23                                          -0.497*         \n",
      "                                                    (0.268)         \n",
      "                                                                    \n",
      "exp4:ind24                                         -0.285**         \n",
      "                                                    (0.140)         \n",
      "                                                                    \n",
      "exp4:ind25                                         -0.340**         \n",
      "                                                    (0.142)         \n",
      "                                                                    \n",
      "exp4:ind26                                         -0.334**         \n",
      "                                                    (0.139)         \n",
      "                                                                    \n",
      "exp4:ind27                                          -0.244          \n",
      "                                                    (0.162)         \n",
      "                                                                    \n",
      "exp4:ind28                                          -0.189          \n",
      "                                                    (0.204)         \n",
      "                                                                    \n",
      "exp4:ind29                                         -0.307**         \n",
      "                                                    (0.138)         \n",
      "                                                                    \n",
      "exp4:ind210                                        -0.301**         \n",
      "                                                    (0.144)         \n",
      "                                                                    \n",
      "exp4:ind211                                        -0.350**         \n",
      "                                                    (0.142)         \n",
      "                                                                    \n",
      "exp4:ind212                                        -0.364***        \n",
      "                                                    (0.139)         \n",
      "                                                                    \n",
      "exp4:ind213                                        -0.384***        \n",
      "                                                    (0.143)         \n",
      "                                                                    \n",
      "exp4:ind214                                        -0.273**         \n",
      "                                                    (0.138)         \n",
      "                                                                    \n",
      "exp4:ind215                                         -0.255          \n",
      "                                                    (0.189)         \n",
      "                                                                    \n",
      "exp4:ind216                                         -0.266*         \n",
      "                                                    (0.143)         \n",
      "                                                                    \n",
      "exp4:ind217                                        -0.343**         \n",
      "                                                    (0.141)         \n",
      "                                                                    \n",
      "exp4:ind218                                        -0.317**         \n",
      "                                                    (0.140)         \n",
      "                                                                    \n",
      "exp4:ind219                                        -0.282**         \n",
      "                                                    (0.143)         \n",
      "                                                                    \n",
      "exp4:ind220                                        -0.304**         \n",
      "                                                    (0.140)         \n",
      "                                                                    \n",
      "exp4:ind221                                        -0.314**         \n",
      "                                                    (0.141)         \n",
      "                                                                    \n",
      "exp4:ind222                                        -0.306**         \n",
      "                                                    (0.140)         \n",
      "                                                                    \n",
      "exp4:mw                                              0.014          \n",
      "                                                    (0.026)         \n",
      "                                                                    \n",
      "exp4:so                                             -0.004          \n",
      "                                                    (0.023)         \n",
      "                                                                    \n",
      "exp4:we                                              0.028          \n",
      "                                                    (0.024)         \n",
      "                                                                    \n",
      "Constant                   2.988***                3.436***         \n",
      "                           (0.011)                  (0.521)         \n",
      "                                                                    \n",
      "--------------------------------------------------------------------\n",
      "Observations                5,150                    3,068          \n",
      "R2                          0.001                    0.330          \n",
      "Adjusted R2                 0.001                    0.275          \n",
      "Residual Std. Error   0.570 (df = 5148)        0.463 (df = 2838)    \n",
      "F Statistic         5.752** (df = 1; 5148) 6.091*** (df = 229; 2838)\n",
      "====================================================================\n",
      "Note:                                    *p<0.1; **p<0.05; ***p<0.01\n"
     ]
    }
   ],
   "source": [
    "stargazer(nocontrol.fit,control.fit,\n",
    "          type = \"text\", \n",
    "          column.labels = c(\"Baseline Model\", \"Model with controls\"),  dep.var.labels=c(\"Log - real wage\"), \n",
    "          covariate.labels=c(\"Gender\",\"Experience\",\"Experience 2\", \"Experience 3\",\"Experience 4\"), out=\"models.txt\",\n",
    "          title=\"Results\",align=TRUE          )"
   ]
  },
  {
   "cell_type": "code",
   "execution_count": 61,
   "id": "a5dbf73b",
   "metadata": {},
   "outputs": [
    {
     "name": "stdout",
     "output_type": "stream",
     "text": [
      "\n",
      "Results\n",
      "======================================================================\n",
      "                                   Dependent variable:                \n",
      "                    --------------------------------------------------\n",
      "                                     Log - real wage                  \n",
      "                         Baseline Model         Model with controls   \n",
      "                              (1)                       (2)           \n",
      "----------------------------------------------------------------------\n",
      "Gender                     -0.082***                 -0.053***        \n",
      "                            (0.020)                   (0.019)         \n",
      "                                                                      \n",
      "----------------------------------------------------------------------\n",
      "Observations                 3,068                     3,068          \n",
      "R2                           0.006                     0.330          \n",
      "Adjusted R2                  0.005                     0.275          \n",
      "Residual Std. Error    0.543 (df = 3066)         0.463 (df = 2838)    \n",
      "F Statistic         17.219*** (df = 1; 3066) 6.091*** (df = 229; 2838)\n",
      "======================================================================\n",
      "Note:                                      *p<0.1; **p<0.05; ***p<0.01\n"
     ]
    }
   ],
   "source": [
    "stargazer(nocontrol.fit,control.fit, keep = c(\"sex\"), type = \"text\",\n",
    "          column.labels = c(\"Baseline Model\", \"Model with controls\"),  dep.var.labels=c(\"Log - real wage\"), \n",
    "          covariate.labels=c(\"Gender\",\"Experience\",\"Experience 2\", \"Experience 3\",\"Experience 4\"),\n",
    "          title=\"Results\")"
   ]
  },
  {
   "cell_type": "code",
   "execution_count": 62,
   "id": "ae16f555",
   "metadata": {},
   "outputs": [
    {
     "name": "stdout",
     "output_type": "stream",
     "text": [
      "\n",
      "% Table created by stargazer v.5.2.3 by Marek Hlavac, Social Policy Institute. E-mail: marek.hlavac at gmail.com\n",
      "% Date and time: vie., may. 27, 2022 - 06:41:42 p. m.\n",
      "% Requires LaTeX packages: dcolumn \n",
      "\\begin{table}[!htbp] \\centering \n",
      "  \\caption{Results} \n",
      "  \\label{} \n",
      "\\begin{tabular}{@{\\extracolsep{5pt}}lD{.}{.}{-3} D{.}{.}{-3} } \n",
      "\\\\[-1.8ex]\\hline \n",
      "\\hline \\\\[-1.8ex] \n",
      " & \\multicolumn{2}{c}{\\textit{Dependent variable:}} \\\\ \n",
      "\\cline{2-3} \n",
      "\\\\[-1.8ex] & \\multicolumn{2}{c}{Log - real wage} \\\\ \n",
      " & \\multicolumn{1}{c}{Baseline Model} & \\multicolumn{1}{c}{Model with controls} \\\\ \n",
      "\\\\[-1.8ex] & \\multicolumn{1}{c}{(1)} & \\multicolumn{1}{c}{(2)}\\\\ \n",
      "\\hline \\\\[-1.8ex] \n",
      " Gender & -0.082^{***} & -0.053^{***} \\\\ \n",
      "  & (0.020) & (0.019) \\\\ \n",
      "  & & \\\\ \n",
      "\\hline \\\\[-1.8ex] \n",
      "Observations & \\multicolumn{1}{c}{3,068} & \\multicolumn{1}{c}{3,068} \\\\ \n",
      "R$^{2}$ & \\multicolumn{1}{c}{0.006} & \\multicolumn{1}{c}{0.330} \\\\ \n",
      "Adjusted R$^{2}$ & \\multicolumn{1}{c}{0.005} & \\multicolumn{1}{c}{0.275} \\\\ \n",
      "Residual Std. Error & \\multicolumn{1}{c}{0.543 (df = 3066)} & \\multicolumn{1}{c}{0.463 (df = 2838)} \\\\ \n",
      "F Statistic & \\multicolumn{1}{c}{17.219$^{***}$ (df = 1; 3066)} & \\multicolumn{1}{c}{6.091$^{***}$ (df = 229; 2838)} \\\\ \n",
      "\\hline \n",
      "\\hline \\\\[-1.8ex] \n",
      "\\textit{Note:}  & \\multicolumn{2}{r}{$^{*}$p$<$0.1; $^{**}$p$<$0.05; $^{***}$p$<$0.01} \\\\ \n",
      "\\end{tabular} \n",
      "\\end{table} \n"
     ]
    }
   ],
   "source": [
    "# drop type = text  to get latex \n",
    "\n",
    "stargazer(nocontrol.fit,control.fit, keep = c(\"sex\"),\n",
    "          column.labels = c(\"Baseline Model\", \"Model with controls\"),  dep.var.labels=c(\"Log - real wage\"), \n",
    "          covariate.labels=c(\"Gender\",\"Experience\",\"Experience 2\", \"Experience 3\",\"Experience 4\"),\n",
    "          title=\"Results\",align=TRUE)"
   ]
  },
  {
   "cell_type": "code",
   "execution_count": 108,
   "id": "64d55d83",
   "metadata": {},
   "outputs": [
    {
     "data": {
      "text/html": [
       "<table class=\"dataframe\">\n",
       "<caption>A xtable: 2 × 4</caption>\n",
       "<thead>\n",
       "\t<tr><th></th><th scope=col>Estimate</th><th scope=col>se</th><th scope=col>lower_bound</th><th scope=col>upper_bound</th></tr>\n",
       "\t<tr><th></th><th scope=col>&lt;dbl&gt;</th><th scope=col>&lt;dbl&gt;</th><th scope=col>&lt;dbl&gt;</th><th scope=col>&lt;dbl&gt;</th></tr>\n",
       "</thead>\n",
       "<tbody>\n",
       "\t<tr><th scope=row>OLS</th><td>-0.08150856</td><td>0.01957965</td><td>-0.11988396</td><td>-0.04313315</td></tr>\n",
       "\t<tr><th scope=row>OLS with control</th><td>-0.05306234</td><td>0.01835285</td><td>-0.08903326</td><td>-0.01709142</td></tr>\n",
       "</tbody>\n",
       "</table>\n"
      ],
      "text/latex": [
       "A xtable: 2 × 4\n",
       "\\begin{tabular}{r|llll}\n",
       "  & Estimate & se & lower\\_bound & upper\\_bound\\\\\n",
       "  & <dbl> & <dbl> & <dbl> & <dbl>\\\\\n",
       "\\hline\n",
       "\tOLS & -0.08150856 & 0.01957965 & -0.11988396 & -0.04313315\\\\\n",
       "\tOLS with control & -0.05306234 & 0.01835285 & -0.08903326 & -0.01709142\\\\\n",
       "\\end{tabular}\n"
      ],
      "text/markdown": [
       "\n",
       "A xtable: 2 × 4\n",
       "\n",
       "| <!--/--> | Estimate &lt;dbl&gt; | se &lt;dbl&gt; | lower_bound &lt;dbl&gt; | upper_bound &lt;dbl&gt; |\n",
       "|---|---|---|---|---|\n",
       "| OLS | -0.08150856 | 0.01957965 | -0.11988396 | -0.04313315 |\n",
       "| OLS with control | -0.05306234 | 0.01835285 | -0.08903326 | -0.01709142 |\n",
       "\n"
      ],
      "text/plain": [
       "                 Estimate    se         lower_bound upper_bound\n",
       "OLS              -0.08150856 0.01957965 -0.11988396 -0.04313315\n",
       "OLS with control -0.05306234 0.01835285 -0.08903326 -0.01709142"
      ]
     },
     "metadata": {},
     "output_type": "display_data"
    }
   ],
   "source": [
    "tab"
   ]
  },
  {
   "cell_type": "code",
   "execution_count": 117,
   "id": "0cd1d84d",
   "metadata": {
    "scrolled": false
   },
   "outputs": [
    {
     "data": {
      "image/png": "[encoded data removed]",
      "text/plain": [
       "plot without title"
      ]
     },
     "metadata": {
      "image/png": {
       "height": 600,
       "width": 600
      }
     },
     "output_type": "display_data"
    }
   ],
   "source": [
    "options(repr.plot.width = 10, repr.plot.height =10)  # plot size \n",
    "\n",
    "ggplot(tab, aes(x=rownames(tab), y=Estimate)) +\n",
    "    geom_point(size=1.5) + \n",
    "    geom_errorbar(aes(ymin=lower_bound, ymax=upper_bound) , width = 0.1,color=\"blue\", linetype=\"dashed\") + \n",
    "  labs(x=\"Linear Models\", y=\"\") + ggtitle(\"Confindece interval at 5% confidence level\") +\n",
    "  theme_bw()  + theme(text=element_text(size =12), plot.title = element_text(hjust = 0.5))"
   ]
  },
  {
   "cell_type": "markdown",
   "id": "b91a7bb9",
   "metadata": {},
   "source": [
    "# Graph: Experience profile and log-wage"
   ]
  },
  {
   "cell_type": "markdown",
   "id": "f85b62ab",
   "metadata": {},
   "source": [
    "The task is to replicate the Figure 11.10 from Lemieux (2006) considering that \"you will have only two plotted lines for this college-educated workers\". It means we have to plot using the subset of the original data.\n",
    "\n",
    "A first way is to collapse the data to plot the mean of log-wages for each year of experience. To do so, we first estimate the logwage by a quafratic and quartic expressions, and then we clean the data to plot."
   ]
  },
  {
   "cell_type": "code",
   "execution_count": 118,
   "id": "7147bfa1",
   "metadata": {},
   "outputs": [],
   "source": [
    "data <- data %>% filter(clg == 1)"
   ]
  },
  {
   "cell_type": "code",
   "execution_count": 119,
   "id": "e0264843",
   "metadata": {},
   "outputs": [
    {
     "data": {
      "image/png": "[encoded data removed]",
      "text/plain": [
       "plot without title"
      ]
     },
     "metadata": {
      "image/png": {
       "height": 600,
       "width": 600
      }
     },
     "output_type": "display_data"
    }
   ],
   "source": [
    "ggplot(z_clg, aes(y = lwage, x = exp1)) + geom_point()"
   ]
  },
  {
   "cell_type": "code",
   "execution_count": 120,
   "id": "fa7ab948",
   "metadata": {},
   "outputs": [
    {
     "data": {
      "image/png": "[encoded data removed]",
      "text/plain": [
       "plot without title"
      ]
     },
     "metadata": {
      "image/png": {
       "height": 600,
       "width": 600
      }
     },
     "output_type": "display_data"
    }
   ],
   "source": [
    "ggplot(z_clg, aes(y = lwage, x = exp1)) + geom_line()"
   ]
  },
  {
   "cell_type": "code",
   "execution_count": 129,
   "id": "ecbe7cc5",
   "metadata": {},
   "outputs": [
    {
     "data": {
      "image/png": "[encoded data removed]",
      "text/plain": [
       "plot without title"
      ]
     },
     "metadata": {
      "image/png": {
       "height": 600,
       "width": 600
      }
     },
     "output_type": "display_data"
    }
   ],
   "source": [
    "options(repr.plot.width = 10, repr.plot.height =10)  # plot size\n",
    "\n",
    "ggplot(NULL,aes(exp1,lwage)) +\n",
    "stat_summary_bin(data=z_clg, fun='mean', bins=10, color='red', size=5, geom='point') "
   ]
  },
  {
   "cell_type": "code",
   "execution_count": 68,
   "id": "f3ff4ce9",
   "metadata": {},
   "outputs": [],
   "source": [
    "quartic   <- lwage ~  exp1+exp2+exp3+exp4\n",
    "quadratic <- lwage ~  exp1+exp2\n",
    "\n",
    "# quartic\n",
    "quartic_pred <- predict(lm(quartic, data=data))  # lm(arg1 = formula, data)\n",
    "\n",
    "# quadratic\n",
    "quadratic_pred <- predict(lm(quadratic, data=data))\n",
    "\n",
    "# adding predictions\n",
    "z_clg <- data %>% mutate(lwage_quartic = quartic_pred)\n",
    "\n",
    "z_clg <- z_clg %>% mutate(lwage_quadratic = quadratic_pred)\n",
    "\n"
   ]
  },
  {
   "cell_type": "code",
   "execution_count": 79,
   "id": "e1cd130f",
   "metadata": {
    "scrolled": true
   },
   "outputs": [
    {
     "data": {
      "image/png": "[encoded data removed]",
      "text/plain": [
       "plot without title"
      ]
     },
     "metadata": {
      "image/png": {
       "height": 240,
       "width": 420
      }
     },
     "output_type": "display_data"
    }
   ],
   "source": [
    "options(repr.plot.width = 7, repr.plot.height =4) \n",
    "\n",
    "\n",
    "ggplot(NULL,aes(exp1,lwage)) +\n",
    "stat_summary_bin(data=z_clg, fun='mean', bins=20, color='black', size=1.5, geom='point') +\n",
    "geom_line(data=z_clg, aes(x=exp1, y=lwage_quadratic, colour=\"darkblue\", )) + \n",
    "geom_line(data=z_clg, aes(x=exp1, y=lwage_quartic, colour=\"red\")) +\n",
    "labs(x = \"years of potential experience\", \n",
    "     y = \"Log-wage\", \n",
    "     title = \"Experience profiles and log-wage for college-educated workers\") +\n",
    "theme(legend.key.height = unit(1, 'cm')) +\n",
    "scale_color_identity(name = \"Legend\", labels = c(\"Quadratic fit\", \"Quartic fit\"),\n",
    "                     guide = \"legend\")+\n",
    "  theme_bw() + theme(text=element_text(size =8), plot.title = element_text(hjust = 0.5))"
   ]
  },
  {
   "cell_type": "markdown",
   "id": "e4b73c8f",
   "metadata": {},
   "source": [
    "It is clear that the relation between experiencie and log-wage fits better to the quartic prediction."
   ]
  },
  {
   "cell_type": "code",
   "execution_count": 34,
   "id": "eddf9f95",
   "metadata": {},
   "outputs": [
    {
     "data": {
      "text/html": [
       "<style>\n",
       ".list-inline {list-style: none; margin:0; padding: 0}\n",
       ".list-inline>li {display: inline-block}\n",
       ".list-inline>li:not(:last-child)::after {content: \"\\00b7\"; padding: 0 .5ex}\n",
       "</style>\n",
       "<ol class=list-inline><li>'exp1'</li><li>'clg'</li><li>'lwage'</li><li>'lwage_quartic'</li><li>'lwage_quadratic'</li></ol>\n"
      ],
      "text/latex": [
       "\\begin{enumerate*}\n",
       "\\item 'exp1'\n",
       "\\item 'clg'\n",
       "\\item 'lwage'\n",
       "\\item 'lwage\\_quartic'\n",
       "\\item 'lwage\\_quadratic'\n",
       "\\end{enumerate*}\n"
      ],
      "text/markdown": [
       "1. 'exp1'\n",
       "2. 'clg'\n",
       "3. 'lwage'\n",
       "4. 'lwage_quartic'\n",
       "5. 'lwage_quadratic'\n",
       "\n",
       "\n"
      ],
      "text/plain": [
       "[1] \"exp1\"            \"clg\"             \"lwage\"           \"lwage_quartic\"  \n",
       "[5] \"lwage_quadratic\""
      ]
     },
     "metadata": {},
     "output_type": "display_data"
    }
   ],
   "source": [
    "# cleaning data to plot\n",
    "graph_2 <- z_clg %>% group_by(exp1, clg) %>% \n",
    "  summarise_at(vars(lwage, lwage_quartic, lwage_quadratic), mean)\n",
    "names(graph_2)"
   ]
  }
 ],
 "metadata": {
  "kernelspec": {
   "display_name": "R",
   "language": "R",
   "name": "ir"
  },
  "language_info": {
   "codemirror_mode": "r",
   "file_extension": ".r",
   "mimetype": "text/x-r-source",
   "name": "R",
   "pygments_lexer": "r",
   "version": "4.2.0"
  }
 },
 "nbformat": 4,
 "nbformat_minor": 5
}
