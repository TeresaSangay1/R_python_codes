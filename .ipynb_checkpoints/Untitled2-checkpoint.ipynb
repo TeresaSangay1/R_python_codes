{
 "cells": [
  {
   "cell_type": "markdown",
   "id": "4bf5253f",
   "metadata": {},
   "source": [
    "# 2. Manejo de información geo-referenciada\n",
    "\n",
    "Debe trabajar con información cartográfica del Censo 2017. El archivo shapefile respectivo está en la carpeta 5 Informacion Cartografica Shape. La información geográfica de los centros de salud mental para Lima está en el excel Salud mental peru.xls."
   ]
  },
  {
   "cell_type": "markdown",
   "id": "ac79bf6a",
   "metadata": {},
   "source": [
    "### 2.1. Subir la base de datos de las manzanas en formate GeodataFrame. Crear los centroides de las manzanas"
   ]
  },
  {
   "cell_type": "code",
   "execution_count": 3,
   "id": "fd6b8956",
   "metadata": {
    "scrolled": true
   },
   "outputs": [
    {
     "name": "stdout",
     "output_type": "stream",
     "text": [
      "Collecting geopandasNote: you may need to restart the kernel to use updated packages.\n",
      "  Using cached geopandas-0.11.0-py3-none-any.whl (1.0 MB)\n",
      "Requirement already satisfied: packaging in c:\\users\\teresa\\anaconda3\\lib\\site-packages (from geopandas) (21.0)\n",
      "Requirement already satisfied: pyproj>=2.6.1.post1 in c:\\users\\teresa\\anaconda3\\lib\\site-packages (from geopandas) (3.3.1)\n",
      "\n",
      "Requirement already satisfied: shapely<2,>=1.7 in c:\\users\\teresa\\anaconda3\\lib\\site-packages (from geopandas) (1.8.2)"
     ]
    },
    {
     "name": "stderr",
     "output_type": "stream",
     "text": [
      "    ERROR: Command errored out with exit status 1:\n",
      "     command: 'C:\\Users\\teresa\\anaconda3\\python.exe' -c 'import io, os, sys, setuptools, tokenize; sys.argv[0] = '\"'\"'C:\\\\Users\\\\Public\\\\Documents\\\\Wondershare\\\\CreatorTemp\\\\pip-install-tdmfe_ns\\\\fiona_7287a7f0403a4eb5ba6b9904de6dd8b7\\\\setup.py'\"'\"'; __file__='\"'\"'C:\\\\Users\\\\Public\\\\Documents\\\\Wondershare\\\\CreatorTemp\\\\pip-install-tdmfe_ns\\\\fiona_7287a7f0403a4eb5ba6b9904de6dd8b7\\\\setup.py'\"'\"';f = getattr(tokenize, '\"'\"'open'\"'\"', open)(__file__) if os.path.exists(__file__) else io.StringIO('\"'\"'from setuptools import setup; setup()'\"'\"');code = f.read().replace('\"'\"'\\r\\n'\"'\"', '\"'\"'\\n'\"'\"');f.close();exec(compile(code, __file__, '\"'\"'exec'\"'\"'))' egg_info --egg-base 'C:\\Users\\Public\\Documents\\Wondershare\\CreatorTemp\\pip-pip-egg-info-h73zjnm1'\n",
      "         cwd: C:\\Users\\Public\\Documents\\Wondershare\\CreatorTemp\\pip-install-tdmfe_ns\\fiona_7287a7f0403a4eb5ba6b9904de6dd8b7\\\n",
      "    Complete output (1 lines):\n",
      "    A GDAL API version must be specified. Provide a path to gdal-config using a GDAL_CONFIG environment variable or use a GDAL_VERSION environment variable.\n",
      "    ----------------------------------------\n",
      "WARNING: Discarding https://files.pythonhosted.org/packages/67/5c/4e028e84a1f0cb3f8a994217cf2366360ca984dfc1433f6171de527d0dca/Fiona-1.8.21.tar.gz#sha256=3a0edca2a7a070db405d71187214a43d2333a57b4097544a3fcc282066a58bfc (from https://pypi.org/simple/fiona/). Command errored out with exit status 1: python setup.py egg_info Check the logs for full command output.\n",
      "    ERROR: Command errored out with exit status 1:\n",
      "     command: 'C:\\Users\\teresa\\anaconda3\\python.exe' -c 'import io, os, sys, setuptools, tokenize; sys.argv[0] = '\"'\"'C:\\\\Users\\\\Public\\\\Documents\\\\Wondershare\\\\CreatorTemp\\\\pip-install-tdmfe_ns\\\\fiona_dcdd0d55837c448da74a1ba9f8744467\\\\setup.py'\"'\"'; __file__='\"'\"'C:\\\\Users\\\\Public\\\\Documents\\\\Wondershare\\\\CreatorTemp\\\\pip-install-tdmfe_ns\\\\fiona_dcdd0d55837c448da74a1ba9f8744467\\\\setup.py'\"'\"';f = getattr(tokenize, '\"'\"'open'\"'\"', open)(__file__) if os.path.exists(__file__) else io.StringIO('\"'\"'from setuptools import setup; setup()'\"'\"');code = f.read().replace('\"'\"'\\r\\n'\"'\"', '\"'\"'\\n'\"'\"');f.close();exec(compile(code, __file__, '\"'\"'exec'\"'\"'))' egg_info --egg-base 'C:\\Users\\Public\\Documents\\Wondershare\\CreatorTemp\\pip-pip-egg-info-4ezm4ojg'\n",
      "         cwd: C:\\Users\\Public\\Documents\\Wondershare\\CreatorTemp\\pip-install-tdmfe_ns\\fiona_dcdd0d55837c448da74a1ba9f8744467\\\n",
      "    Complete output (1 lines):\n",
      "    A GDAL API version must be specified. Provide a path to gdal-config using a GDAL_CONFIG environment variable or use a GDAL_VERSION environment variable.\n",
      "    ----------------------------------------\n",
      "WARNING: Discarding https://files.pythonhosted.org/packages/ec/f7/093890341a7e8fbfcdfa04caf4dfb588ebab32c13ceaa6a3819da79ea106/Fiona-1.8.20.tar.gz#sha256=a70502d2857b82f749c09cb0dea3726787747933a2a1599b5ab787d74e3c143b (from https://pypi.org/simple/fiona/). Command errored out with exit status 1: python setup.py egg_info Check the logs for full command output.\n",
      "    ERROR: Command errored out with exit status 1:\n",
      "     command: 'C:\\Users\\teresa\\anaconda3\\python.exe' -c 'import io, os, sys, setuptools, tokenize; sys.argv[0] = '\"'\"'C:\\\\Users\\\\Public\\\\Documents\\\\Wondershare\\\\CreatorTemp\\\\pip-install-tdmfe_ns\\\\fiona_6d07b878514645d9ae2523521005eec8\\\\setup.py'\"'\"'; __file__='\"'\"'C:\\\\Users\\\\Public\\\\Documents\\\\Wondershare\\\\CreatorTemp\\\\pip-install-tdmfe_ns\\\\fiona_6d07b878514645d9ae2523521005eec8\\\\setup.py'\"'\"';f = getattr(tokenize, '\"'\"'open'\"'\"', open)(__file__) if os.path.exists(__file__) else io.StringIO('\"'\"'from setuptools import setup; setup()'\"'\"');code = f.read().replace('\"'\"'\\r\\n'\"'\"', '\"'\"'\\n'\"'\"');f.close();exec(compile(code, __file__, '\"'\"'exec'\"'\"'))' egg_info --egg-base 'C:\\Users\\Public\\Documents\\Wondershare\\CreatorTemp\\pip-pip-egg-info-zelz85fk'\n",
      "         cwd: C:\\Users\\Public\\Documents\\Wondershare\\CreatorTemp\\pip-install-tdmfe_ns\\fiona_6d07b878514645d9ae2523521005eec8\\\n",
      "    Complete output (1 lines):\n",
      "    A GDAL API version must be specified. Provide a path to gdal-config using a GDAL_CONFIG environment variable or use a GDAL_VERSION environment variable.\n",
      "    ----------------------------------------\n",
      "WARNING: Discarding https://files.pythonhosted.org/packages/a0/d9/6042aeb073d11341f7726de0586ff71c13117c34959dcf07bd4ee6d4b93e/Fiona-1.8.19.tar.gz#sha256=b9059e0b29c2e9e6b817e53f941e77e1aca7075f986005d38db307067b60458f (from https://pypi.org/simple/fiona/). Command errored out with exit status 1: python setup.py egg_info Check the logs for full command output.\n",
      "    ERROR: Command errored out with exit status 1:\n",
      "     command: 'C:\\Users\\teresa\\anaconda3\\python.exe' -c 'import io, os, sys, setuptools, tokenize; sys.argv[0] = '\"'\"'C:\\\\Users\\\\Public\\\\Documents\\\\Wondershare\\\\CreatorTemp\\\\pip-install-tdmfe_ns\\\\fiona_266ef688c4b94279b1c345a4deb158e1\\\\setup.py'\"'\"'; __file__='\"'\"'C:\\\\Users\\\\Public\\\\Documents\\\\Wondershare\\\\CreatorTemp\\\\pip-install-tdmfe_ns\\\\fiona_266ef688c4b94279b1c345a4deb158e1\\\\setup.py'\"'\"';f = getattr(tokenize, '\"'\"'open'\"'\"', open)(__file__) if os.path.exists(__file__) else io.StringIO('\"'\"'from setuptools import setup; setup()'\"'\"');code = f.read().replace('\"'\"'\\r\\n'\"'\"', '\"'\"'\\n'\"'\"');f.close();exec(compile(code, __file__, '\"'\"'exec'\"'\"'))' egg_info --egg-base 'C:\\Users\\Public\\Documents\\Wondershare\\CreatorTemp\\pip-pip-egg-info-h_fp_os7'\n",
      "         cwd: C:\\Users\\Public\\Documents\\Wondershare\\CreatorTemp\\pip-install-tdmfe_ns\\fiona_266ef688c4b94279b1c345a4deb158e1\\\n",
      "    Complete output (1 lines):\n",
      "    A GDAL API version must be specified. Provide a path to gdal-config using a GDAL_CONFIG environment variable or use a GDAL_VERSION environment variable.\n",
      "    ----------------------------------------\n",
      "WARNING: Discarding https://files.pythonhosted.org/packages/9f/e8/401cdaa58d862a25c4b3365acf7d2bd7ac77191e3dc9acdcdac0eff20ff0/Fiona-1.8.18.tar.gz#sha256=b732ece0ff8886a29c439723a3e1fc382718804bb057519d537a81308854967a (from https://pypi.org/simple/fiona/). Command errored out with exit status 1: python setup.py egg_info Check the logs for full command output.\n",
      "    ERROR: Command errored out with exit status 1:\n",
      "     command: 'C:\\Users\\teresa\\anaconda3\\python.exe' -c 'import io, os, sys, setuptools, tokenize; sys.argv[0] = '\"'\"'C:\\\\Users\\\\Public\\\\Documents\\\\Wondershare\\\\CreatorTemp\\\\pip-install-tdmfe_ns\\\\fiona_cb2d78a7dcf6469e99eb4b4898e825e5\\\\setup.py'\"'\"'; __file__='\"'\"'C:\\\\Users\\\\Public\\\\Documents\\\\Wondershare\\\\CreatorTemp\\\\pip-install-tdmfe_ns\\\\fiona_cb2d78a7dcf6469e99eb4b4898e825e5\\\\setup.py'\"'\"';f = getattr(tokenize, '\"'\"'open'\"'\"', open)(__file__) if os.path.exists(__file__) else io.StringIO('\"'\"'from setuptools import setup; setup()'\"'\"');code = f.read().replace('\"'\"'\\r\\n'\"'\"', '\"'\"'\\n'\"'\"');f.close();exec(compile(code, __file__, '\"'\"'exec'\"'\"'))' egg_info --egg-base 'C:\\Users\\Public\\Documents\\Wondershare\\CreatorTemp\\pip-pip-egg-info-dpcwa4np'\n",
      "         cwd: C:\\Users\\Public\\Documents\\Wondershare\\CreatorTemp\\pip-install-tdmfe_ns\\fiona_cb2d78a7dcf6469e99eb4b4898e825e5\\\n",
      "    Complete output (1 lines):\n",
      "    A GDAL API version must be specified. Provide a path to gdal-config using a GDAL_CONFIG environment variable or use a GDAL_VERSION environment variable.\n",
      "    ----------------------------------------\n",
      "WARNING: Discarding https://files.pythonhosted.org/packages/88/62/69347ba2c41b526e1953c4cb66d51170b2869808863c03af202ba0121670/Fiona-1.8.17.tar.gz#sha256=716201c21246587f374785bec6d6a20a984fe1f6c2b0e83bf15127eb8f724d0c (from https://pypi.org/simple/fiona/). Command errored out with exit status 1: python setup.py egg_info Check the logs for full command output.\n",
      "    ERROR: Command errored out with exit status 1:\n",
      "     command: 'C:\\Users\\teresa\\anaconda3\\python.exe' -c 'import io, os, sys, setuptools, tokenize; sys.argv[0] = '\"'\"'C:\\\\Users\\\\Public\\\\Documents\\\\Wondershare\\\\CreatorTemp\\\\pip-install-tdmfe_ns\\\\fiona_c0e819db55e2424688a953ff4f709928\\\\setup.py'\"'\"'; __file__='\"'\"'C:\\\\Users\\\\Public\\\\Documents\\\\Wondershare\\\\CreatorTemp\\\\pip-install-tdmfe_ns\\\\fiona_c0e819db55e2424688a953ff4f709928\\\\setup.py'\"'\"';f = getattr(tokenize, '\"'\"'open'\"'\"', open)(__file__) if os.path.exists(__file__) else io.StringIO('\"'\"'from setuptools import setup; setup()'\"'\"');code = f.read().replace('\"'\"'\\r\\n'\"'\"', '\"'\"'\\n'\"'\"');f.close();exec(compile(code, __file__, '\"'\"'exec'\"'\"'))' egg_info --egg-base 'C:\\Users\\Public\\Documents\\Wondershare\\CreatorTemp\\pip-pip-egg-info-4uijrixh'\n",
      "         cwd: C:\\Users\\Public\\Documents\\Wondershare\\CreatorTemp\\pip-install-tdmfe_ns\\fiona_c0e819db55e2424688a953ff4f709928\\\n",
      "    Complete output (1 lines):\n",
      "    A GDAL API version must be specified. Provide a path to gdal-config using a GDAL_CONFIG environment variable or use a GDAL_VERSION environment variable.\n",
      "    ----------------------------------------\n",
      "WARNING: Discarding https://files.pythonhosted.org/packages/1e/60/dfc6115a11338d8aa96cacd8c60635223d9c97d61d556c90acc5dfd663fa/Fiona-1.8.16.tar.gz#sha256=fd6dfb65959becc916e9f6928618bfd59c16cdbc413ece0fbac61489cd11255f (from https://pypi.org/simple/fiona/). Command errored out with exit status 1: python setup.py egg_info Check the logs for full command output.\n",
      "    ERROR: Command errored out with exit status 1:\n",
      "     command: 'C:\\Users\\teresa\\anaconda3\\python.exe' -c 'import io, os, sys, setuptools, tokenize; sys.argv[0] = '\"'\"'C:\\\\Users\\\\Public\\\\Documents\\\\Wondershare\\\\CreatorTemp\\\\pip-install-tdmfe_ns\\\\fiona_c1a21ea3ed0442438c54282635b1f0fe\\\\setup.py'\"'\"'; __file__='\"'\"'C:\\\\Users\\\\Public\\\\Documents\\\\Wondershare\\\\CreatorTemp\\\\pip-install-tdmfe_ns\\\\fiona_c1a21ea3ed0442438c54282635b1f0fe\\\\setup.py'\"'\"';f = getattr(tokenize, '\"'\"'open'\"'\"', open)(__file__) if os.path.exists(__file__) else io.StringIO('\"'\"'from setuptools import setup; setup()'\"'\"');code = f.read().replace('\"'\"'\\r\\n'\"'\"', '\"'\"'\\n'\"'\"');f.close();exec(compile(code, __file__, '\"'\"'exec'\"'\"'))' egg_info --egg-base 'C:\\Users\\Public\\Documents\\Wondershare\\CreatorTemp\\pip-pip-egg-info-cnoyk4gz'\n",
      "         cwd: C:\\Users\\Public\\Documents\\Wondershare\\CreatorTemp\\pip-install-tdmfe_ns\\fiona_c1a21ea3ed0442438c54282635b1f0fe\\\n",
      "    Complete output (1 lines):\n",
      "    A GDAL API version must be specified. Provide a path to gdal-config using a GDAL_CONFIG environment variable or use a GDAL_VERSION environment variable.\n",
      "    ----------------------------------------\n"
     ]
    },
    {
     "name": "stdout",
     "output_type": "stream",
     "text": [
      "\n",
      "Requirement already satisfied: pandas>=1.0.0 in c:\\users\\teresa\\anaconda3\\lib\\site-packages (from geopandas) (1.3.4)\n",
      "Collecting fiona>=1.8\n",
      "  Using cached Fiona-1.8.21.tar.gz (1.0 MB)\n",
      "  Using cached Fiona-1.8.20.tar.gz (1.3 MB)\n",
      "  Using cached Fiona-1.8.19.tar.gz (1.3 MB)\n",
      "  Using cached Fiona-1.8.18.tar.gz (1.3 MB)\n",
      "  Using cached Fiona-1.8.17.tar.gz (1.3 MB)\n",
      "  Using cached Fiona-1.8.16.tar.gz (1.3 MB)\n",
      "  Using cached Fiona-1.8.15.tar.gz (1.3 MB)\n",
      "  Using cached Fiona-1.8.14.tar.gz (1.3 MB)\n",
      "  Using cached Fiona-1.8.13.post1.tar.gz (1.2 MB)\n",
      "  Using cached Fiona-1.8.13.tar.gz (1.2 MB)\n",
      "  Using cached Fiona-1.8.12.tar.gz (1.2 MB)\n",
      "  Using cached Fiona-1.8.11.tar.gz (1.2 MB)\n",
      "  Using cached Fiona-1.8.10.tar.gz (1.2 MB)\n",
      "  Using cached Fiona-1.8.9.post2.tar.gz (1.2 MB)\n",
      "  Using cached Fiona-1.8.9.post1.tar.gz (1.2 MB)\n",
      "  Using cached Fiona-1.8.9.tar.gz (1.2 MB)\n",
      "  Using cached Fiona-1.8.8.tar.gz (1.7 MB)\n",
      "  Using cached Fiona-1.8.7.tar.gz (1.7 MB)\n",
      "  Using cached Fiona-1.8.6.tar.gz (1.7 MB)\n",
      "  Using cached Fiona-1.8.5.tar.gz (1.7 MB)\n",
      "  Using cached Fiona-1.8.4.tar.gz (1.1 MB)\n",
      "  Using cached Fiona-1.8.3.tar.gz (1.1 MB)\n",
      "  Using cached Fiona-1.8.2.tar.gz (1.2 MB)\n",
      "  Using cached Fiona-1.8.1.tar.gz (1.1 MB)\n",
      "  Using cached Fiona-1.8.0.tar.gz (1.4 MB)\n",
      "Collecting geopandas\n",
      "  Using cached geopandas-0.10.2-py2.py3-none-any.whl (1.0 MB)\n",
      "  Using cached geopandas-0.10.1-py2.py3-none-any.whl (1.0 MB)\n",
      "  Using cached geopandas-0.10.0-py2.py3-none-any.whl (1.0 MB)\n",
      "  Using cached geopandas-0.9.0-py2.py3-none-any.whl (994 kB)\n",
      "  Using cached geopandas-0.8.2-py2.py3-none-any.whl (962 kB)\n",
      "Collecting fiona\n",
      "  Using cached Fiona-1.7.13.tar.gz (731 kB)\n",
      "Requirement already satisfied: pytz>=2017.3 in c:\\users\\teresa\\anaconda3\\lib\\site-packages (from pandas>=1.0.0->geopandas) (2021.3)\n",
      "Requirement already satisfied: python-dateutil>=2.7.3 in c:\\users\\teresa\\appdata\\roaming\\python\\python39\\site-packages (from pandas>=1.0.0->geopandas) (2.8.1)\n",
      "Requirement already satisfied: numpy>=1.17.3 in c:\\users\\teresa\\anaconda3\\lib\\site-packages (from pandas>=1.0.0->geopandas) (1.20.3)\n",
      "Requirement already satisfied: certifi in c:\\users\\teresa\\anaconda3\\lib\\site-packages (from pyproj>=2.6.1.post1->geopandas) (2021.10.8)\n",
      "Requirement already satisfied: six>=1.5 in c:\\users\\teresa\\appdata\\roaming\\python\\python39\\site-packages (from python-dateutil>=2.7.3->pandas>=1.0.0->geopandas) (1.15.0)\n",
      "Requirement already satisfied: cligj>=0.4 in c:\\users\\teresa\\anaconda3\\lib\\site-packages (from fiona->geopandas) (0.7.2)\n",
      "Requirement already satisfied: click-plugins in c:\\users\\teresa\\anaconda3\\lib\\site-packages (from fiona->geopandas) (1.1.1)\n",
      "Requirement already satisfied: munch in c:\\users\\teresa\\anaconda3\\lib\\site-packages (from fiona->geopandas) (2.5.0)\n",
      "Requirement already satisfied: click>=4.0 in c:\\users\\teresa\\anaconda3\\lib\\site-packages (from cligj>=0.4->fiona->geopandas) (8.0.3)\n",
      "Requirement already satisfied: colorama in c:\\users\\teresa\\appdata\\roaming\\python\\python39\\site-packages (from click>=4.0->cligj>=0.4->fiona->geopandas) (0.4.4)\n",
      "Building wheels for collected packages: fiona\n",
      "  Building wheel for fiona (setup.py): started\n",
      "  Building wheel for fiona (setup.py): finished with status 'error'\n",
      "  Running setup.py clean for fiona\n",
      "Failed to build fiona\n",
      "Installing collected packages: fiona, geopandas\n",
      "    Running setup.py install for fiona: started\n",
      "    Running setup.py install for fiona: finished with status 'error'\n"
     ]
    },
    {
     "name": "stderr",
     "output_type": "stream",
     "text": [
      "WARNING: Discarding https://files.pythonhosted.org/packages/55/2f/17450ec2c8fcc720a8a3e4d9a383499508475c7cfb90f7eca9fb585ac598/Fiona-1.8.15.tar.gz#sha256=3b1c9b5c834fae2fe947cfaea176db890bc6750d1a6ba9f54d969c19ffcd191e (from https://pypi.org/simple/fiona/). Command errored out with exit status 1: python setup.py egg_info Check the logs for full command output.\n",
      "    ERROR: Command errored out with exit status 1:\n",
      "     command: 'C:\\Users\\teresa\\anaconda3\\python.exe' -c 'import io, os, sys, setuptools, tokenize; sys.argv[0] = '\"'\"'C:\\\\Users\\\\Public\\\\Documents\\\\Wondershare\\\\CreatorTemp\\\\pip-install-tdmfe_ns\\\\fiona_4f9c5bac1a9e4665922eb1407fb0f97b\\\\setup.py'\"'\"'; __file__='\"'\"'C:\\\\Users\\\\Public\\\\Documents\\\\Wondershare\\\\CreatorTemp\\\\pip-install-tdmfe_ns\\\\fiona_4f9c5bac1a9e4665922eb1407fb0f97b\\\\setup.py'\"'\"';f = getattr(tokenize, '\"'\"'open'\"'\"', open)(__file__) if os.path.exists(__file__) else io.StringIO('\"'\"'from setuptools import setup; setup()'\"'\"');code = f.read().replace('\"'\"'\\r\\n'\"'\"', '\"'\"'\\n'\"'\"');f.close();exec(compile(code, __file__, '\"'\"'exec'\"'\"'))' egg_info --egg-base 'C:\\Users\\Public\\Documents\\Wondershare\\CreatorTemp\\pip-pip-egg-info-asywu8jx'\n",
      "         cwd: C:\\Users\\Public\\Documents\\Wondershare\\CreatorTemp\\pip-install-tdmfe_ns\\fiona_4f9c5bac1a9e4665922eb1407fb0f97b\\\n",
      "    Complete output (1 lines):\n",
      "    A GDAL API version must be specified. Provide a path to gdal-config using a GDAL_CONFIG environment variable or use a GDAL_VERSION environment variable.\n",
      "    ----------------------------------------\n",
      "WARNING: Discarding https://files.pythonhosted.org/packages/5c/fd/5ec54f2d9b3d5dd23dd443fad5630d6b872e2664814c68b856c47e0d65af/Fiona-1.8.14.tar.gz#sha256=6eac038206c89d2cf5f99ea38b81cc228dc21eac5f47870a9a32d453b0007f4d (from https://pypi.org/simple/fiona/). Command errored out with exit status 1: python setup.py egg_info Check the logs for full command output.\n",
      "    ERROR: Command errored out with exit status 1:\n",
      "     command: 'C:\\Users\\teresa\\anaconda3\\python.exe' -c 'import io, os, sys, setuptools, tokenize; sys.argv[0] = '\"'\"'C:\\\\Users\\\\Public\\\\Documents\\\\Wondershare\\\\CreatorTemp\\\\pip-install-tdmfe_ns\\\\fiona_94d864b1f665412f8b9cef703fa291cd\\\\setup.py'\"'\"'; __file__='\"'\"'C:\\\\Users\\\\Public\\\\Documents\\\\Wondershare\\\\CreatorTemp\\\\pip-install-tdmfe_ns\\\\fiona_94d864b1f665412f8b9cef703fa291cd\\\\setup.py'\"'\"';f = getattr(tokenize, '\"'\"'open'\"'\"', open)(__file__) if os.path.exists(__file__) else io.StringIO('\"'\"'from setuptools import setup; setup()'\"'\"');code = f.read().replace('\"'\"'\\r\\n'\"'\"', '\"'\"'\\n'\"'\"');f.close();exec(compile(code, __file__, '\"'\"'exec'\"'\"'))' egg_info --egg-base 'C:\\Users\\Public\\Documents\\Wondershare\\CreatorTemp\\pip-pip-egg-info-4avyddqv'\n",
      "         cwd: C:\\Users\\Public\\Documents\\Wondershare\\CreatorTemp\\pip-install-tdmfe_ns\\fiona_94d864b1f665412f8b9cef703fa291cd\\\n",
      "    Complete output (1 lines):\n",
      "    A GDAL API version must be specified. Provide a path to gdal-config using a GDAL_CONFIG environment variable or use a GDAL_VERSION environment variable.\n",
      "    ----------------------------------------\n",
      "WARNING: Discarding https://files.pythonhosted.org/packages/6d/42/f4a7cac53b28fa70e9a93d0e89a24d33e14826dad6644b699362ad84dde0/Fiona-1.8.13.post1.tar.gz#sha256=1a432bf9fd56f089256c010da009c90d4a795c531a848132c965052185336600 (from https://pypi.org/simple/fiona/). Command errored out with exit status 1: python setup.py egg_info Check the logs for full command output.\n",
      "    ERROR: Command errored out with exit status 1:\n",
      "     command: 'C:\\Users\\teresa\\anaconda3\\python.exe' -c 'import io, os, sys, setuptools, tokenize; sys.argv[0] = '\"'\"'C:\\\\Users\\\\Public\\\\Documents\\\\Wondershare\\\\CreatorTemp\\\\pip-install-tdmfe_ns\\\\fiona_70b5d5b05f1b4ed6942204642b34fc87\\\\setup.py'\"'\"'; __file__='\"'\"'C:\\\\Users\\\\Public\\\\Documents\\\\Wondershare\\\\CreatorTemp\\\\pip-install-tdmfe_ns\\\\fiona_70b5d5b05f1b4ed6942204642b34fc87\\\\setup.py'\"'\"';f = getattr(tokenize, '\"'\"'open'\"'\"', open)(__file__) if os.path.exists(__file__) else io.StringIO('\"'\"'from setuptools import setup; setup()'\"'\"');code = f.read().replace('\"'\"'\\r\\n'\"'\"', '\"'\"'\\n'\"'\"');f.close();exec(compile(code, __file__, '\"'\"'exec'\"'\"'))' egg_info --egg-base 'C:\\Users\\Public\\Documents\\Wondershare\\CreatorTemp\\pip-pip-egg-info-q5p_c8mu'\n",
      "         cwd: C:\\Users\\Public\\Documents\\Wondershare\\CreatorTemp\\pip-install-tdmfe_ns\\fiona_70b5d5b05f1b4ed6942204642b34fc87\\\n",
      "    Complete output (1 lines):\n",
      "    A GDAL API version must be specified. Provide a path to gdal-config using a GDAL_CONFIG environment variable or use a GDAL_VERSION environment variable.\n",
      "    ----------------------------------------\n",
      "WARNING: Discarding https://files.pythonhosted.org/packages/be/04/31d0a6f03943b1684f32c9b861be40c1fd282468fa6bd54ddf4a774e6b0f/Fiona-1.8.13.tar.gz#sha256=5ec34898c8b983a723fb4e949dd3e0ed7e691c303e51f6bfd61e52ac9ac813ae (from https://pypi.org/simple/fiona/). Command errored out with exit status 1: python setup.py egg_info Check the logs for full command output.\n",
      "    ERROR: Command errored out with exit status 1:\n",
      "     command: 'C:\\Users\\teresa\\anaconda3\\python.exe' -c 'import io, os, sys, setuptools, tokenize; sys.argv[0] = '\"'\"'C:\\\\Users\\\\Public\\\\Documents\\\\Wondershare\\\\CreatorTemp\\\\pip-install-tdmfe_ns\\\\fiona_7f5879778f664a098148d78f38580179\\\\setup.py'\"'\"'; __file__='\"'\"'C:\\\\Users\\\\Public\\\\Documents\\\\Wondershare\\\\CreatorTemp\\\\pip-install-tdmfe_ns\\\\fiona_7f5879778f664a098148d78f38580179\\\\setup.py'\"'\"';f = getattr(tokenize, '\"'\"'open'\"'\"', open)(__file__) if os.path.exists(__file__) else io.StringIO('\"'\"'from setuptools import setup; setup()'\"'\"');code = f.read().replace('\"'\"'\\r\\n'\"'\"', '\"'\"'\\n'\"'\"');f.close();exec(compile(code, __file__, '\"'\"'exec'\"'\"'))' egg_info --egg-base 'C:\\Users\\Public\\Documents\\Wondershare\\CreatorTemp\\pip-pip-egg-info-eeoout3e'\n",
      "         cwd: C:\\Users\\Public\\Documents\\Wondershare\\CreatorTemp\\pip-install-tdmfe_ns\\fiona_7f5879778f664a098148d78f38580179\\\n",
      "    Complete output (1 lines):\n",
      "    A GDAL API version must be specified. Provide a path to gdal-config using a GDAL_CONFIG environment variable or use a GDAL_VERSION environment variable.\n",
      "    ----------------------------------------\n",
      "WARNING: Discarding https://files.pythonhosted.org/packages/97/d8/feab39987296437fbdc3029fb39752a14355d217d73b93471010b8dd63a3/Fiona-1.8.12.tar.gz#sha256=c9266ddf6ae2a64fcea20014ddf27f800ac07584f2fdb09c2a02f3b3a52e371c (from https://pypi.org/simple/fiona/). Command errored out with exit status 1: python setup.py egg_info Check the logs for full command output.\n",
      "    ERROR: Command errored out with exit status 1:\n",
      "     command: 'C:\\Users\\teresa\\anaconda3\\python.exe' -c 'import io, os, sys, setuptools, tokenize; sys.argv[0] = '\"'\"'C:\\\\Users\\\\Public\\\\Documents\\\\Wondershare\\\\CreatorTemp\\\\pip-install-tdmfe_ns\\\\fiona_d42c0ebca20145c192350f47d03321c5\\\\setup.py'\"'\"'; __file__='\"'\"'C:\\\\Users\\\\Public\\\\Documents\\\\Wondershare\\\\CreatorTemp\\\\pip-install-tdmfe_ns\\\\fiona_d42c0ebca20145c192350f47d03321c5\\\\setup.py'\"'\"';f = getattr(tokenize, '\"'\"'open'\"'\"', open)(__file__) if os.path.exists(__file__) else io.StringIO('\"'\"'from setuptools import setup; setup()'\"'\"');code = f.read().replace('\"'\"'\\r\\n'\"'\"', '\"'\"'\\n'\"'\"');f.close();exec(compile(code, __file__, '\"'\"'exec'\"'\"'))' egg_info --egg-base 'C:\\Users\\Public\\Documents\\Wondershare\\CreatorTemp\\pip-pip-egg-info-mdihzgg5'\n",
      "         cwd: C:\\Users\\Public\\Documents\\Wondershare\\CreatorTemp\\pip-install-tdmfe_ns\\fiona_d42c0ebca20145c192350f47d03321c5\\\n",
      "    Complete output (1 lines):\n",
      "    A GDAL API version must be specified. Provide a path to gdal-config using a GDAL_CONFIG environment variable or use a GDAL_VERSION environment variable.\n",
      "    ----------------------------------------\n",
      "WARNING: Discarding https://files.pythonhosted.org/packages/9d/f4/0a0ddc6174c4a93679b5f1dd3535e7ef8989828e6d5f86112de681f8c87b/Fiona-1.8.11.tar.gz#sha256=1e7ca9e051f5bffa1c43c70d573da9ca223fc076b84fa73380614fc02b9eb7f6 (from https://pypi.org/simple/fiona/). Command errored out with exit status 1: python setup.py egg_info Check the logs for full command output.\n",
      "    ERROR: Command errored out with exit status 1:\n",
      "     command: 'C:\\Users\\teresa\\anaconda3\\python.exe' -c 'import io, os, sys, setuptools, tokenize; sys.argv[0] = '\"'\"'C:\\\\Users\\\\Public\\\\Documents\\\\Wondershare\\\\CreatorTemp\\\\pip-install-tdmfe_ns\\\\fiona_0656065800744c169769c9d0a2e8e300\\\\setup.py'\"'\"'; __file__='\"'\"'C:\\\\Users\\\\Public\\\\Documents\\\\Wondershare\\\\CreatorTemp\\\\pip-install-tdmfe_ns\\\\fiona_0656065800744c169769c9d0a2e8e300\\\\setup.py'\"'\"';f = getattr(tokenize, '\"'\"'open'\"'\"', open)(__file__) if os.path.exists(__file__) else io.StringIO('\"'\"'from setuptools import setup; setup()'\"'\"');code = f.read().replace('\"'\"'\\r\\n'\"'\"', '\"'\"'\\n'\"'\"');f.close();exec(compile(code, __file__, '\"'\"'exec'\"'\"'))' egg_info --egg-base 'C:\\Users\\Public\\Documents\\Wondershare\\CreatorTemp\\pip-pip-egg-info-i1ubkb78'\n",
      "         cwd: C:\\Users\\Public\\Documents\\Wondershare\\CreatorTemp\\pip-install-tdmfe_ns\\fiona_0656065800744c169769c9d0a2e8e300\\\n",
      "    Complete output (1 lines):\n",
      "    A GDAL API version must be specified. Provide a path to gdal-config using a GDAL_CONFIG environment variable or use a GDAL_VERSION environment variable.\n",
      "    ----------------------------------------\n",
      "WARNING: Discarding https://files.pythonhosted.org/packages/13/73/f80b491ed8559326fab202a6d6333a3cd6e8be1e9d782bc6c0d03d476457/Fiona-1.8.10.tar.gz#sha256=ff562eb2f3960e21f8c7f050ddd7f47a763869ea14afc2234a40df72666c6a2c (from https://pypi.org/simple/fiona/). Command errored out with exit status 1: python setup.py egg_info Check the logs for full command output.\n",
      "    ERROR: Command errored out with exit status 1:\n",
      "     command: 'C:\\Users\\teresa\\anaconda3\\python.exe' -c 'import io, os, sys, setuptools, tokenize; sys.argv[0] = '\"'\"'C:\\\\Users\\\\Public\\\\Documents\\\\Wondershare\\\\CreatorTemp\\\\pip-install-tdmfe_ns\\\\fiona_dbd19bb8180349f89d314e8f8b189652\\\\setup.py'\"'\"'; __file__='\"'\"'C:\\\\Users\\\\Public\\\\Documents\\\\Wondershare\\\\CreatorTemp\\\\pip-install-tdmfe_ns\\\\fiona_dbd19bb8180349f89d314e8f8b189652\\\\setup.py'\"'\"';f = getattr(tokenize, '\"'\"'open'\"'\"', open)(__file__) if os.path.exists(__file__) else io.StringIO('\"'\"'from setuptools import setup; setup()'\"'\"');code = f.read().replace('\"'\"'\\r\\n'\"'\"', '\"'\"'\\n'\"'\"');f.close();exec(compile(code, __file__, '\"'\"'exec'\"'\"'))' egg_info --egg-base 'C:\\Users\\Public\\Documents\\Wondershare\\CreatorTemp\\pip-pip-egg-info-gtfs73ek'\n",
      "         cwd: C:\\Users\\Public\\Documents\\Wondershare\\CreatorTemp\\pip-install-tdmfe_ns\\fiona_dbd19bb8180349f89d314e8f8b189652\\\n",
      "    Complete output (1 lines):\n",
      "    A GDAL API version must be specified. Provide a path to gdal-config using a GDAL_CONFIG environment variable or use a GDAL_VERSION environment variable.\n",
      "    ----------------------------------------\n",
      "WARNING: Discarding https://files.pythonhosted.org/packages/9b/52/45e75507660ce0e86176d0f59b659560f687e2c7e9ebf82a10e7dcd2d3b7/Fiona-1.8.9.post2.tar.gz#sha256=210fb038b579fab38f35ddbdd31b9725f4d5099b3edfd4b87c983e5d47b79983 (from https://pypi.org/simple/fiona/). Command errored out with exit status 1: python setup.py egg_info Check the logs for full command output.\n",
      "    ERROR: Command errored out with exit status 1:\n",
      "     command: 'C:\\Users\\teresa\\anaconda3\\python.exe' -c 'import io, os, sys, setuptools, tokenize; sys.argv[0] = '\"'\"'C:\\\\Users\\\\Public\\\\Documents\\\\Wondershare\\\\CreatorTemp\\\\pip-install-tdmfe_ns\\\\fiona_9693d856d912499982d1e3096a882257\\\\setup.py'\"'\"'; __file__='\"'\"'C:\\\\Users\\\\Public\\\\Documents\\\\Wondershare\\\\CreatorTemp\\\\pip-install-tdmfe_ns\\\\fiona_9693d856d912499982d1e3096a882257\\\\setup.py'\"'\"';f = getattr(tokenize, '\"'\"'open'\"'\"', open)(__file__) if os.path.exists(__file__) else io.StringIO('\"'\"'from setuptools import setup; setup()'\"'\"');code = f.read().replace('\"'\"'\\r\\n'\"'\"', '\"'\"'\\n'\"'\"');f.close();exec(compile(code, __file__, '\"'\"'exec'\"'\"'))' egg_info --egg-base 'C:\\Users\\Public\\Documents\\Wondershare\\CreatorTemp\\pip-pip-egg-info-angixoe0'\n",
      "         cwd: C:\\Users\\Public\\Documents\\Wondershare\\CreatorTemp\\pip-install-tdmfe_ns\\fiona_9693d856d912499982d1e3096a882257\\\n",
      "    Complete output (1 lines):\n",
      "    A GDAL API version must be specified. Provide a path to gdal-config using a GDAL_CONFIG environment variable or use a GDAL_VERSION environment variable.\n",
      "    ----------------------------------------\n",
      "WARNING: Discarding https://files.pythonhosted.org/packages/0e/a4/d9dd7399be809d3990f5000fb6ae43189ea26ae88be1bed3a4c9ddc1becc/Fiona-1.8.9.post1.tar.gz#sha256=d5e0ea0b8addffe9cba4cb59e2bd495b015230e7a1b1597974f5048211930199 (from https://pypi.org/simple/fiona/). Command errored out with exit status 1: python setup.py egg_info Check the logs for full command output.\n",
      "    ERROR: Command errored out with exit status 1:\n",
      "     command: 'C:\\Users\\teresa\\anaconda3\\python.exe' -c 'import io, os, sys, setuptools, tokenize; sys.argv[0] = '\"'\"'C:\\\\Users\\\\Public\\\\Documents\\\\Wondershare\\\\CreatorTemp\\\\pip-install-tdmfe_ns\\\\fiona_7722194a888247ffb567b7f1ec628b1c\\\\setup.py'\"'\"'; __file__='\"'\"'C:\\\\Users\\\\Public\\\\Documents\\\\Wondershare\\\\CreatorTemp\\\\pip-install-tdmfe_ns\\\\fiona_7722194a888247ffb567b7f1ec628b1c\\\\setup.py'\"'\"';f = getattr(tokenize, '\"'\"'open'\"'\"', open)(__file__) if os.path.exists(__file__) else io.StringIO('\"'\"'from setuptools import setup; setup()'\"'\"');code = f.read().replace('\"'\"'\\r\\n'\"'\"', '\"'\"'\\n'\"'\"');f.close();exec(compile(code, __file__, '\"'\"'exec'\"'\"'))' egg_info --egg-base 'C:\\Users\\Public\\Documents\\Wondershare\\CreatorTemp\\pip-pip-egg-info-jp2fpway'\n",
      "         cwd: C:\\Users\\Public\\Documents\\Wondershare\\CreatorTemp\\pip-install-tdmfe_ns\\fiona_7722194a888247ffb567b7f1ec628b1c\\\n",
      "    Complete output (1 lines):\n",
      "    A GDAL API version must be specified. Provide a path to gdal-config using a GDAL_CONFIG environment variable or use a GDAL_VERSION environment variable.\n",
      "    ----------------------------------------\n",
      "WARNING: Discarding https://files.pythonhosted.org/packages/ad/92/dcbd8c54d697c22f299b5af63b6df3acfbd06c6d72e249614c05be99337c/Fiona-1.8.9.tar.gz#sha256=4dd6e2f5327c1174143c7c8594a75d373bc72f2c9a2a6daee312c3186a128add (from https://pypi.org/simple/fiona/). Command errored out with exit status 1: python setup.py egg_info Check the logs for full command output.\n",
      "    ERROR: Command errored out with exit status 1:\n",
      "     command: 'C:\\Users\\teresa\\anaconda3\\python.exe' -c 'import io, os, sys, setuptools, tokenize; sys.argv[0] = '\"'\"'C:\\\\Users\\\\Public\\\\Documents\\\\Wondershare\\\\CreatorTemp\\\\pip-install-tdmfe_ns\\\\fiona_8fd40f9409474dcdaa80a4fbe53b342d\\\\setup.py'\"'\"'; __file__='\"'\"'C:\\\\Users\\\\Public\\\\Documents\\\\Wondershare\\\\CreatorTemp\\\\pip-install-tdmfe_ns\\\\fiona_8fd40f9409474dcdaa80a4fbe53b342d\\\\setup.py'\"'\"';f = getattr(tokenize, '\"'\"'open'\"'\"', open)(__file__) if os.path.exists(__file__) else io.StringIO('\"'\"'from setuptools import setup; setup()'\"'\"');code = f.read().replace('\"'\"'\\r\\n'\"'\"', '\"'\"'\\n'\"'\"');f.close();exec(compile(code, __file__, '\"'\"'exec'\"'\"'))' egg_info --egg-base 'C:\\Users\\Public\\Documents\\Wondershare\\CreatorTemp\\pip-pip-egg-info-u4vfmc5x'\n",
      "         cwd: C:\\Users\\Public\\Documents\\Wondershare\\CreatorTemp\\pip-install-tdmfe_ns\\fiona_8fd40f9409474dcdaa80a4fbe53b342d\\\n",
      "    Complete output (1 lines):\n",
      "    A GDAL API version must be specified. Provide a path to gdal-config using a GDAL_CONFIG environment variable or use a GDAL_VERSION environment variable.\n",
      "    ----------------------------------------\n",
      "WARNING: Discarding https://files.pythonhosted.org/packages/94/7f/e288db1ad63d759d494c30caae34f865e0c6927588c490705e91b7134193/Fiona-1.8.8.tar.gz#sha256=711c3be73203b37812992089445a1e4e9d3d6b64e667389f7b15406e15a91e83 (from https://pypi.org/simple/fiona/). Command errored out with exit status 1: python setup.py egg_info Check the logs for full command output.\n",
      "    ERROR: Command errored out with exit status 1:\n",
      "     command: 'C:\\Users\\teresa\\anaconda3\\python.exe' -c 'import io, os, sys, setuptools, tokenize; sys.argv[0] = '\"'\"'C:\\\\Users\\\\Public\\\\Documents\\\\Wondershare\\\\CreatorTemp\\\\pip-install-tdmfe_ns\\\\fiona_df3ecd16aa404a64a9e2fcda399434ac\\\\setup.py'\"'\"'; __file__='\"'\"'C:\\\\Users\\\\Public\\\\Documents\\\\Wondershare\\\\CreatorTemp\\\\pip-install-tdmfe_ns\\\\fiona_df3ecd16aa404a64a9e2fcda399434ac\\\\setup.py'\"'\"';f = getattr(tokenize, '\"'\"'open'\"'\"', open)(__file__) if os.path.exists(__file__) else io.StringIO('\"'\"'from setuptools import setup; setup()'\"'\"');code = f.read().replace('\"'\"'\\r\\n'\"'\"', '\"'\"'\\n'\"'\"');f.close();exec(compile(code, __file__, '\"'\"'exec'\"'\"'))' egg_info --egg-base 'C:\\Users\\Public\\Documents\\Wondershare\\CreatorTemp\\pip-pip-egg-info-ahya4vu2'\n",
      "         cwd: C:\\Users\\Public\\Documents\\Wondershare\\CreatorTemp\\pip-install-tdmfe_ns\\fiona_df3ecd16aa404a64a9e2fcda399434ac\\\n",
      "    Complete output (1 lines):\n",
      "    A GDAL API version must be specified. Provide a path to gdal-config using a GDAL_CONFIG environment variable or use a GDAL_VERSION environment variable.\n",
      "    ----------------------------------------\n",
      "WARNING: Discarding https://files.pythonhosted.org/packages/78/62/daafd070aebefa639df247705b97f13f7cfad43895581b5cae41bd886709/Fiona-1.8.7.tar.gz#sha256=a55a23615bad3e142d4e4cda97bb5de83c778a80049222e9dffae93c13b5cf93 (from https://pypi.org/simple/fiona/). Command errored out with exit status 1: python setup.py egg_info Check the logs for full command output.\n",
      "    ERROR: Command errored out with exit status 1:\n",
      "     command: 'C:\\Users\\teresa\\anaconda3\\python.exe' -c 'import io, os, sys, setuptools, tokenize; sys.argv[0] = '\"'\"'C:\\\\Users\\\\Public\\\\Documents\\\\Wondershare\\\\CreatorTemp\\\\pip-install-tdmfe_ns\\\\fiona_8ee1f65c6fb943afbec7e152d59aa0ba\\\\setup.py'\"'\"'; __file__='\"'\"'C:\\\\Users\\\\Public\\\\Documents\\\\Wondershare\\\\CreatorTemp\\\\pip-install-tdmfe_ns\\\\fiona_8ee1f65c6fb943afbec7e152d59aa0ba\\\\setup.py'\"'\"';f = getattr(tokenize, '\"'\"'open'\"'\"', open)(__file__) if os.path.exists(__file__) else io.StringIO('\"'\"'from setuptools import setup; setup()'\"'\"');code = f.read().replace('\"'\"'\\r\\n'\"'\"', '\"'\"'\\n'\"'\"');f.close();exec(compile(code, __file__, '\"'\"'exec'\"'\"'))' egg_info --egg-base 'C:\\Users\\Public\\Documents\\Wondershare\\CreatorTemp\\pip-pip-egg-info-pcc21zvl'\n",
      "         cwd: C:\\Users\\Public\\Documents\\Wondershare\\CreatorTemp\\pip-install-tdmfe_ns\\fiona_8ee1f65c6fb943afbec7e152d59aa0ba\\\n",
      "    Complete output (1 lines):\n",
      "    A GDAL API version must be specified. Provide a path to gdal-config using a GDAL_CONFIG environment variable or use a GDAL_VERSION environment variable.\n",
      "    ----------------------------------------\n",
      "WARNING: Discarding https://files.pythonhosted.org/packages/41/9d/63696e7b1de42aad294d4781199a408bec593d8fdb80a2b4a788c911a33b/Fiona-1.8.6.tar.gz#sha256=fa31dfe8855b9cd0b128b47a4df558f1b8eda90d2181bff1dd9854e5556efb3e (from https://pypi.org/simple/fiona/). Command errored out with exit status 1: python setup.py egg_info Check the logs for full command output.\n",
      "    ERROR: Command errored out with exit status 1:\n",
      "     command: 'C:\\Users\\teresa\\anaconda3\\python.exe' -c 'import io, os, sys, setuptools, tokenize; sys.argv[0] = '\"'\"'C:\\\\Users\\\\Public\\\\Documents\\\\Wondershare\\\\CreatorTemp\\\\pip-install-tdmfe_ns\\\\fiona_364c164009d047adb32d50cf50438105\\\\setup.py'\"'\"'; __file__='\"'\"'C:\\\\Users\\\\Public\\\\Documents\\\\Wondershare\\\\CreatorTemp\\\\pip-install-tdmfe_ns\\\\fiona_364c164009d047adb32d50cf50438105\\\\setup.py'\"'\"';f = getattr(tokenize, '\"'\"'open'\"'\"', open)(__file__) if os.path.exists(__file__) else io.StringIO('\"'\"'from setuptools import setup; setup()'\"'\"');code = f.read().replace('\"'\"'\\r\\n'\"'\"', '\"'\"'\\n'\"'\"');f.close();exec(compile(code, __file__, '\"'\"'exec'\"'\"'))' egg_info --egg-base 'C:\\Users\\Public\\Documents\\Wondershare\\CreatorTemp\\pip-pip-egg-info-dy21ixiv'\n",
      "         cwd: C:\\Users\\Public\\Documents\\Wondershare\\CreatorTemp\\pip-install-tdmfe_ns\\fiona_364c164009d047adb32d50cf50438105\\\n",
      "    Complete output (1 lines):\n",
      "    A GDAL API version must be specified. Provide a path to gdal-config using a GDAL_CONFIG environment variable or use a GDAL_VERSION environment variable.\n",
      "    ----------------------------------------\n",
      "WARNING: Discarding https://files.pythonhosted.org/packages/7b/af/1c2c83c4a8363a4ce9fea817b1910b5e071bed012e18257faa2a0ab3cfe7/Fiona-1.8.5.tar.gz#sha256=4f5cc2d449edbbf693c83e24cdada72de7c41297383d16fcc92387eb445e9d35 (from https://pypi.org/simple/fiona/). Command errored out with exit status 1: python setup.py egg_info Check the logs for full command output.\n",
      "    ERROR: Command errored out with exit status 1:\n",
      "     command: 'C:\\Users\\teresa\\anaconda3\\python.exe' -c 'import io, os, sys, setuptools, tokenize; sys.argv[0] = '\"'\"'C:\\\\Users\\\\Public\\\\Documents\\\\Wondershare\\\\CreatorTemp\\\\pip-install-tdmfe_ns\\\\fiona_f186fd5161764a2d904d6d96540dc42e\\\\setup.py'\"'\"'; __file__='\"'\"'C:\\\\Users\\\\Public\\\\Documents\\\\Wondershare\\\\CreatorTemp\\\\pip-install-tdmfe_ns\\\\fiona_f186fd5161764a2d904d6d96540dc42e\\\\setup.py'\"'\"';f = getattr(tokenize, '\"'\"'open'\"'\"', open)(__file__) if os.path.exists(__file__) else io.StringIO('\"'\"'from setuptools import setup; setup()'\"'\"');code = f.read().replace('\"'\"'\\r\\n'\"'\"', '\"'\"'\\n'\"'\"');f.close();exec(compile(code, __file__, '\"'\"'exec'\"'\"'))' egg_info --egg-base 'C:\\Users\\Public\\Documents\\Wondershare\\CreatorTemp\\pip-pip-egg-info-u8rre1ok'\n",
      "         cwd: C:\\Users\\Public\\Documents\\Wondershare\\CreatorTemp\\pip-install-tdmfe_ns\\fiona_f186fd5161764a2d904d6d96540dc42e\\\n",
      "    Complete output (1 lines):\n",
      "    A GDAL API version must be specified. Provide a path to gdal-config using a GDAL_CONFIG environment variable or use a GDAL_VERSION environment variable.\n",
      "    ----------------------------------------\n",
      "WARNING: Discarding https://files.pythonhosted.org/packages/3a/16/84960540e9fce61d767fd2f0f1d95f4c63e99ab5d8fddc308e8b51b059b8/Fiona-1.8.4.tar.gz#sha256=aec9ab2e3513c9503ec123b1a8573bee55fc6a66e2ac07088c3376bf6738a424 (from https://pypi.org/simple/fiona/). Command errored out with exit status 1: python setup.py egg_info Check the logs for full command output.\n",
      "    ERROR: Command errored out with exit status 1:\n",
      "     command: 'C:\\Users\\teresa\\anaconda3\\python.exe' -c 'import io, os, sys, setuptools, tokenize; sys.argv[0] = '\"'\"'C:\\\\Users\\\\Public\\\\Documents\\\\Wondershare\\\\CreatorTemp\\\\pip-install-tdmfe_ns\\\\fiona_d1d5769fd7644d3fb4417ef0f37eb5b1\\\\setup.py'\"'\"'; __file__='\"'\"'C:\\\\Users\\\\Public\\\\Documents\\\\Wondershare\\\\CreatorTemp\\\\pip-install-tdmfe_ns\\\\fiona_d1d5769fd7644d3fb4417ef0f37eb5b1\\\\setup.py'\"'\"';f = getattr(tokenize, '\"'\"'open'\"'\"', open)(__file__) if os.path.exists(__file__) else io.StringIO('\"'\"'from setuptools import setup; setup()'\"'\"');code = f.read().replace('\"'\"'\\r\\n'\"'\"', '\"'\"'\\n'\"'\"');f.close();exec(compile(code, __file__, '\"'\"'exec'\"'\"'))' egg_info --egg-base 'C:\\Users\\Public\\Documents\\Wondershare\\CreatorTemp\\pip-pip-egg-info-ezskr1v8'\n",
      "         cwd: C:\\Users\\Public\\Documents\\Wondershare\\CreatorTemp\\pip-install-tdmfe_ns\\fiona_d1d5769fd7644d3fb4417ef0f37eb5b1\\\n",
      "    Complete output (1 lines):\n",
      "    A GDAL API version must be specified. Provide a path to gdal-config using a GDAL_CONFIG environment variable or use a GDAL_VERSION environment variable.\n",
      "    ----------------------------------------\n",
      "WARNING: Discarding https://files.pythonhosted.org/packages/46/d1/fcdb32513a03abfde0d97fd9782ce0f8cc0540fa6c6ce783e87b94064964/Fiona-1.8.3.tar.gz#sha256=3e831100a23c3b6cd32b98baf0c9e2119d909b44a5cf4533d3625f61dcf2d2b1 (from https://pypi.org/simple/fiona/). Command errored out with exit status 1: python setup.py egg_info Check the logs for full command output.\n",
      "    ERROR: Command errored out with exit status 1:\n",
      "     command: 'C:\\Users\\teresa\\anaconda3\\python.exe' -c 'import io, os, sys, setuptools, tokenize; sys.argv[0] = '\"'\"'C:\\\\Users\\\\Public\\\\Documents\\\\Wondershare\\\\CreatorTemp\\\\pip-install-tdmfe_ns\\\\fiona_19653ccdd54b412d93de5a31ff55a0ec\\\\setup.py'\"'\"'; __file__='\"'\"'C:\\\\Users\\\\Public\\\\Documents\\\\Wondershare\\\\CreatorTemp\\\\pip-install-tdmfe_ns\\\\fiona_19653ccdd54b412d93de5a31ff55a0ec\\\\setup.py'\"'\"';f = getattr(tokenize, '\"'\"'open'\"'\"', open)(__file__) if os.path.exists(__file__) else io.StringIO('\"'\"'from setuptools import setup; setup()'\"'\"');code = f.read().replace('\"'\"'\\r\\n'\"'\"', '\"'\"'\\n'\"'\"');f.close();exec(compile(code, __file__, '\"'\"'exec'\"'\"'))' egg_info --egg-base 'C:\\Users\\Public\\Documents\\Wondershare\\CreatorTemp\\pip-pip-egg-info-zmpk9wbq'\n",
      "         cwd: C:\\Users\\Public\\Documents\\Wondershare\\CreatorTemp\\pip-install-tdmfe_ns\\fiona_19653ccdd54b412d93de5a31ff55a0ec\\\n",
      "    Complete output (1 lines):\n",
      "    A GDAL API version must be specified. Provide a path to gdal-config using a GDAL_CONFIG environment variable or use a GDAL_VERSION environment variable.\n",
      "    ----------------------------------------\n",
      "WARNING: Discarding https://files.pythonhosted.org/packages/25/50/0466d5d83e1859c5ca38351ee932d64cc5635f9d4dad522879e58f4b0018/Fiona-1.8.2.tar.gz#sha256=4c6419b7ac29136708029f6a44b4ccd458735a4d241016c7b1bab41685c08d8f (from https://pypi.org/simple/fiona/). Command errored out with exit status 1: python setup.py egg_info Check the logs for full command output.\n",
      "    ERROR: Command errored out with exit status 1:\n",
      "     command: 'C:\\Users\\teresa\\anaconda3\\python.exe' -c 'import io, os, sys, setuptools, tokenize; sys.argv[0] = '\"'\"'C:\\\\Users\\\\Public\\\\Documents\\\\Wondershare\\\\CreatorTemp\\\\pip-install-tdmfe_ns\\\\fiona_c7107704def44af194743dd447c1aa15\\\\setup.py'\"'\"'; __file__='\"'\"'C:\\\\Users\\\\Public\\\\Documents\\\\Wondershare\\\\CreatorTemp\\\\pip-install-tdmfe_ns\\\\fiona_c7107704def44af194743dd447c1aa15\\\\setup.py'\"'\"';f = getattr(tokenize, '\"'\"'open'\"'\"', open)(__file__) if os.path.exists(__file__) else io.StringIO('\"'\"'from setuptools import setup; setup()'\"'\"');code = f.read().replace('\"'\"'\\r\\n'\"'\"', '\"'\"'\\n'\"'\"');f.close();exec(compile(code, __file__, '\"'\"'exec'\"'\"'))' egg_info --egg-base 'C:\\Users\\Public\\Documents\\Wondershare\\CreatorTemp\\pip-pip-egg-info-_nnyro4o'\n",
      "         cwd: C:\\Users\\Public\\Documents\\Wondershare\\CreatorTemp\\pip-install-tdmfe_ns\\fiona_c7107704def44af194743dd447c1aa15\\\n",
      "    Complete output (1 lines):\n",
      "    A GDAL API version must be specified. Provide a path to gdal-config using a GDAL_CONFIG environment variable or use a GDAL_VERSION environment variable.\n",
      "    ----------------------------------------\n",
      "WARNING: Discarding https://files.pythonhosted.org/packages/3e/5f/0c6704efeea2ff3fba7f54cc6ec38070157f21bc1cffa7bdfa7c9f6b8f7a/Fiona-1.8.1.tar.gz#sha256=4c34bb4c5cd788aaf14e5484c3b7de407b1a8a7c7b2d29bbb2e8b37931e83b8d (from https://pypi.org/simple/fiona/). Command errored out with exit status 1: python setup.py egg_info Check the logs for full command output.\n",
      "    ERROR: Command errored out with exit status 1:\n",
      "     command: 'C:\\Users\\teresa\\anaconda3\\python.exe' -c 'import io, os, sys, setuptools, tokenize; sys.argv[0] = '\"'\"'C:\\\\Users\\\\Public\\\\Documents\\\\Wondershare\\\\CreatorTemp\\\\pip-install-tdmfe_ns\\\\fiona_2d79bcc553ce4632a26ca013fe8b1363\\\\setup.py'\"'\"'; __file__='\"'\"'C:\\\\Users\\\\Public\\\\Documents\\\\Wondershare\\\\CreatorTemp\\\\pip-install-tdmfe_ns\\\\fiona_2d79bcc553ce4632a26ca013fe8b1363\\\\setup.py'\"'\"';f = getattr(tokenize, '\"'\"'open'\"'\"', open)(__file__) if os.path.exists(__file__) else io.StringIO('\"'\"'from setuptools import setup; setup()'\"'\"');code = f.read().replace('\"'\"'\\r\\n'\"'\"', '\"'\"'\\n'\"'\"');f.close();exec(compile(code, __file__, '\"'\"'exec'\"'\"'))' egg_info --egg-base 'C:\\Users\\Public\\Documents\\Wondershare\\CreatorTemp\\pip-pip-egg-info-ykigmat5'\n",
      "         cwd: C:\\Users\\Public\\Documents\\Wondershare\\CreatorTemp\\pip-install-tdmfe_ns\\fiona_2d79bcc553ce4632a26ca013fe8b1363\\\n",
      "    Complete output (1 lines):\n",
      "    A GDAL API version must be specified. Provide a path to gdal-config using a GDAL_CONFIG environment variable or use a GDAL_VERSION environment variable.\n",
      "    ----------------------------------------\n",
      "WARNING: Discarding https://files.pythonhosted.org/packages/2a/bd/c1efc2680f338e5941121c776d6323af6b9698ac739e22ba523cee348a7f/Fiona-1.8.0.tar.gz#sha256=20141a9ece06daa7bb4333fba640c2fe39a49f8aca5492d1da8595d41e91844a (from https://pypi.org/simple/fiona/). Command errored out with exit status 1: python setup.py egg_info Check the logs for full command output.\n",
      "  ERROR: Command errored out with exit status 1:\n",
      "   command: 'C:\\Users\\teresa\\anaconda3\\python.exe' -u -c 'import io, os, sys, setuptools, tokenize; sys.argv[0] = '\"'\"'C:\\\\Users\\\\Public\\\\Documents\\\\Wondershare\\\\CreatorTemp\\\\pip-install-tdmfe_ns\\\\fiona_6dd6c41f07bf468c8658d65964b3317e\\\\setup.py'\"'\"'; __file__='\"'\"'C:\\\\Users\\\\Public\\\\Documents\\\\Wondershare\\\\CreatorTemp\\\\pip-install-tdmfe_ns\\\\fiona_6dd6c41f07bf468c8658d65964b3317e\\\\setup.py'\"'\"';f = getattr(tokenize, '\"'\"'open'\"'\"', open)(__file__) if os.path.exists(__file__) else io.StringIO('\"'\"'from setuptools import setup; setup()'\"'\"');code = f.read().replace('\"'\"'\\r\\n'\"'\"', '\"'\"'\\n'\"'\"');f.close();exec(compile(code, __file__, '\"'\"'exec'\"'\"'))' bdist_wheel -d 'C:\\Users\\Public\\Documents\\Wondershare\\CreatorTemp\\pip-wheel-_qf49bsg'\n",
      "       cwd: C:\\Users\\Public\\Documents\\Wondershare\\CreatorTemp\\pip-install-tdmfe_ns\\fiona_6dd6c41f07bf468c8658d65964b3317e\\\n",
      "  Complete output (42 lines):\n",
      "  C:\\Users\\teresa\\anaconda3\\lib\\distutils\\dist.py:274: UserWarning: Unknown distribution option: 'metadata_version'\n",
      "    warnings.warn(msg)\n",
      "  C:\\Users\\teresa\\anaconda3\\lib\\distutils\\dist.py:274: UserWarning: Unknown distribution option: 'requires_python'\n",
      "    warnings.warn(msg)\n",
      "  C:\\Users\\teresa\\anaconda3\\lib\\distutils\\dist.py:274: UserWarning: Unknown distribution option: 'requires_external'\n",
      "    warnings.warn(msg)\n",
      "  running bdist_wheel\n",
      "  running build\n",
      "  running build_py\n",
      "  creating build\n",
      "  creating build\\lib.win-amd64-3.9\n",
      "  creating build\\lib.win-amd64-3.9\\fiona\n",
      "  copying .\\fiona\\collection.py -> build\\lib.win-amd64-3.9\\fiona\n",
      "  copying .\\fiona\\compat.py -> build\\lib.win-amd64-3.9\\fiona\n",
      "  copying .\\fiona\\crs.py -> build\\lib.win-amd64-3.9\\fiona\n",
      "  copying .\\fiona\\drvsupport.py -> build\\lib.win-amd64-3.9\\fiona\n"
     ]
    },
    {
     "name": "stderr",
     "output_type": "stream",
     "text": [
      "  copying .\\fiona\\errors.py -> build\\lib.win-amd64-3.9\\fiona\n",
      "  copying .\\fiona\\inspector.py -> build\\lib.win-amd64-3.9\\fiona\n",
      "  copying .\\fiona\\rfc3339.py -> build\\lib.win-amd64-3.9\\fiona\n",
      "  copying .\\fiona\\tool.py -> build\\lib.win-amd64-3.9\\fiona\n",
      "  copying .\\fiona\\transform.py -> build\\lib.win-amd64-3.9\\fiona\n",
      "  copying .\\fiona\\__init__.py -> build\\lib.win-amd64-3.9\\fiona\n",
      "  creating build\\lib.win-amd64-3.9\\fiona\\fio\n",
      "  copying .\\fiona\\fio\\bounds.py -> build\\lib.win-amd64-3.9\\fiona\\fio\n",
      "  copying .\\fiona\\fio\\calc.py -> build\\lib.win-amd64-3.9\\fiona\\fio\n",
      "  copying .\\fiona\\fio\\cat.py -> build\\lib.win-amd64-3.9\\fiona\\fio\n",
      "  copying .\\fiona\\fio\\collect.py -> build\\lib.win-amd64-3.9\\fiona\\fio\n",
      "  copying .\\fiona\\fio\\distrib.py -> build\\lib.win-amd64-3.9\\fiona\\fio\n",
      "  copying .\\fiona\\fio\\dump.py -> build\\lib.win-amd64-3.9\\fiona\\fio\n",
      "  copying .\\fiona\\fio\\env.py -> build\\lib.win-amd64-3.9\\fiona\\fio\n",
      "  copying .\\fiona\\fio\\filter.py -> build\\lib.win-amd64-3.9\\fiona\\fio\n",
      "  copying .\\fiona\\fio\\helpers.py -> build\\lib.win-amd64-3.9\\fiona\\fio\n",
      "  copying .\\fiona\\fio\\info.py -> build\\lib.win-amd64-3.9\\fiona\\fio\n",
      "  copying .\\fiona\\fio\\insp.py -> build\\lib.win-amd64-3.9\\fiona\\fio\n",
      "  copying .\\fiona\\fio\\load.py -> build\\lib.win-amd64-3.9\\fiona\\fio\n",
      "  copying .\\fiona\\fio\\ls.py -> build\\lib.win-amd64-3.9\\fiona\\fio\n",
      "  copying .\\fiona\\fio\\main.py -> build\\lib.win-amd64-3.9\\fiona\\fio\n",
      "  copying .\\fiona\\fio\\options.py -> build\\lib.win-amd64-3.9\\fiona\\fio\n",
      "  copying .\\fiona\\fio\\__init__.py -> build\\lib.win-amd64-3.9\\fiona\\fio\n",
      "  running build_ext\n",
      "  building 'fiona._transform' extension\n",
      "  error: Microsoft Visual C++ 14.0 or greater is required. Get it with \"Microsoft C++ Build Tools\": https://visualstudio.microsoft.com/visual-cpp-build-tools/\n",
      "  ----------------------------------------\n",
      "  ERROR: Failed building wheel for fiona\n",
      "    ERROR: Command errored out with exit status 1:\n",
      "     command: 'C:\\Users\\teresa\\anaconda3\\python.exe' -u -c 'import io, os, sys, setuptools, tokenize; sys.argv[0] = '\"'\"'C:\\\\Users\\\\Public\\\\Documents\\\\Wondershare\\\\CreatorTemp\\\\pip-install-tdmfe_ns\\\\fiona_6dd6c41f07bf468c8658d65964b3317e\\\\setup.py'\"'\"'; __file__='\"'\"'C:\\\\Users\\\\Public\\\\Documents\\\\Wondershare\\\\CreatorTemp\\\\pip-install-tdmfe_ns\\\\fiona_6dd6c41f07bf468c8658d65964b3317e\\\\setup.py'\"'\"';f = getattr(tokenize, '\"'\"'open'\"'\"', open)(__file__) if os.path.exists(__file__) else io.StringIO('\"'\"'from setuptools import setup; setup()'\"'\"');code = f.read().replace('\"'\"'\\r\\n'\"'\"', '\"'\"'\\n'\"'\"');f.close();exec(compile(code, __file__, '\"'\"'exec'\"'\"'))' install --record 'C:\\Users\\Public\\Documents\\Wondershare\\CreatorTemp\\pip-record-vrk2dbak\\install-record.txt' --single-version-externally-managed --compile --install-headers 'C:\\Users\\teresa\\anaconda3\\Include\\fiona'\n",
      "         cwd: C:\\Users\\Public\\Documents\\Wondershare\\CreatorTemp\\pip-install-tdmfe_ns\\fiona_6dd6c41f07bf468c8658d65964b3317e\\\n",
      "    Complete output (12 lines):\n",
      "    C:\\Users\\teresa\\anaconda3\\lib\\distutils\\dist.py:274: UserWarning: Unknown distribution option: 'metadata_version'\n",
      "      warnings.warn(msg)\n",
      "    C:\\Users\\teresa\\anaconda3\\lib\\distutils\\dist.py:274: UserWarning: Unknown distribution option: 'requires_python'\n",
      "      warnings.warn(msg)\n",
      "    C:\\Users\\teresa\\anaconda3\\lib\\distutils\\dist.py:274: UserWarning: Unknown distribution option: 'requires_external'\n",
      "      warnings.warn(msg)\n",
      "    running install\n",
      "    running build\n",
      "    running build_py\n",
      "    running build_ext\n",
      "    building 'fiona._transform' extension\n",
      "    error: Microsoft Visual C++ 14.0 or greater is required. Get it with \"Microsoft C++ Build Tools\": https://visualstudio.microsoft.com/visual-cpp-build-tools/\n",
      "    ----------------------------------------\n",
      "ERROR: Command errored out with exit status 1: 'C:\\Users\\teresa\\anaconda3\\python.exe' -u -c 'import io, os, sys, setuptools, tokenize; sys.argv[0] = '\"'\"'C:\\\\Users\\\\Public\\\\Documents\\\\Wondershare\\\\CreatorTemp\\\\pip-install-tdmfe_ns\\\\fiona_6dd6c41f07bf468c8658d65964b3317e\\\\setup.py'\"'\"'; __file__='\"'\"'C:\\\\Users\\\\Public\\\\Documents\\\\Wondershare\\\\CreatorTemp\\\\pip-install-tdmfe_ns\\\\fiona_6dd6c41f07bf468c8658d65964b3317e\\\\setup.py'\"'\"';f = getattr(tokenize, '\"'\"'open'\"'\"', open)(__file__) if os.path.exists(__file__) else io.StringIO('\"'\"'from setuptools import setup; setup()'\"'\"');code = f.read().replace('\"'\"'\\r\\n'\"'\"', '\"'\"'\\n'\"'\"');f.close();exec(compile(code, __file__, '\"'\"'exec'\"'\"'))' install --record 'C:\\Users\\Public\\Documents\\Wondershare\\CreatorTemp\\pip-record-vrk2dbak\\install-record.txt' --single-version-externally-managed --compile --install-headers 'C:\\Users\\teresa\\anaconda3\\Include\\fiona' Check the logs for full command output.\n"
     ]
    }
   ],
   "source": [
    "pip install geopandas"
   ]
  },
  {
   "cell_type": "code",
   "execution_count": 1,
   "id": "66ccfce3",
   "metadata": {
    "scrolled": true
   },
   "outputs": [],
   "source": [
    "import pandas as pd\n",
    "from pandas import Series, DataFrame"
   ]
  },
  {
   "cell_type": "code",
   "execution_count": null,
   "id": "634c3e93",
   "metadata": {
    "scrolled": true
   },
   "outputs": [],
   "source": [
    "conda install -c conda-forge geopandas"
   ]
  },
  {
   "cell_type": "code",
   "execution_count": 3,
   "id": "983ed5d0",
   "metadata": {
    "scrolled": true
   },
   "outputs": [
    {
     "ename": "ModuleNotFoundError",
     "evalue": "No module named 'geopanda'",
     "output_type": "error",
     "traceback": [
      "\u001b[1;31m---------------------------------------------------------------------------\u001b[0m",
      "\u001b[1;31mModuleNotFoundError\u001b[0m                       Traceback (most recent call last)",
      "\u001b[1;32m<ipython-input-3-fcd023bfd551>\u001b[0m in \u001b[0;36m<module>\u001b[1;34m\u001b[0m\n\u001b[1;32m----> 1\u001b[1;33m \u001b[1;32mimport\u001b[0m \u001b[0mgeopanda\u001b[0m \u001b[1;32mas\u001b[0m \u001b[0mgpd\u001b[0m\u001b[1;33m\u001b[0m\u001b[1;33m\u001b[0m\u001b[0m\n\u001b[0m\u001b[0;32m      2\u001b[0m \u001b[1;32mfrom\u001b[0m \u001b[0mgeopandas\u001b[0m \u001b[1;32mimport\u001b[0m \u001b[0mGeoSeries\u001b[0m\u001b[1;33m\u001b[0m\u001b[1;33m\u001b[0m\u001b[0m\n\u001b[0;32m      3\u001b[0m \u001b[1;32mfrom\u001b[0m \u001b[0mshapely\u001b[0m\u001b[1;33m.\u001b[0m\u001b[0mgeometry\u001b[0m \u001b[1;32mimport\u001b[0m \u001b[0mPoint\u001b[0m\u001b[1;33m,\u001b[0m \u001b[0mLineString\u001b[0m\u001b[1;33m\u001b[0m\u001b[1;33m\u001b[0m\u001b[0m\n",
      "\u001b[1;31mModuleNotFoundError\u001b[0m: No module named 'geopanda'"
     ]
    }
   ],
   "source": [
    "import geopanda as gpd\n",
    "from geopandas import GeoSeries\n",
    "from shapely.geometry import Point, LineString"
   ]
  },
  {
   "cell_type": "code",
   "execution_count": null,
   "id": "602d37f3",
   "metadata": {},
   "outputs": [],
   "source": [
    "# SHAPE FILE\n",
    "\n",
    "maps = gpd.read_file(r'data/Trabajo_final/shape_file/DISTRITOS.shp')\n",
    "#maps[\"geometry\"]\n",
    "maps"
   ]
  },
  {
   "cell_type": "code",
   "execution_count": null,
   "id": "3c0e332b",
   "metadata": {},
   "outputs": [],
   "source": [
    "dist_shp = gpd.read_file(r'../../data/geopandas_data/shape_file/DISTRITOS.shp')\n",
    "dist_shp"
   ]
  },
  {
   "cell_type": "code",
   "execution_count": null,
   "id": "83945e11",
   "metadata": {},
   "outputs": [],
   "source": [
    "# get centroids\n",
    "\n",
    "dist_shp.centroid"
   ]
  },
  {
   "cell_type": "code",
   "execution_count": null,
   "id": "26c3c507",
   "metadata": {},
   "outputs": [],
   "source": [
    "projected_dist_shp = dist_shp.to_crs( epsg = 24891 )\n",
    "\n",
    "projected_dist_shp[ 'centroids'] = projected_dist_shp.centroid"
   ]
  },
  {
   "cell_type": "code",
   "execution_count": null,
   "id": "e35d9807",
   "metadata": {},
   "outputs": [],
   "source": [
    "projected_dist_shp"
   ]
  },
  {
   "cell_type": "code",
   "execution_count": null,
   "id": "6462a020",
   "metadata": {},
   "outputs": [],
   "source": []
  },
  {
   "cell_type": "code",
   "execution_count": null,
   "id": "617efe78",
   "metadata": {},
   "outputs": [],
   "source": [
    "# IMPORTAR INFORMACIÓN SOBRE LOS CENTROS DE SALUD MENTAL"
   ]
  },
  {
   "cell_type": "code",
   "execution_count": null,
   "id": "0ad0932c",
   "metadata": {},
   "outputs": [],
   "source": [
    "# manzanas = gpd.read_file(\"../../data/Trabajo_final/Salud_mental_peru.xls\")\n",
    "\n",
    "salud_mental = pd.read_excel(r'data/Trabajo_final/Salud_mental_peru.xls')"
   ]
  },
  {
   "cell_type": "code",
   "execution_count": null,
   "id": "dc00f605",
   "metadata": {},
   "outputs": [],
   "source": [
    "salud_mental"
   ]
  },
  {
   "cell_type": "code",
   "execution_count": null,
   "id": "19256019",
   "metadata": {},
   "outputs": [],
   "source": [
    "salud_mental.head()"
   ]
  },
  {
   "cell_type": "code",
   "execution_count": null,
   "id": "9d01dcb7",
   "metadata": {},
   "outputs": [],
   "source": [
    "salud_mental.plot()"
   ]
  },
  {
   "cell_type": "code",
   "execution_count": null,
   "id": "eda7245e",
   "metadata": {},
   "outputs": [],
   "source": [
    "# DataFrame to GeoDataFrame\n",
    "\n",
    "Centros_salud = gpd.GeoDataFrame(salud_mental, geometry=gpd.points_from_xy( salud_mental.long_original, salud_mental.lat_original ) )\n",
    "Centros_salud.head()"
   ]
  },
  {
   "cell_type": "markdown",
   "id": "da498474",
   "metadata": {},
   "source": [
    "###  2.2. Crear una variable dummy llamado Treatment que toma el valor de 1 si el centroide de la manzana se ubica a menos de 1 km de algun centro de salud mental"
   ]
  },
  {
   "cell_type": "code",
   "execution_count": null,
   "id": "148a30ca",
   "metadata": {},
   "outputs": [],
   "source": []
  },
  {
   "cell_type": "code",
   "execution_count": null,
   "id": "5ecc355f",
   "metadata": {},
   "outputs": [],
   "source": []
  },
  {
   "cell_type": "code",
   "execution_count": null,
   "id": "498f351f",
   "metadata": {},
   "outputs": [],
   "source": []
  },
  {
   "cell_type": "markdown",
   "id": "cd449289",
   "metadata": {},
   "source": [
    "### 2.3. Crear una dummy llamado Control que toma el valor de 1 si la manzana se ubica entre 1 a 2 km del centro de salud mental."
   ]
  },
  {
   "cell_type": "code",
   "execution_count": null,
   "id": "6a68167a",
   "metadata": {},
   "outputs": [],
   "source": []
  },
  {
   "cell_type": "code",
   "execution_count": null,
   "id": "d10d2296",
   "metadata": {},
   "outputs": [],
   "source": []
  },
  {
   "cell_type": "markdown",
   "id": "65e77f8e",
   "metadata": {},
   "source": [
    "### 2.4. Grafique las manzanas treatment en color rojo y en azul las manzanas de control. Mientras de color blanco o neutral, las manzanas que no son control o treatment. Usar como fondo de fondo de la imagen a Google maps. A nada una leyenda al gráfico y el siguiente titulo (Mental Health Center - treatment and control). Use hexbin para sombrear las manzanas tratadas, controles y neutrales."
   ]
  },
  {
   "cell_type": "code",
   "execution_count": null,
   "id": "11829fd5",
   "metadata": {},
   "outputs": [],
   "source": []
  },
  {
   "cell_type": "code",
   "execution_count": null,
   "id": "21072ca5",
   "metadata": {},
   "outputs": [],
   "source": []
  },
  {
   "cell_type": "code",
   "execution_count": null,
   "id": "9ba1c787",
   "metadata": {},
   "outputs": [],
   "source": []
  }
 ],
 "metadata": {
  "kernelspec": {
   "display_name": "Python 3 (ipykernel)",
   "language": "python",
   "name": "python3"
  },
  "language_info": {
   "codemirror_mode": {
    "name": "ipython",
    "version": 3
   },
   "file_extension": ".py",
   "mimetype": "text/x-python",
   "name": "python",
   "nbconvert_exporter": "python",
   "pygments_lexer": "ipython3",
   "version": "3.9.7"
  }
 },
 "nbformat": 4,
 "nbformat_minor": 5
}
