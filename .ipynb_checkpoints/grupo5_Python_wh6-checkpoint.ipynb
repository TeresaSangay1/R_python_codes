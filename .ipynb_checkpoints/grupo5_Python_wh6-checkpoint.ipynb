{
 "cells": [
  {
   "cell_type": "markdown",
   "id": "1629b124",
   "metadata": {},
   "source": [
    "## Grupo 5 - WH6 - R\n",
    "### Integrantes\n",
    "- Diego\n",
    "- Teresa\n",
    "- Yoberson"
   ]
  },
  {
   "cell_type": "markdown",
   "id": "bfd3a350",
   "metadata": {},
   "source": [
    "# 1. Plots "
   ]
  },
  {
   "cell_type": "markdown",
   "id": "b086b7f6",
   "metadata": {},
   "source": [
    "- **Graficos de  distribución absoluta, frecuencia y densidades de los pesos de los recién nacidos si la madre es fumadora o no**"
   ]
  },
  {
   "cell_type": "markdown",
   "id": "e9f6bb9a",
   "metadata": {},
   "source": [
    "Importamos los datos"
   ]
  },
  {
   "cell_type": "code",
   "execution_count": 1,
   "id": "ca741591",
   "metadata": {},
   "outputs": [],
   "source": [
    "import numpy as np\n",
    "import pandas as pd\n",
    "from pandas import Series, DataFrame\n",
    "import matplotlib.pyplot as plt\n",
    "import seaborn as sns\n",
    "import datetime as dt"
   ]
  },
  {
   "cell_type": "code",
   "execution_count": 2,
   "id": "d5256d33",
   "metadata": {},
   "outputs": [
    {
     "data": {
      "text/html": [
       "<div>\n",
       "<style scoped>\n",
       "    .dataframe tbody tr th:only-of-type {\n",
       "        vertical-align: middle;\n",
       "    }\n",
       "\n",
       "    .dataframe tbody tr th {\n",
       "        vertical-align: top;\n",
       "    }\n",
       "\n",
       "    .dataframe thead th {\n",
       "        text-align: right;\n",
       "    }\n",
       "</style>\n",
       "<table border=\"1\" class=\"dataframe\">\n",
       "  <thead>\n",
       "    <tr style=\"text-align: right;\">\n",
       "      <th></th>\n",
       "      <th>faminc</th>\n",
       "      <th>cigtax</th>\n",
       "      <th>cigprice</th>\n",
       "      <th>bwght</th>\n",
       "      <th>fatheduc</th>\n",
       "      <th>motheduc</th>\n",
       "      <th>parity</th>\n",
       "      <th>male</th>\n",
       "      <th>white</th>\n",
       "      <th>cigs</th>\n",
       "      <th>lbwght</th>\n",
       "      <th>bwghtlbs</th>\n",
       "      <th>packs</th>\n",
       "      <th>lfaminc</th>\n",
       "    </tr>\n",
       "  </thead>\n",
       "  <tbody>\n",
       "    <tr>\n",
       "      <th>0</th>\n",
       "      <td>13.5</td>\n",
       "      <td>16.5</td>\n",
       "      <td>122.300003</td>\n",
       "      <td>109.0</td>\n",
       "      <td>12.0</td>\n",
       "      <td>12.0</td>\n",
       "      <td>1.0</td>\n",
       "      <td>1.0</td>\n",
       "      <td>1.0</td>\n",
       "      <td>0.0</td>\n",
       "      <td>4.691348</td>\n",
       "      <td>6.8125</td>\n",
       "      <td>0.0</td>\n",
       "      <td>2.602690</td>\n",
       "    </tr>\n",
       "    <tr>\n",
       "      <th>1</th>\n",
       "      <td>7.5</td>\n",
       "      <td>16.5</td>\n",
       "      <td>122.300003</td>\n",
       "      <td>133.0</td>\n",
       "      <td>6.0</td>\n",
       "      <td>12.0</td>\n",
       "      <td>2.0</td>\n",
       "      <td>1.0</td>\n",
       "      <td>0.0</td>\n",
       "      <td>0.0</td>\n",
       "      <td>4.890349</td>\n",
       "      <td>8.3125</td>\n",
       "      <td>0.0</td>\n",
       "      <td>2.014903</td>\n",
       "    </tr>\n",
       "    <tr>\n",
       "      <th>2</th>\n",
       "      <td>0.5</td>\n",
       "      <td>16.5</td>\n",
       "      <td>122.300003</td>\n",
       "      <td>129.0</td>\n",
       "      <td>NaN</td>\n",
       "      <td>12.0</td>\n",
       "      <td>2.0</td>\n",
       "      <td>0.0</td>\n",
       "      <td>0.0</td>\n",
       "      <td>0.0</td>\n",
       "      <td>4.859812</td>\n",
       "      <td>8.0625</td>\n",
       "      <td>0.0</td>\n",
       "      <td>-0.693147</td>\n",
       "    </tr>\n",
       "    <tr>\n",
       "      <th>3</th>\n",
       "      <td>15.5</td>\n",
       "      <td>16.5</td>\n",
       "      <td>122.300003</td>\n",
       "      <td>126.0</td>\n",
       "      <td>12.0</td>\n",
       "      <td>12.0</td>\n",
       "      <td>2.0</td>\n",
       "      <td>1.0</td>\n",
       "      <td>0.0</td>\n",
       "      <td>0.0</td>\n",
       "      <td>4.836282</td>\n",
       "      <td>7.8750</td>\n",
       "      <td>0.0</td>\n",
       "      <td>2.740840</td>\n",
       "    </tr>\n",
       "    <tr>\n",
       "      <th>4</th>\n",
       "      <td>27.5</td>\n",
       "      <td>16.5</td>\n",
       "      <td>122.300003</td>\n",
       "      <td>134.0</td>\n",
       "      <td>14.0</td>\n",
       "      <td>12.0</td>\n",
       "      <td>2.0</td>\n",
       "      <td>1.0</td>\n",
       "      <td>1.0</td>\n",
       "      <td>0.0</td>\n",
       "      <td>4.897840</td>\n",
       "      <td>8.3750</td>\n",
       "      <td>0.0</td>\n",
       "      <td>3.314186</td>\n",
       "    </tr>\n",
       "    <tr>\n",
       "      <th>...</th>\n",
       "      <td>...</td>\n",
       "      <td>...</td>\n",
       "      <td>...</td>\n",
       "      <td>...</td>\n",
       "      <td>...</td>\n",
       "      <td>...</td>\n",
       "      <td>...</td>\n",
       "      <td>...</td>\n",
       "      <td>...</td>\n",
       "      <td>...</td>\n",
       "      <td>...</td>\n",
       "      <td>...</td>\n",
       "      <td>...</td>\n",
       "      <td>...</td>\n",
       "    </tr>\n",
       "    <tr>\n",
       "      <th>1383</th>\n",
       "      <td>27.5</td>\n",
       "      <td>30.0</td>\n",
       "      <td>138.300003</td>\n",
       "      <td>110.0</td>\n",
       "      <td>12.0</td>\n",
       "      <td>12.0</td>\n",
       "      <td>4.0</td>\n",
       "      <td>1.0</td>\n",
       "      <td>1.0</td>\n",
       "      <td>0.0</td>\n",
       "      <td>4.700480</td>\n",
       "      <td>6.8750</td>\n",
       "      <td>0.0</td>\n",
       "      <td>3.314186</td>\n",
       "    </tr>\n",
       "    <tr>\n",
       "      <th>1384</th>\n",
       "      <td>5.5</td>\n",
       "      <td>30.0</td>\n",
       "      <td>138.300003</td>\n",
       "      <td>146.0</td>\n",
       "      <td>NaN</td>\n",
       "      <td>16.0</td>\n",
       "      <td>2.0</td>\n",
       "      <td>1.0</td>\n",
       "      <td>1.0</td>\n",
       "      <td>0.0</td>\n",
       "      <td>4.983607</td>\n",
       "      <td>9.1250</td>\n",
       "      <td>0.0</td>\n",
       "      <td>1.704748</td>\n",
       "    </tr>\n",
       "    <tr>\n",
       "      <th>1385</th>\n",
       "      <td>65.0</td>\n",
       "      <td>8.0</td>\n",
       "      <td>118.599998</td>\n",
       "      <td>135.0</td>\n",
       "      <td>18.0</td>\n",
       "      <td>16.0</td>\n",
       "      <td>2.0</td>\n",
       "      <td>0.0</td>\n",
       "      <td>1.0</td>\n",
       "      <td>0.0</td>\n",
       "      <td>4.905275</td>\n",
       "      <td>8.4375</td>\n",
       "      <td>0.0</td>\n",
       "      <td>4.174387</td>\n",
       "    </tr>\n",
       "    <tr>\n",
       "      <th>1386</th>\n",
       "      <td>27.5</td>\n",
       "      <td>8.0</td>\n",
       "      <td>118.599998</td>\n",
       "      <td>118.0</td>\n",
       "      <td>NaN</td>\n",
       "      <td>14.0</td>\n",
       "      <td>2.0</td>\n",
       "      <td>0.0</td>\n",
       "      <td>1.0</td>\n",
       "      <td>0.0</td>\n",
       "      <td>4.770685</td>\n",
       "      <td>7.3750</td>\n",
       "      <td>0.0</td>\n",
       "      <td>3.314186</td>\n",
       "    </tr>\n",
       "    <tr>\n",
       "      <th>1387</th>\n",
       "      <td>37.5</td>\n",
       "      <td>8.0</td>\n",
       "      <td>118.599998</td>\n",
       "      <td>111.0</td>\n",
       "      <td>16.0</td>\n",
       "      <td>13.0</td>\n",
       "      <td>2.0</td>\n",
       "      <td>0.0</td>\n",
       "      <td>1.0</td>\n",
       "      <td>0.0</td>\n",
       "      <td>4.709530</td>\n",
       "      <td>6.9375</td>\n",
       "      <td>0.0</td>\n",
       "      <td>3.624341</td>\n",
       "    </tr>\n",
       "  </tbody>\n",
       "</table>\n",
       "<p>1388 rows × 14 columns</p>\n",
       "</div>"
      ],
      "text/plain": [
       "      faminc  cigtax    cigprice  bwght  fatheduc  motheduc  parity  male  \\\n",
       "0       13.5    16.5  122.300003  109.0      12.0      12.0     1.0   1.0   \n",
       "1        7.5    16.5  122.300003  133.0       6.0      12.0     2.0   1.0   \n",
       "2        0.5    16.5  122.300003  129.0       NaN      12.0     2.0   0.0   \n",
       "3       15.5    16.5  122.300003  126.0      12.0      12.0     2.0   1.0   \n",
       "4       27.5    16.5  122.300003  134.0      14.0      12.0     2.0   1.0   \n",
       "...      ...     ...         ...    ...       ...       ...     ...   ...   \n",
       "1383    27.5    30.0  138.300003  110.0      12.0      12.0     4.0   1.0   \n",
       "1384     5.5    30.0  138.300003  146.0       NaN      16.0     2.0   1.0   \n",
       "1385    65.0     8.0  118.599998  135.0      18.0      16.0     2.0   0.0   \n",
       "1386    27.5     8.0  118.599998  118.0       NaN      14.0     2.0   0.0   \n",
       "1387    37.5     8.0  118.599998  111.0      16.0      13.0     2.0   0.0   \n",
       "\n",
       "      white  cigs    lbwght  bwghtlbs  packs   lfaminc  \n",
       "0       1.0   0.0  4.691348    6.8125    0.0  2.602690  \n",
       "1       0.0   0.0  4.890349    8.3125    0.0  2.014903  \n",
       "2       0.0   0.0  4.859812    8.0625    0.0 -0.693147  \n",
       "3       0.0   0.0  4.836282    7.8750    0.0  2.740840  \n",
       "4       1.0   0.0  4.897840    8.3750    0.0  3.314186  \n",
       "...     ...   ...       ...       ...    ...       ...  \n",
       "1383    1.0   0.0  4.700480    6.8750    0.0  3.314186  \n",
       "1384    1.0   0.0  4.983607    9.1250    0.0  1.704748  \n",
       "1385    1.0   0.0  4.905275    8.4375    0.0  4.174387  \n",
       "1386    1.0   0.0  4.770685    7.3750    0.0  3.314186  \n",
       "1387    1.0   0.0  4.709530    6.9375    0.0  3.624341  \n",
       "\n",
       "[1388 rows x 14 columns]"
      ]
     },
     "execution_count": 2,
     "metadata": {},
     "output_type": "execute_result"
    }
   ],
   "source": [
    "peso = pd.read_stata(r\"../../data/Pesos/peso.dta\")\n",
    "peso"
   ]
  },
  {
   "cell_type": "code",
   "execution_count": 11,
   "id": "49bbc2be",
   "metadata": {},
   "outputs": [],
   "source": [
    "#Creamos dummy \"fumador\" que indique si la madre es fumadora o no fumadora\n",
    "peso['fumador'] = (peso['cigs'] > 0)\n",
    "peso[\"fumador\"] = peso[\"fumador\"].astype(int)\n",
    "# 1 si la madre es fumadora\n",
    "# 0 si la madre no es fumadora"
   ]
  },
  {
   "cell_type": "code",
   "execution_count": 18,
   "id": "bde03a21",
   "metadata": {},
   "outputs": [],
   "source": [
    "peso['fumador'] = peso['fumador'].replace([0],'Madre no Fumadora')\n",
    "peso['fumador'] = peso['fumador'].replace([1],'Madre Fumadora')"
   ]
  },
  {
   "cell_type": "code",
   "execution_count": 26,
   "id": "8136cd87",
   "metadata": {},
   "outputs": [
    {
     "data": {
      "text/plain": [
       "<Figure size 720x432 with 0 Axes>"
      ]
     },
     "execution_count": 26,
     "metadata": {},
     "output_type": "execute_result"
    },
    {
     "data": {
      "text/plain": [
       "<Figure size 720x432 with 0 Axes>"
      ]
     },
     "metadata": {},
     "output_type": "display_data"
    }
   ],
   "source": []
  },
  {
   "cell_type": "code",
   "execution_count": 33,
   "id": "9823f153",
   "metadata": {},
   "outputs": [
    {
     "data": {
      "text/plain": [
       "<seaborn.axisgrid.FacetGrid at 0x120e7eb2070>"
      ]
     },
     "execution_count": 33,
     "metadata": {},
     "output_type": "execute_result"
    },
    {
     "data": {
      "text/plain": [
       "<Figure size 1440x432 with 0 Axes>"
      ]
     },
     "metadata": {},
     "output_type": "display_data"
    },
    {
     "data": {
      "image/png": "[encoded data removed]",
      "text/plain": [
       "<Figure size 432x216 with 2 Axes>"
      ]
     },
     "metadata": {
      "needs_background": "light"
     },
     "output_type": "display_data"
    }
   ],
   "source": [
    "plt.figure(figsize=(20, 6))\n",
    "figure1 = sns.FacetGrid(peso, col=\"fumador\", margin_titles=True)\n",
    "figure1.map(plt.hist, 'lbwght',bins=100)"
   ]
  },
  {
   "cell_type": "code",
   "execution_count": 38,
   "id": "d7018217",
   "metadata": {},
   "outputs": [
    {
     "data": {
      "text/plain": [
       "Text(0, 0.5, 'Densidad')"
      ]
     },
     "execution_count": 38,
     "metadata": {},
     "output_type": "execute_result"
    },
    {
     "data": {
      "image/png": "[encoded data removed]",
      "text/plain": [
       "<Figure size 720x432 with 1 Axes>"
      ]
     },
     "metadata": {
      "needs_background": "light"
     },
     "output_type": "display_data"
    }
   ],
   "source": [
    "fig, ax = plt.subplots(figsize=(10, 6))\n",
    "\n",
    "sns.kdeplot(data=peso, x=\"lbwght\", hue=\"fumador\", cut=0, fill=True, common_norm=False, alpha=0.3)\n",
    "plt.title(\"Densidad de los Pesos de los Recién Nacidos.\")\n",
    "plt.xlabel(\"\")\n",
    "plt.ylabel(\"Densidad\")"
   ]
  },
  {
   "cell_type": "markdown",
   "id": "c5903358",
   "metadata": {},
   "source": [
    "**Crear un coefplot de las siguientes tres regresiones:**\n",
    "- lbwght ~ Dummy\n",
    "- lbwght ~ Dummy + mothedu\n",
    "- lbwght~ Dummy + mothedu + lfaminc + white + Dummy:(mothedu + lfaminc + white)"
   ]
  },
  {
   "cell_type": "code",
   "execution_count": null,
   "id": "3d28bdb4",
   "metadata": {},
   "outputs": [],
   "source": []
  },
  {
   "cell_type": "markdown",
   "id": "905e921d",
   "metadata": {},
   "source": [
    "# 2. Regular expresión y Geocoding"
   ]
  },
  {
   "cell_type": "markdown",
   "id": "5d9131d5",
   "metadata": {},
   "source": [
    "Use la base de datos mental_health_center para crear las columnas del tipo de institución del centro de salud y del RUC. Esta información está contenida en la columna Institución_ruc."
   ]
  },
  {
   "cell_type": "code",
   "execution_count": null,
   "id": "34693fea",
   "metadata": {},
   "outputs": [],
   "source": []
  },
  {
   "cell_type": "code",
   "execution_count": null,
   "id": "95f28829",
   "metadata": {},
   "outputs": [],
   "source": []
  },
  {
   "cell_type": "code",
   "execution_count": null,
   "id": "b3bc5cdf",
   "metadata": {},
   "outputs": [],
   "source": []
  },
  {
   "cell_type": "markdown",
   "id": "5c058519",
   "metadata": {},
   "source": [
    "Use la base de datos mental_health_center para crear columnas con las coordenadas geográficas y la dirección proporcionada por Google map. Resuelva usando un Loop o apply - lambda."
   ]
  }
 ],
 "metadata": {
  "kernelspec": {
   "display_name": "Python 3 (ipykernel)",
   "language": "python",
   "name": "python3"
  },
  "language_info": {
   "codemirror_mode": {
    "name": "ipython",
    "version": 3
   },
   "file_extension": ".py",
   "mimetype": "text/x-python",
   "name": "python",
   "nbconvert_exporter": "python",
   "pygments_lexer": "ipython3",
   "version": "3.9.7"
  }
 },
 "nbformat": 4,
 "nbformat_minor": 5
}
