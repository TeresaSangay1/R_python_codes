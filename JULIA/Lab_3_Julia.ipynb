{
 "cells": [
  {
   "cell_type": "code",
   "execution_count": 16,
   "id": "ec0613f7",
   "metadata": {},
   "outputs": [
    {
     "name": "stderr",
     "output_type": "stream",
     "text": [
      "\u001b[32m\u001b[1m   Resolving\u001b[22m\u001b[39m package versions...\n",
      "\u001b[32m\u001b[1m  No Changes\u001b[22m\u001b[39m to `C:\\Users\\Roberto\\.julia\\environments\\v1.7\\Project.toml`\n",
      "\u001b[32m\u001b[1m  No Changes\u001b[22m\u001b[39m to `C:\\Users\\Roberto\\.julia\\environments\\v1.7\\Manifest.toml`\n"
     ]
    }
   ],
   "source": [
    "import Pkg\n",
    "\n",
    "using Pkg\n",
    "#Pkg.add(\"CSV\")\n",
    "Pkg.add(\"DataFrames\")"
   ]
  },
  {
   "cell_type": "code",
   "execution_count": 17,
   "id": "6d807225",
   "metadata": {
    "scrolled": true
   },
   "outputs": [],
   "source": [
    "using CSV, DataFrames"
   ]
  },
  {
   "cell_type": "code",
   "execution_count": 19,
   "id": "43e946c1",
   "metadata": {},
   "outputs": [
    {
     "data": {
      "text/html": [
       "<div class=\"data-frame\"><p>7,787 rows × 12 columns (omitted printing of 8 columns)</p><table class=\"data-frame\"><thead><tr><th></th><th>show_id</th><th>type</th><th>title</th><th>director</th></tr><tr><th></th><th title=\"String7\">String7</th><th title=\"String7\">String7</th><th title=\"String\">String</th><th title=\"Union{Missing, String}\">String?</th></tr></thead><tbody><tr><th>1</th><td>s1</td><td>TV Show</td><td>3%</td><td><em>missing</em></td></tr><tr><th>2</th><td>s2</td><td>Movie</td><td>7:19</td><td>Jorge Michel Grau</td></tr><tr><th>3</th><td>s3</td><td>Movie</td><td>23:59</td><td>Gilbert Chan</td></tr><tr><th>4</th><td>s4</td><td>Movie</td><td>9</td><td>Shane Acker</td></tr><tr><th>5</th><td>s5</td><td>Movie</td><td>21</td><td>Robert Luketic</td></tr><tr><th>6</th><td>s6</td><td>TV Show</td><td>46</td><td>Serdar Akar</td></tr><tr><th>7</th><td>s7</td><td>Movie</td><td>122</td><td>Yasir Al Yasiri</td></tr><tr><th>8</th><td>s8</td><td>Movie</td><td>187</td><td>Kevin Reynolds</td></tr><tr><th>9</th><td>s9</td><td>Movie</td><td>706</td><td>Shravan Kumar</td></tr><tr><th>10</th><td>s10</td><td>Movie</td><td>1920</td><td>Vikram Bhatt</td></tr><tr><th>11</th><td>s11</td><td>Movie</td><td>1922</td><td>Zak Hilditch</td></tr><tr><th>12</th><td>s12</td><td>TV Show</td><td>1983</td><td><em>missing</em></td></tr><tr><th>13</th><td>s13</td><td>TV Show</td><td>1994</td><td>Diego Enrique Osorno</td></tr><tr><th>14</th><td>s14</td><td>Movie</td><td>2,215</td><td>Nottapon Boonprakob</td></tr><tr><th>15</th><td>s15</td><td>Movie</td><td>3022</td><td>John Suits</td></tr><tr><th>16</th><td>s16</td><td>Movie</td><td>Oct-01</td><td>Kunle Afolayan</td></tr><tr><th>17</th><td>s17</td><td>TV Show</td><td>Feb-09</td><td><em>missing</em></td></tr><tr><th>18</th><td>s18</td><td>Movie</td><td>22-Jul</td><td>Paul Greengrass</td></tr><tr><th>19</th><td>s19</td><td>Movie</td><td>15-Aug</td><td>Swapnaneel Jayakar</td></tr><tr><th>20</th><td>s20</td><td>Movie</td><td>&apos;89</td><td><em>missing</em></td></tr><tr><th>21</th><td>s21</td><td>Movie</td><td>\\u200b\\u200bKuch Bheege Alfaaz</td><td>Onir</td></tr><tr><th>22</th><td>s22</td><td>Movie</td><td>\\u200bGoli Soda 2</td><td>Vijay Milton</td></tr><tr><th>23</th><td>s23</td><td>Movie</td><td>\\u200bMaj Rati \\u200b\\u200bKeteki</td><td>Santwana Bardoloi</td></tr><tr><th>24</th><td>s24</td><td>Movie</td><td>\\u200bMayurakshi</td><td>Atanu Ghosh</td></tr><tr><th>25</th><td>s25</td><td>TV Show</td><td>\\u200bSAINT SEIYA: Knights of the Zodiac</td><td><em>missing</em></td></tr><tr><th>26</th><td>s26</td><td>Movie</td><td>(T)ERROR</td><td>Lyric R. Cabral, David Felix Sutcliffe</td></tr><tr><th>27</th><td>s27</td><td>TV Show</td><td>(Un)Well</td><td><em>missing</em></td></tr><tr><th>28</th><td>s28</td><td>Movie</td><td>#Alive</td><td>Cho Il</td></tr><tr><th>29</th><td>s29</td><td>Movie</td><td>#AnneFrank - Parallel Stories</td><td>Sabina Fedeli, Anna Migotto</td></tr><tr><th>30</th><td>s30</td><td>TV Show</td><td>#blackAF</td><td><em>missing</em></td></tr><tr><th>&vellip;</th><td>&vellip;</td><td>&vellip;</td><td>&vellip;</td><td>&vellip;</td></tr></tbody></table></div>"
      ],
      "text/latex": [
       "\\begin{tabular}{r|ccccc}\n",
       "\t& show\\_id & type & title & director & \\\\\n",
       "\t\\hline\n",
       "\t& String7 & String7 & String & String? & \\\\\n",
       "\t\\hline\n",
       "\t1 & s1 & TV Show & 3\\% & \\emph{missing} & $\\dots$ \\\\\n",
       "\t2 & s2 & Movie & 7:19 & Jorge Michel Grau & $\\dots$ \\\\\n",
       "\t3 & s3 & Movie & 23:59 & Gilbert Chan & $\\dots$ \\\\\n",
       "\t4 & s4 & Movie & 9 & Shane Acker & $\\dots$ \\\\\n",
       "\t5 & s5 & Movie & 21 & Robert Luketic & $\\dots$ \\\\\n",
       "\t6 & s6 & TV Show & 46 & Serdar Akar & $\\dots$ \\\\\n",
       "\t7 & s7 & Movie & 122 & Yasir Al Yasiri & $\\dots$ \\\\\n",
       "\t8 & s8 & Movie & 187 & Kevin Reynolds & $\\dots$ \\\\\n",
       "\t9 & s9 & Movie & 706 & Shravan Kumar & $\\dots$ \\\\\n",
       "\t10 & s10 & Movie & 1920 & Vikram Bhatt & $\\dots$ \\\\\n",
       "\t11 & s11 & Movie & 1922 & Zak Hilditch & $\\dots$ \\\\\n",
       "\t12 & s12 & TV Show & 1983 & \\emph{missing} & $\\dots$ \\\\\n",
       "\t13 & s13 & TV Show & 1994 & Diego Enrique Osorno & $\\dots$ \\\\\n",
       "\t14 & s14 & Movie & 2,215 & Nottapon Boonprakob & $\\dots$ \\\\\n",
       "\t15 & s15 & Movie & 3022 & John Suits & $\\dots$ \\\\\n",
       "\t16 & s16 & Movie & Oct-01 & Kunle Afolayan & $\\dots$ \\\\\n",
       "\t17 & s17 & TV Show & Feb-09 & \\emph{missing} & $\\dots$ \\\\\n",
       "\t18 & s18 & Movie & 22-Jul & Paul Greengrass & $\\dots$ \\\\\n",
       "\t19 & s19 & Movie & 15-Aug & Swapnaneel Jayakar & $\\dots$ \\\\\n",
       "\t20 & s20 & Movie & '89 & \\emph{missing} & $\\dots$ \\\\\n",
       "\t21 & s21 & Movie & \\textbackslash{}u200b\\textbackslash{}u200bKuch Bheege Alfaaz & Onir & $\\dots$ \\\\\n",
       "\t22 & s22 & Movie & \\textbackslash{}u200bGoli Soda 2 & Vijay Milton & $\\dots$ \\\\\n",
       "\t23 & s23 & Movie & \\textbackslash{}u200bMaj Rati \\textbackslash{}u200b\\textbackslash{}u200bKeteki & Santwana Bardoloi & $\\dots$ \\\\\n",
       "\t24 & s24 & Movie & \\textbackslash{}u200bMayurakshi & Atanu Ghosh & $\\dots$ \\\\\n",
       "\t25 & s25 & TV Show & \\textbackslash{}u200bSAINT SEIYA: Knights of the Zodiac & \\emph{missing} & $\\dots$ \\\\\n",
       "\t26 & s26 & Movie & (T)ERROR & Lyric R. Cabral, David Felix Sutcliffe & $\\dots$ \\\\\n",
       "\t27 & s27 & TV Show & (Un)Well & \\emph{missing} & $\\dots$ \\\\\n",
       "\t28 & s28 & Movie & \\#Alive & Cho Il & $\\dots$ \\\\\n",
       "\t29 & s29 & Movie & \\#AnneFrank - Parallel Stories & Sabina Fedeli, Anna Migotto & $\\dots$ \\\\\n",
       "\t30 & s30 & TV Show & \\#blackAF & \\emph{missing} & $\\dots$ \\\\\n",
       "\t$\\dots$ & $\\dots$ & $\\dots$ & $\\dots$ & $\\dots$ &  \\\\\n",
       "\\end{tabular}\n"
      ],
      "text/plain": [
       "\u001b[1m7787×12 DataFrame\u001b[0m\n",
       "\u001b[1m  Row \u001b[0m│\u001b[1m show_id \u001b[0m\u001b[1m type    \u001b[0m\u001b[1m title                             \u001b[0m\u001b[1m director         \u001b[0m ⋯\n",
       "\u001b[1m      \u001b[0m│\u001b[90m String7 \u001b[0m\u001b[90m String7 \u001b[0m\u001b[90m String                            \u001b[0m\u001b[90m String?          \u001b[0m ⋯\n",
       "──────┼─────────────────────────────────────────────────────────────────────────\n",
       "    1 │ s1       TV Show  3%                                \u001b[90m missing          \u001b[0m ⋯\n",
       "    2 │ s2       Movie    7:19                               Jorge Michel Grau\n",
       "    3 │ s3       Movie    23:59                              Gilbert Chan\n",
       "    4 │ s4       Movie    9                                  Shane Acker\n",
       "    5 │ s5       Movie    21                                 Robert Luketic    ⋯\n",
       "    6 │ s6       TV Show  46                                 Serdar Akar\n",
       "    7 │ s7       Movie    122                                Yasir Al Yasiri\n",
       "    8 │ s8       Movie    187                                Kevin Reynolds\n",
       "    9 │ s9       Movie    706                                Shravan Kumar     ⋯\n",
       "   10 │ s10      Movie    1920                               Vikram Bhatt\n",
       "   11 │ s11      Movie    1922                               Zak Hilditch\n",
       "  ⋮   │    ⋮        ⋮                     ⋮                                  ⋮ ⋱\n",
       " 7778 │ s7778    TV Show  Zombie Dumb                       \u001b[90m missing\u001b[0m\n",
       " 7779 │ s7779    Movie    Zombieland                         Ruben Fleischer   ⋯\n",
       " 7780 │ s7780    TV Show  Zona Rosa                         \u001b[90m missing\u001b[0m\n",
       " 7781 │ s7781    Movie    Zoo                                Shlok Sharma\n",
       " 7782 │ s7782    Movie    Zoom                               Peter Hewitt\n",
       " 7783 │ s7783    Movie    Zozo                               Josef Fares       ⋯\n",
       " 7784 │ s7784    Movie    Zubaan                             Mozez Singh\n",
       " 7785 │ s7785    Movie    Zulu Man in Japan                 \u001b[90m missing\u001b[0m\n",
       " 7786 │ s7786    TV Show  Zumbo's Just Desserts             \u001b[90m missing\u001b[0m\n",
       " 7787 │ s7787    Movie    ZZ TOP: THAT LITTLE OL' BAND FRO…  Sam Dunn          ⋯\n",
       "\u001b[36m                                                 9 columns and 7766 rows omitted\u001b[0m"
      ]
     },
     "execution_count": 19,
     "metadata": {},
     "output_type": "execute_result"
    }
   ],
   "source": [
    "base = CSV.read(\"../../data/netflix_titles.csv\", DataFrame)"
   ]
  },
  {
   "cell_type": "code",
   "execution_count": 24,
   "id": "0b9b339a",
   "metadata": {},
   "outputs": [
    {
     "data": {
      "text/html": [
       "<div class=\"data-frame\"><p>7,787 rows × 12 columns (omitted printing of 8 columns)</p><table class=\"data-frame\"><thead><tr><th></th><th>show_id</th><th>type</th><th>title</th><th>director</th></tr><tr><th></th><th title=\"String7\">String7</th><th title=\"String7\">String7</th><th title=\"String\">String</th><th title=\"Union{Missing, String}\">String?</th></tr></thead><tbody><tr><th>1</th><td>s1</td><td>TV Show</td><td>3%</td><td><em>missing</em></td></tr><tr><th>2</th><td>s2</td><td>Movie</td><td>7:19</td><td>Jorge Michel Grau</td></tr><tr><th>3</th><td>s3</td><td>Movie</td><td>23:59</td><td>Gilbert Chan</td></tr><tr><th>4</th><td>s4</td><td>Movie</td><td>9</td><td>Shane Acker</td></tr><tr><th>5</th><td>s5</td><td>Movie</td><td>21</td><td>Robert Luketic</td></tr><tr><th>6</th><td>s6</td><td>TV Show</td><td>46</td><td>Serdar Akar</td></tr><tr><th>7</th><td>s7</td><td>Movie</td><td>122</td><td>Yasir Al Yasiri</td></tr><tr><th>8</th><td>s8</td><td>Movie</td><td>187</td><td>Kevin Reynolds</td></tr><tr><th>9</th><td>s9</td><td>Movie</td><td>706</td><td>Shravan Kumar</td></tr><tr><th>10</th><td>s10</td><td>Movie</td><td>1920</td><td>Vikram Bhatt</td></tr><tr><th>11</th><td>s11</td><td>Movie</td><td>1922</td><td>Zak Hilditch</td></tr><tr><th>12</th><td>s12</td><td>TV Show</td><td>1983</td><td><em>missing</em></td></tr><tr><th>13</th><td>s13</td><td>TV Show</td><td>1994</td><td>Diego Enrique Osorno</td></tr><tr><th>14</th><td>s14</td><td>Movie</td><td>2,215</td><td>Nottapon Boonprakob</td></tr><tr><th>15</th><td>s15</td><td>Movie</td><td>3022</td><td>John Suits</td></tr><tr><th>16</th><td>s16</td><td>Movie</td><td>Oct-01</td><td>Kunle Afolayan</td></tr><tr><th>17</th><td>s17</td><td>TV Show</td><td>Feb-09</td><td><em>missing</em></td></tr><tr><th>18</th><td>s18</td><td>Movie</td><td>22-Jul</td><td>Paul Greengrass</td></tr><tr><th>19</th><td>s19</td><td>Movie</td><td>15-Aug</td><td>Swapnaneel Jayakar</td></tr><tr><th>20</th><td>s20</td><td>Movie</td><td>&apos;89</td><td><em>missing</em></td></tr><tr><th>21</th><td>s21</td><td>Movie</td><td>\\u200b\\u200bKuch Bheege Alfaaz</td><td>Onir</td></tr><tr><th>22</th><td>s22</td><td>Movie</td><td>\\u200bGoli Soda 2</td><td>Vijay Milton</td></tr><tr><th>23</th><td>s23</td><td>Movie</td><td>\\u200bMaj Rati \\u200b\\u200bKeteki</td><td>Santwana Bardoloi</td></tr><tr><th>24</th><td>s24</td><td>Movie</td><td>\\u200bMayurakshi</td><td>Atanu Ghosh</td></tr><tr><th>25</th><td>s25</td><td>TV Show</td><td>\\u200bSAINT SEIYA: Knights of the Zodiac</td><td><em>missing</em></td></tr><tr><th>26</th><td>s26</td><td>Movie</td><td>(T)ERROR</td><td>Lyric R. Cabral, David Felix Sutcliffe</td></tr><tr><th>27</th><td>s27</td><td>TV Show</td><td>(Un)Well</td><td><em>missing</em></td></tr><tr><th>28</th><td>s28</td><td>Movie</td><td>#Alive</td><td>Cho Il</td></tr><tr><th>29</th><td>s29</td><td>Movie</td><td>#AnneFrank - Parallel Stories</td><td>Sabina Fedeli, Anna Migotto</td></tr><tr><th>30</th><td>s30</td><td>TV Show</td><td>#blackAF</td><td><em>missing</em></td></tr><tr><th>&vellip;</th><td>&vellip;</td><td>&vellip;</td><td>&vellip;</td><td>&vellip;</td></tr></tbody></table></div>"
      ],
      "text/latex": [
       "\\begin{tabular}{r|ccccc}\n",
       "\t& show\\_id & type & title & director & \\\\\n",
       "\t\\hline\n",
       "\t& String7 & String7 & String & String? & \\\\\n",
       "\t\\hline\n",
       "\t1 & s1 & TV Show & 3\\% & \\emph{missing} & $\\dots$ \\\\\n",
       "\t2 & s2 & Movie & 7:19 & Jorge Michel Grau & $\\dots$ \\\\\n",
       "\t3 & s3 & Movie & 23:59 & Gilbert Chan & $\\dots$ \\\\\n",
       "\t4 & s4 & Movie & 9 & Shane Acker & $\\dots$ \\\\\n",
       "\t5 & s5 & Movie & 21 & Robert Luketic & $\\dots$ \\\\\n",
       "\t6 & s6 & TV Show & 46 & Serdar Akar & $\\dots$ \\\\\n",
       "\t7 & s7 & Movie & 122 & Yasir Al Yasiri & $\\dots$ \\\\\n",
       "\t8 & s8 & Movie & 187 & Kevin Reynolds & $\\dots$ \\\\\n",
       "\t9 & s9 & Movie & 706 & Shravan Kumar & $\\dots$ \\\\\n",
       "\t10 & s10 & Movie & 1920 & Vikram Bhatt & $\\dots$ \\\\\n",
       "\t11 & s11 & Movie & 1922 & Zak Hilditch & $\\dots$ \\\\\n",
       "\t12 & s12 & TV Show & 1983 & \\emph{missing} & $\\dots$ \\\\\n",
       "\t13 & s13 & TV Show & 1994 & Diego Enrique Osorno & $\\dots$ \\\\\n",
       "\t14 & s14 & Movie & 2,215 & Nottapon Boonprakob & $\\dots$ \\\\\n",
       "\t15 & s15 & Movie & 3022 & John Suits & $\\dots$ \\\\\n",
       "\t16 & s16 & Movie & Oct-01 & Kunle Afolayan & $\\dots$ \\\\\n",
       "\t17 & s17 & TV Show & Feb-09 & \\emph{missing} & $\\dots$ \\\\\n",
       "\t18 & s18 & Movie & 22-Jul & Paul Greengrass & $\\dots$ \\\\\n",
       "\t19 & s19 & Movie & 15-Aug & Swapnaneel Jayakar & $\\dots$ \\\\\n",
       "\t20 & s20 & Movie & '89 & \\emph{missing} & $\\dots$ \\\\\n",
       "\t21 & s21 & Movie & \\textbackslash{}u200b\\textbackslash{}u200bKuch Bheege Alfaaz & Onir & $\\dots$ \\\\\n",
       "\t22 & s22 & Movie & \\textbackslash{}u200bGoli Soda 2 & Vijay Milton & $\\dots$ \\\\\n",
       "\t23 & s23 & Movie & \\textbackslash{}u200bMaj Rati \\textbackslash{}u200b\\textbackslash{}u200bKeteki & Santwana Bardoloi & $\\dots$ \\\\\n",
       "\t24 & s24 & Movie & \\textbackslash{}u200bMayurakshi & Atanu Ghosh & $\\dots$ \\\\\n",
       "\t25 & s25 & TV Show & \\textbackslash{}u200bSAINT SEIYA: Knights of the Zodiac & \\emph{missing} & $\\dots$ \\\\\n",
       "\t26 & s26 & Movie & (T)ERROR & Lyric R. Cabral, David Felix Sutcliffe & $\\dots$ \\\\\n",
       "\t27 & s27 & TV Show & (Un)Well & \\emph{missing} & $\\dots$ \\\\\n",
       "\t28 & s28 & Movie & \\#Alive & Cho Il & $\\dots$ \\\\\n",
       "\t29 & s29 & Movie & \\#AnneFrank - Parallel Stories & Sabina Fedeli, Anna Migotto & $\\dots$ \\\\\n",
       "\t30 & s30 & TV Show & \\#blackAF & \\emph{missing} & $\\dots$ \\\\\n",
       "\t$\\dots$ & $\\dots$ & $\\dots$ & $\\dots$ & $\\dots$ &  \\\\\n",
       "\\end{tabular}\n"
      ],
      "text/plain": [
       "\u001b[1m7787×12 DataFrame\u001b[0m\n",
       "\u001b[1m  Row \u001b[0m│\u001b[1m show_id \u001b[0m\u001b[1m type    \u001b[0m\u001b[1m title                             \u001b[0m\u001b[1m director         \u001b[0m ⋯\n",
       "\u001b[1m      \u001b[0m│\u001b[90m String7 \u001b[0m\u001b[90m String7 \u001b[0m\u001b[90m String                            \u001b[0m\u001b[90m String?          \u001b[0m ⋯\n",
       "──────┼─────────────────────────────────────────────────────────────────────────\n",
       "    1 │ s1       TV Show  3%                                \u001b[90m missing          \u001b[0m ⋯\n",
       "    2 │ s2       Movie    7:19                               Jorge Michel Grau\n",
       "    3 │ s3       Movie    23:59                              Gilbert Chan\n",
       "    4 │ s4       Movie    9                                  Shane Acker\n",
       "    5 │ s5       Movie    21                                 Robert Luketic    ⋯\n",
       "    6 │ s6       TV Show  46                                 Serdar Akar\n",
       "    7 │ s7       Movie    122                                Yasir Al Yasiri\n",
       "    8 │ s8       Movie    187                                Kevin Reynolds\n",
       "    9 │ s9       Movie    706                                Shravan Kumar     ⋯\n",
       "   10 │ s10      Movie    1920                               Vikram Bhatt\n",
       "   11 │ s11      Movie    1922                               Zak Hilditch\n",
       "  ⋮   │    ⋮        ⋮                     ⋮                                  ⋮ ⋱\n",
       " 7778 │ s7778    TV Show  Zombie Dumb                       \u001b[90m missing\u001b[0m\n",
       " 7779 │ s7779    Movie    Zombieland                         Ruben Fleischer   ⋯\n",
       " 7780 │ s7780    TV Show  Zona Rosa                         \u001b[90m missing\u001b[0m\n",
       " 7781 │ s7781    Movie    Zoo                                Shlok Sharma\n",
       " 7782 │ s7782    Movie    Zoom                               Peter Hewitt\n",
       " 7783 │ s7783    Movie    Zozo                               Josef Fares       ⋯\n",
       " 7784 │ s7784    Movie    Zubaan                             Mozez Singh\n",
       " 7785 │ s7785    Movie    Zulu Man in Japan                 \u001b[90m missing\u001b[0m\n",
       " 7786 │ s7786    TV Show  Zumbo's Just Desserts             \u001b[90m missing\u001b[0m\n",
       " 7787 │ s7787    Movie    ZZ TOP: THAT LITTLE OL' BAND FRO…  Sam Dunn          ⋯\n",
       "\u001b[36m                                                 9 columns and 7766 rows omitted\u001b[0m"
      ]
     },
     "execution_count": 24,
     "metadata": {},
     "output_type": "execute_result"
    }
   ],
   "source": [
    "base"
   ]
  },
  {
   "cell_type": "code",
   "execution_count": null,
   "id": "0059c0d0",
   "metadata": {},
   "outputs": [],
   "source": []
  },
  {
   "cell_type": "code",
   "execution_count": null,
   "id": "aac038f2",
   "metadata": {},
   "outputs": [],
   "source": []
  },
  {
   "cell_type": "code",
   "execution_count": null,
   "id": "c02d2efd",
   "metadata": {},
   "outputs": [],
   "source": []
  },
  {
   "cell_type": "code",
   "execution_count": null,
   "id": "fb41d72c",
   "metadata": {},
   "outputs": [],
   "source": []
  }
 ],
 "metadata": {
  "kernelspec": {
   "display_name": "Julia 1.7.2",
   "language": "julia",
   "name": "julia-1.7"
  },
  "language_info": {
   "file_extension": ".jl",
   "mimetype": "application/julia",
   "name": "julia",
   "version": "1.7.2"
  }
 },
 "nbformat": 4,
 "nbformat_minor": 5
}
